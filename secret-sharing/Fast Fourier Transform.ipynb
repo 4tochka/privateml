{
 "cells": [
  {
   "cell_type": "code",
   "execution_count": 3,
   "metadata": {
    "collapsed": true
   },
   "outputs": [],
   "source": [
    "import random"
   ]
  },
  {
   "cell_type": "markdown",
   "metadata": {},
   "source": [
    "# Primes\n",
    "\n",
    "See https://inventwithpython.com/rabinMiller.py"
   ]
  },
  {
   "cell_type": "code",
   "execution_count": 4,
   "metadata": {
    "collapsed": true
   },
   "outputs": [],
   "source": [
    "SMALL_PRIMES = [2, 3, 5, 7, 11, 13, 17, 19, 23, 29, 31, 37, 41, 43, 47, 53, 59, 61, 67, 71, 73, 79, 83, 89, 97, 101, 103, 107, 109, 113, 127, 131, 137, 139, 149, 151, 157, 163, 167, 173, 179, 181, 191, 193, 197, 199, 211, 223, 227, 229, 233, 239, 241, 251, 257, 263, 269, 271, 277, 281, 283, 293, 307, 311, 313, 317, 331, 337, 347, 349, 353, 359, 367, 373, 379, 383, 389, 397, 401, 409, 419, 421, 431, 433, 439, 443, 449, 457, 461, 463, 467, 479, 487, 491, 499, 503, 509, 521, 523, 541, 547, 557, 563, 569, 571, 577, 587, 593, 599, 601, 607, 613, 617, 619, 631, 641, 643, 647, 653, 659, 661, 673, 677, 683, 691, 701, 709, 719, 727, 733, 739, 743, 751, 757, 761, 769, 773, 787, 797, 809, 811, 821, 823, 827, 829, 839, 853, 857, 859, 863, 877, 881, 883, 887, 907, 911, 919, 929, 937, 941, 947, 953, 967, 971, 977, 983, 991, 997]"
   ]
  },
  {
   "cell_type": "code",
   "execution_count": 5,
   "metadata": {
    "collapsed": true
   },
   "outputs": [],
   "source": [
    "def rewrite(num):\n",
    "    s = num - 1\n",
    "    t = 0\n",
    "    while s % 2 == 0:\n",
    "        s = s // 2\n",
    "        t += 1\n",
    "    return s, t\n",
    "\n",
    "def rabin_miller(num, iterations=10):\n",
    "    s, t = rewrite(num)\n",
    "\n",
    "    for _ in range(iterations):\n",
    "        a = random.randrange(2, num - 1)\n",
    "        v = pow(a, s, num)\n",
    "        if v != 1:\n",
    "            i = 0\n",
    "            while v != (num - 1):\n",
    "                if i == t - 1:\n",
    "                    return False\n",
    "                else:\n",
    "                    i = i + 1\n",
    "                    v = (v ** 2) % num\n",
    "    return True"
   ]
  },
  {
   "cell_type": "code",
   "execution_count": 6,
   "metadata": {
    "collapsed": true
   },
   "outputs": [],
   "source": [
    "def is_prime(num):\n",
    "    if (num < 2): return False\n",
    "    for prime in SMALL_PRIMES:\n",
    "        if num == prime: return True\n",
    "        if num % prime == 0: return False\n",
    "    return rabin_miller(num)\n",
    "\n",
    "assert(not is_prime(1))\n",
    "assert(    is_prime(2))\n",
    "assert(    is_prime(3))\n",
    "assert(not is_prime(4))\n",
    "assert(    is_prime(5))\n",
    "assert(not is_prime(6))\n",
    "assert(    is_prime(7))\n",
    "assert(not is_prime(8))\n",
    "assert(not is_prime(9))"
   ]
  },
  {
   "cell_type": "code",
   "execution_count": 7,
   "metadata": {
    "collapsed": true
   },
   "outputs": [],
   "source": [
    "Q = 433\n",
    "assert(is_prime(Q))"
   ]
  },
  {
   "cell_type": "markdown",
   "metadata": {},
   "source": [
    "# Basic algorithms"
   ]
  },
  {
   "cell_type": "code",
   "execution_count": 8,
   "metadata": {
    "collapsed": true
   },
   "outputs": [],
   "source": [
    "def egcd(a, b):\n",
    "    if a == 0:\n",
    "        return (b, 0, 1)\n",
    "    else:\n",
    "        g, y, x = egcd(b % a, a)\n",
    "        return (g, x - (b // a) * y, y)\n",
    "\n",
    "# from http://www.ucl.ac.uk/~ucahcjm/combopt/ext_gcd_python_programs.pdf\n",
    "def egcd_binary(a, b):\n",
    "    u, v, s, t, r = 1, 0, 0, 1, 0\n",
    "    while (a % 2 == 0) and (b % 2 == 0):\n",
    "        a, b, r = a//2, b//2, r+1\n",
    "    alpha, beta = a, b\n",
    "    while (a % 2 == 0):\n",
    "        a = a//2\n",
    "        if (u % 2 == 0) and (v % 2 == 0):\n",
    "            u, v = u//2, v//2\n",
    "        else:\n",
    "            u, v = (u + beta)//2, (v - alpha)//2\n",
    "    while a != b:\n",
    "        if (b % 2 == 0):\n",
    "            b = b//2\n",
    "            if (s % 2 == 0) and (t % 2 == 0):\n",
    "                s, t = s//2, t//2\n",
    "            else:\n",
    "                s, t = (s + beta)//2, (t - alpha)//2\n",
    "        elif b < a:\n",
    "            a, b, u, v, s, t = b, a, s, t, u, v\n",
    "        else:\n",
    "            b, s, t = b - a, s - u, t - v\n",
    "    return (2 ** r) * a, s, t\n",
    "\n",
    "\n",
    "def inverse(a):\n",
    "    _, b, _ = egcd_binary(a, Q)\n",
    "    return b\n",
    "\n",
    "\n",
    "for a in range(1, Q):\n",
    "    assert(a * inverse(a) % Q == 1)"
   ]
  },
  {
   "cell_type": "code",
   "execution_count": 9,
   "metadata": {
    "collapsed": true
   },
   "outputs": [],
   "source": [
    "def eval_poly_at(coefs, point):\n",
    "    return sum( (point**degree * coef) % Q for degree, coef in enumerate(coefs) ) % Q\n",
    "\n",
    "assert(eval_poly_at([1,2,3], 0) == 1 % Q)\n",
    "assert(eval_poly_at([1,2,3], 1) == 6 % Q)\n",
    "assert(eval_poly_at([1,2,3], 2) == 17 % Q)"
   ]
  },
  {
   "cell_type": "markdown",
   "metadata": {},
   "source": [
    "# Parameters"
   ]
  },
  {
   "cell_type": "code",
   "execution_count": 10,
   "metadata": {
    "collapsed": true
   },
   "outputs": [],
   "source": [
    "def is_power_of(q, base):\n",
    "    while q != 1:\n",
    "        q, r = q // base, q % base\n",
    "        if r != 0:\n",
    "            return False\n",
    "    return True\n",
    "\n",
    "assert(    is_power_of(1, 2))\n",
    "assert(    is_power_of(2, 2))\n",
    "assert(not is_power_of(3, 2))\n",
    "assert(    is_power_of(4, 2))\n",
    "assert(not is_power_of(5, 2))\n",
    "assert(not is_power_of(6, 2))\n",
    "assert(not is_power_of(7, 2))\n",
    "assert(    is_power_of(8, 2))"
   ]
  },
  {
   "cell_type": "code",
   "execution_count": 11,
   "metadata": {
    "collapsed": true
   },
   "outputs": [],
   "source": [
    "ORDER2 = 8\n",
    "ORDER3 = 9\n",
    "assert(is_power_of(ORDER2, 2))\n",
    "assert(is_power_of(ORDER3, 3))\n",
    "\n",
    "ORDER = Q - 1\n",
    "assert(ORDER % ORDER2 == 0)\n",
    "assert(ORDER % ORDER3 == 0)\n",
    "\n",
    "OMEGA2 = 354\n",
    "assert((OMEGA2**ORDER2) % Q == 1) # root of unity\n",
    "assert(1 not in ( (OMEGA2 ** e) % Q for e in range(1, ORDER2) )) # principal \n",
    "\n",
    "OMEGA3 = 150\n",
    "assert((OMEGA3**ORDER3) % Q == 1) # root of unity\n",
    "assert(1 not in ( (OMEGA3 ** e) % Q for e in range(1, ORDER3) )) # principal"
   ]
  },
  {
   "cell_type": "markdown",
   "metadata": {},
   "source": [
    "# Fast Fourier Transform"
   ]
  },
  {
   "cell_type": "code",
   "execution_count": 12,
   "metadata": {
    "collapsed": true
   },
   "outputs": [],
   "source": [
    "# len(aX) must be a power of 2\n",
    "def fft2_forward(aX, omega=OMEGA2):\n",
    "    if len(aX) == 1:\n",
    "        return aX\n",
    "\n",
    "    # split A(x) into B(x) and C(x) such that A(x) = B(x^2) + x C(x^2)\n",
    "    bX = aX[0::2]\n",
    "    cX = aX[1::2]\n",
    "    \n",
    "    # apply recursively\n",
    "    omega_squared = (omega**2) % Q\n",
    "    B = fft2_forward(bX, omega_squared)\n",
    "    C = fft2_forward(cX, omega_squared)\n",
    "        \n",
    "    # combine subresults\n",
    "    A = [0] * len(aX)\n",
    "    Nhalf = len(aX) // 2\n",
    "    for i in range(0, Nhalf):\n",
    "        \n",
    "        j = i\n",
    "        x = (omega**j) % Q\n",
    "        A[j] = (B[i] + x * C[i]) % Q\n",
    "        \n",
    "        j = i + Nhalf\n",
    "        x = (omega**j) % Q\n",
    "        A[j] = (B[i] + x * C[i]) % Q\n",
    "        \n",
    "    return A\n",
    "\n",
    "def fft2_backward(A):\n",
    "    N_inv = inverse(len(A))\n",
    "    return [ (a * N_inv) % Q for a in fft2_forward(A, inverse(OMEGA2)) ]\n",
    "\n",
    "\n",
    "coefs = [1,2,3,4,5,6,7,8]\n",
    "assert(len(coefs) == ORDER2)\n",
    "\n",
    "values = fft2_forward(coefs)\n",
    "assert(len(values) == ORDER2)\n",
    "assert(values == [ eval_poly_at(coefs, OMEGA2**degree) for degree in range(ORDER2) ])\n",
    "\n",
    "coefs_recovered = fft2_backward(values)\n",
    "assert(coefs == coefs_recovered)"
   ]
  },
  {
   "cell_type": "code",
   "execution_count": 13,
   "metadata": {
    "collapsed": true
   },
   "outputs": [],
   "source": [
    "# len(aX) must be a power of 3\n",
    "def fft3_forward(aX, omega=OMEGA3):\n",
    "    if len(aX) == 1:\n",
    "        return aX\n",
    "\n",
    "    # split A(x) into B(x), C(x), and D(x) such that A(x) = B(x^3) + x C(x^3) + x^2 D(x^3)\n",
    "    bX = aX[0::3]\n",
    "    cX = aX[1::3]\n",
    "    dX = aX[2::3]\n",
    "    \n",
    "    # apply recursively\n",
    "    omega_cubed = (omega**3) % Q\n",
    "    B = fft3_forward(bX, omega_cubed)\n",
    "    C = fft3_forward(cX, omega_cubed)\n",
    "    D = fft3_forward(dX, omega_cubed)\n",
    "        \n",
    "    # combine subresults\n",
    "    A = [0] * len(aX)\n",
    "    Nthird = len(aX) // 3\n",
    "    for i in range(Nthird):\n",
    "        \n",
    "        j = i\n",
    "        x = (omega**j) % Q\n",
    "        xx = (x * x) % Q\n",
    "        A[j] = (B[i] + x * C[i] + xx * D[i]) % Q\n",
    "        \n",
    "        j = i + Nthird\n",
    "        x = (omega**j) % Q\n",
    "        xx = (x * x) % Q\n",
    "        A[j] = (B[i] + x * C[i] + xx * D[i]) % Q\n",
    "        \n",
    "        j = i + Nthird + Nthird\n",
    "        x = (omega**j) % Q\n",
    "        xx = (x * x) % Q\n",
    "        A[j] = (B[i] + x * C[i] + xx * D[i]) % Q\n",
    "\n",
    "    return A\n",
    "\n",
    "def fft3_backward(A):\n",
    "    N_inv = inverse(len(A))\n",
    "    return [ (a * N_inv) % Q for a in fft3_forward(A, inverse(OMEGA3)) ]\n",
    "\n",
    "\n",
    "coefs = [1,2,3,4,5,6,7,8,9]\n",
    "assert(len(coefs) == ORDER3)\n",
    "\n",
    "values = fft3_forward(coefs)\n",
    "assert(len(values) == ORDER3)\n",
    "assert(values == [ eval_poly_at(coefs, OMEGA3**degree) for degree in range(ORDER3) ])\n",
    "\n",
    "coefs_recovered = fft3_backward(values)\n",
    "assert(coefs == coefs_recovered)"
   ]
  },
  {
   "cell_type": "markdown",
   "metadata": {
    "collapsed": true
   },
   "source": [
    "## Slightly optimised"
   ]
  },
  {
   "cell_type": "code",
   "execution_count": 14,
   "metadata": {
    "collapsed": true
   },
   "outputs": [],
   "source": [
    "# len(aX) must be a power of 2\n",
    "def fft2_forward(aX, omega=OMEGA2):\n",
    "    if len(aX) == 1:\n",
    "        return aX\n",
    "\n",
    "    # split A(x) into B(x) and C(x) -- A(x) = B(x^2) + x C(x^2)\n",
    "    bX = aX[0::2]\n",
    "    cX = aX[1::2]\n",
    "    \n",
    "    # apply recursively\n",
    "    omega_squared = (omega**2) % Q\n",
    "    B = fft2_forward(bX, omega_squared)\n",
    "    C = fft2_forward(cX, omega_squared)\n",
    "        \n",
    "    # combine subresults\n",
    "    A = [0] * len(aX)\n",
    "    Nhalf = len(aX) >> 1\n",
    "    for i in range(0, Nhalf):\n",
    "        \n",
    "        x = (omega**i) % Q\n",
    "        A[i]         = (B[i] + x * C[i]) % Q\n",
    "        A[i + Nhalf] = (B[i] - x * C[i]) % Q\n",
    "        \n",
    "    return A\n",
    "\n",
    "def fft2_backward(A):\n",
    "    N_inv = inverse(len(A))\n",
    "    return [ (a * N_inv) % Q for a in fft2_forward(A, inverse(OMEGA2)) ]\n",
    "\n",
    "coefs = [1,2,3,4,5,6,7,8]\n",
    "values = fft2_forward(coefs)\n",
    "coefs_recovered = fft2_backward(values)\n",
    "assert(coefs == coefs_recovered)"
   ]
  },
  {
   "cell_type": "code",
   "execution_count": 15,
   "metadata": {
    "collapsed": true
   },
   "outputs": [],
   "source": [
    "# len(aX) must be a power of 3\n",
    "def fft3_forward(aX, omega=OMEGA3):\n",
    "    if len(aX) == 1:\n",
    "        return aX\n",
    "\n",
    "    # split A(x) into B(x), C(x), and D(x): A(x) = B(x^3) + x C(x^3) + x^2 D(x^3)\n",
    "    bX = aX[0::3]\n",
    "    cX = aX[1::3]\n",
    "    dX = aX[2::3]\n",
    "    \n",
    "    # apply recursively\n",
    "    omega_cubed = (omega**3) % Q\n",
    "    B = fft3_forward(bX, omega_cubed)\n",
    "    C = fft3_forward(cX, omega_cubed)\n",
    "    D = fft3_forward(dX, omega_cubed)\n",
    "        \n",
    "    # combine subresults\n",
    "    A = [0] * len(aX)\n",
    "    Nthird = len(aX) // 3\n",
    "    omega_Nthird = (omega**Nthird) % Q\n",
    "    point = 1\n",
    "    for i in range(Nthird):\n",
    "        \n",
    "        x = point\n",
    "        xx = (x * x) % Q\n",
    "        A[i                  ] = (B[i] + x * C[i] + xx * D[i]) % Q\n",
    "        \n",
    "        x = x * omega_Nthird % Q\n",
    "        xx = (x * x) % Q\n",
    "        A[i + Nthird         ] = (B[i] + x * C[i] + xx * D[i]) % Q\n",
    "        \n",
    "        x = x * omega_Nthird % Q\n",
    "        xx = (x * x) % Q\n",
    "        A[i + Nthird + Nthird] = (B[i] + x * C[i] + xx * D[i]) % Q\n",
    "\n",
    "        point = (point * omega) % Q\n",
    "        \n",
    "    return A\n",
    "\n",
    "def fft3_backward(A):\n",
    "    N_inv = inverse(len(A))\n",
    "    return [ (a * N_inv) % Q for a in fft3_forward(A, inverse(OMEGA3)) ]\n",
    "\n",
    "coefs = [1,2,3,4,5,6,7,8,9]\n",
    "values = fft3_forward(coefs)\n",
    "coefs_recovered = fft3_backward(values)\n",
    "assert(coefs == coefs_recovered)"
   ]
  },
  {
   "cell_type": "markdown",
   "metadata": {},
   "source": [
    "# Packed Secret Sharing"
   ]
  },
  {
   "cell_type": "code",
   "execution_count": 16,
   "metadata": {
    "collapsed": false
   },
   "outputs": [
    {
     "name": "stdout",
     "output_type": "stream",
     "text": [
      "Points used for secrets: [79, 148, 179, 254, 285, 354, 432]\n",
      "Points used for shares:  [27, 150, 153, 198, 234, 256, 296, 417]\n"
     ]
    }
   ],
   "source": [
    "T = 4\n",
    "K = 3\n",
    "N = 8\n",
    "assert(ORDER2 == T + K + 1)\n",
    "assert(ORDER3 == N + 1)\n",
    "\n",
    "POINTS_SECRETS = set( (OMEGA2 ** e) % Q for e in range(1, ORDER2) ) # secrets, incl randomness\n",
    "POINTS_SHARES  = set( (OMEGA3 ** e) % Q for e in range(1, ORDER3) )\n",
    "assert(POINTS_SECRETS.intersection(POINTS_SHARES) == set([]))\n",
    "\n",
    "print(\"Points used for secrets: %s\" % sorted(POINTS_SECRETS))\n",
    "print(\"Points used for shares:  %s\" % sorted(POINTS_SHARES))"
   ]
  },
  {
   "cell_type": "code",
   "execution_count": 17,
   "metadata": {
    "collapsed": true
   },
   "outputs": [],
   "source": [
    "def share(secrets):\n",
    "    assert(len(secrets) == K)\n",
    "    small_values = [0] + secrets + [random.randrange(Q) for _ in range(T)]\n",
    "    small_coeffs = fft2_backward(small_values)\n",
    "    large_coeffs = small_coeffs + [0 for _ in range(ORDER3-ORDER2)]\n",
    "    large_values = fft3_forward(large_coeffs)\n",
    "    shares = large_values[1:]\n",
    "    assert(len(small_values) == ORDER2)\n",
    "    assert(len(large_coeffs) == ORDER3)\n",
    "    assert(len(shares) == N)\n",
    "    return shares\n",
    "\n",
    "def reconstruct(shares):\n",
    "    assert(len(shares) == N)\n",
    "    large_values = [0] + shares\n",
    "    large_coeffs = fft3_backward(large_values)\n",
    "    small_coeffs = large_coeffs[:ORDER2]\n",
    "    small_values = fft2_forward(small_coeffs)\n",
    "    secrets = small_values[1:K+1]\n",
    "    assert(len(large_values) == ORDER3)\n",
    "    assert(large_coeffs[ORDER2:] == [0] * (ORDER3-ORDER2))\n",
    "    assert(len(small_coeffs) == ORDER2)\n",
    "    assert(len(secrets) == K)\n",
    "    return secrets\n",
    "\n",
    "secrets = [1,2,3]\n",
    "shares = share(secrets)\n",
    "recovered_secrets = reconstruct(shares)\n",
    "assert(recovered_secrets == secrets)"
   ]
  },
  {
   "cell_type": "markdown",
   "metadata": {},
   "source": [
    "# Parameter generation"
   ]
  },
  {
   "cell_type": "code",
   "execution_count": 18,
   "metadata": {
    "collapsed": false
   },
   "outputs": [],
   "source": [
    "def sample_prime(bitsize):\n",
    "    lower = 1 << (bitsize-1)\n",
    "    upper = 1 << (bitsize)\n",
    "    candidate = 1\n",
    "    while True:\n",
    "        candidate = random.randrange(lower, upper)\n",
    "        if is_prime(candidate):\n",
    "            return candidate\n",
    "\n",
    "assert(is_prime(sample_prime(5)))\n",
    "assert(is_prime(sample_prime(128)))"
   ]
  },
  {
   "cell_type": "code",
   "execution_count": 19,
   "metadata": {
    "collapsed": true
   },
   "outputs": [],
   "source": [
    "def remove_factor(x, factor):\n",
    "    while x % factor == 0:\n",
    "        x //= factor\n",
    "    return x\n",
    "    \n",
    "assert(remove_factor(1, 2) == 1)\n",
    "assert(remove_factor(2, 2) == 1)\n",
    "assert(remove_factor(3, 2) == 3)\n",
    "assert(remove_factor(4, 2) == 1)\n",
    "\n",
    "def prime_factor(x):\n",
    "    factors = []\n",
    "    for prime in SMALL_PRIMES:\n",
    "        if prime > x: break\n",
    "        if x % prime == 0:\n",
    "            factors.append(prime)\n",
    "            x = remove_factor(x, prime)\n",
    "    assert(x == 1)\n",
    "    return factors\n",
    "\n",
    "assert(prime_factor(1) == [])\n",
    "assert(prime_factor(2) == [2])\n",
    "assert(prime_factor(3) == [3])\n",
    "assert(prime_factor(4) == [2])\n",
    "assert(prime_factor(5) == [5])\n",
    "assert(prime_factor(6) == [2,3])\n",
    "assert(prime_factor(7) == [7])\n",
    "assert(prime_factor(8) == [2])\n",
    "assert(prime_factor(9) == [3])"
   ]
  },
  {
   "cell_type": "code",
   "execution_count": 24,
   "metadata": {
    "collapsed": false
   },
   "outputs": [],
   "source": [
    "def find_prime(min_bitsize, order_divisor):\n",
    "    while True:\n",
    "        k1 = sample_prime(min_bitsize)\n",
    "        for k2 in range(128):\n",
    "            p = k1 * k2 * order_divisor + 1\n",
    "            if is_prime(p):\n",
    "                order_prime_factors  = [k1]\n",
    "                order_prime_factors += prime_factor(k2)\n",
    "                order_prime_factors += prime_factor(order_divisor)\n",
    "                return p, order_prime_factors\n",
    "\n",
    "def find_generator(prime, order_prime_factors):\n",
    "    order = prime - 1\n",
    "    for candidate in range(2, prime):\n",
    "        for factor in order_prime_factors:\n",
    "            exponent = order // factor\n",
    "            if pow(candidate, exponent, prime) == 1:\n",
    "                break\n",
    "        else:\n",
    "            return candidate\n",
    "            \n",
    "def find_prime_field(min_bitsize, order_divisor):\n",
    "    p, order_prime_factors = find_prime(min_bitsize, order_divisor)\n",
    "    g = find_generator(p, order_prime_factors)\n",
    "    return p, g\n",
    "\n",
    "assert(find_prime_field(2, 8*9) == (433, 5))"
   ]
  },
  {
   "cell_type": "code",
   "execution_count": 25,
   "metadata": {
    "collapsed": true
   },
   "outputs": [],
   "source": [
    "def generate_parameters(min_bitsize, k, t, n):\n",
    "    order2 = k + t + 1\n",
    "    order3 = n + 1\n",
    "    assert(is_power_of(order2, 2))\n",
    "    assert(is_power_of(order3, 3))\n",
    "    order_divisor = order2 * order3\n",
    "    p, g = find_prime_field(min_bitsize, order_divisor)\n",
    "    assert(is_prime(p))\n",
    "    order = p - 1\n",
    "    assert(order % order2 == 0)\n",
    "    assert(order % order3 == 0)\n",
    "    omega2 = pow(g, order // order2, p)\n",
    "    omega3 = pow(g, order // order3, p)\n",
    "    return p, omega2, omega3\n",
    "    \n",
    "assert(generate_parameters(2, 3, 4, 8) == (433, 354, 150))"
   ]
  },
  {
   "cell_type": "code",
   "execution_count": 34,
   "metadata": {
    "collapsed": false
   },
   "outputs": [
    {
     "name": "stdout",
     "output_type": "stream",
     "text": [
      "Prime is 2051000771335305811145958973614313373434879489\n",
      "512-th principal root of unity is 1488352509832626250747680251005257238042162778\n",
      "729-th principal root of unity is 762367702413757106405245698668987241650735228\n"
     ]
    }
   ],
   "source": [
    "p, omega2, omega3 = generate_parameters(128, 250, 512-250-1, 729-1)\n",
    "print(\"Prime is %d\" % p)\n",
    "print(\"%d-th principal root of unity is %d\" % (512, omega2))\n",
    "print(\"%d-th principal root of unity is %d\" % (729, omega3))\n",
    "\n",
    "assert(pow(omega2, 512, p) == 1)\n",
    "assert(pow(omega3, 729, p) == 1)"
   ]
  },
  {
   "cell_type": "markdown",
   "metadata": {},
   "source": [
    "# Dump"
   ]
  },
  {
   "cell_type": "code",
   "execution_count": null,
   "metadata": {
    "collapsed": true
   },
   "outputs": [],
   "source": [
    "import random\n",
    "\n",
    "def miller_rabin(n, k=10):\n",
    "    if n == 2:\n",
    "        return True\n",
    "    if not n & 1:\n",
    "        return False\n",
    "\n",
    "    def check(a, s, d, n):\n",
    "        x = pow(a, d, n)\n",
    "        if x == 1:\n",
    "            return True\n",
    "        for i in range(s - 1):\n",
    "            if x == n - 1:\n",
    "                return True\n",
    "            x = pow(x, 2, n)\n",
    "        return x == n - 1\n",
    "\n",
    "    s = 0\n",
    "    d = n - 1\n",
    "\n",
    "    while d % 2 == 0:\n",
    "        d >>= 1\n",
    "        s += 1\n",
    "\n",
    "    for i in range(k):\n",
    "        a = random.randrange(2, n - 1)\n",
    "        if not check(a, s, d, n):\n",
    "            return False\n",
    "        \n",
    "    return True"
   ]
  },
  {
   "cell_type": "code",
   "execution_count": 35,
   "metadata": {
    "collapsed": false
   },
   "outputs": [
    {
     "ename": "NameError",
     "evalue": "name 'miller_rabin' is not defined",
     "output_type": "error",
     "traceback": [
      "\u001b[0;31m---------------------------------------------------------------------------\u001b[0m",
      "\u001b[0;31mNameError\u001b[0m                                 Traceback (most recent call last)",
      "\u001b[0;32m<ipython-input-35-871898fc74b4>\u001b[0m in \u001b[0;36m<module>\u001b[0;34m()\u001b[0m\n\u001b[0;32m----> 1\u001b[0;31m \u001b[0mmiller_rabin\u001b[0m\u001b[0;34m(\u001b[0m\u001b[0;36m433\u001b[0m\u001b[0;34m)\u001b[0m\u001b[0;34m\u001b[0m\u001b[0m\n\u001b[0m",
      "\u001b[0;31mNameError\u001b[0m: name 'miller_rabin' is not defined"
     ]
    }
   ],
   "source": [
    "miller_rabin(433)"
   ]
  },
  {
   "cell_type": "code",
   "execution_count": 38,
   "metadata": {
    "collapsed": false
   },
   "outputs": [
    {
     "data": {
      "text/plain": [
       "[1, 0, 0]"
      ]
     },
     "execution_count": 38,
     "metadata": {},
     "output_type": "execute_result"
    }
   ],
   "source": [
    "[1] + [0] * (4 - 2)"
   ]
  },
  {
   "cell_type": "code",
   "execution_count": null,
   "metadata": {
    "collapsed": true
   },
   "outputs": [],
   "source": []
  }
 ],
 "metadata": {
  "kernelspec": {
   "display_name": "Python 3",
   "language": "python",
   "name": "python3"
  },
  "language_info": {
   "codemirror_mode": {
    "name": "ipython",
    "version": 3
   },
   "file_extension": ".py",
   "mimetype": "text/x-python",
   "name": "python",
   "nbconvert_exporter": "python",
   "pygments_lexer": "ipython3",
   "version": "3.4.3"
  }
 },
 "nbformat": 4,
 "nbformat_minor": 2
}
