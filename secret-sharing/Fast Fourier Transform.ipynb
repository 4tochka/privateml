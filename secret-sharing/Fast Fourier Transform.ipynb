{
 "cells": [
  {
   "cell_type": "code",
   "execution_count": 1,
   "metadata": {
    "collapsed": true
   },
   "outputs": [],
   "source": [
    "import random"
   ]
  },
  {
   "cell_type": "markdown",
   "metadata": {},
   "source": [
    "# Encoding"
   ]
  },
  {
   "cell_type": "code",
   "execution_count": 2,
   "metadata": {
    "collapsed": true
   },
   "outputs": [],
   "source": [
    "Q = 41"
   ]
  },
  {
   "cell_type": "code",
   "execution_count": 3,
   "metadata": {
    "collapsed": true
   },
   "outputs": [],
   "source": [
    "def encode(x):\n",
    "    return x % Q\n",
    "\n",
    "def decode(x):\n",
    "    return x if x <= Q/2 else x-Q"
   ]
  },
  {
   "cell_type": "code",
   "execution_count": 4,
   "metadata": {},
   "outputs": [
    {
     "name": "stdout",
     "output_type": "stream",
     "text": [
      "encoded: 36\n",
      "decoded: -5\n"
     ]
    }
   ],
   "source": [
    "x = encode(-5)\n",
    "print(\"encoded: %d\" % x)\n",
    "print(\"decoded: %d\" % decode(x))"
   ]
  },
  {
   "cell_type": "markdown",
   "metadata": {},
   "source": [
    "# Additive sharing"
   ]
  },
  {
   "cell_type": "code",
   "execution_count": 5,
   "metadata": {
    "collapsed": true
   },
   "outputs": [],
   "source": [
    "N = 10"
   ]
  },
  {
   "cell_type": "code",
   "execution_count": 6,
   "metadata": {},
   "outputs": [
    {
     "name": "stdout",
     "output_type": "stream",
     "text": [
      "[17, 2, 15, 25, 0, 19, 3, 37, 20, 31]\n",
      "5\n"
     ]
    }
   ],
   "source": [
    "def additive_share(secret):\n",
    "    shares  = [ random.randrange(Q) for _ in range(N-1) ]\n",
    "    shares += [ (secret - sum(shares)) % Q ]\n",
    "    return shares\n",
    "\n",
    "def additive_reconstruct(shares):\n",
    "    return sum(shares) % Q\n",
    "\n",
    "shares = additive_share(5)\n",
    "print(shares)\n",
    "print(additive_reconstruct(shares))"
   ]
  },
  {
   "cell_type": "code",
   "execution_count": 7,
   "metadata": {},
   "outputs": [
    {
     "name": "stdout",
     "output_type": "stream",
     "text": [
      "guess 0 explained by 26\n",
      "guess 1 explained by 27\n",
      "guess 2 explained by 28\n",
      "guess 3 explained by 29\n",
      "guess 4 explained by 30\n",
      "guess 5 explained by 31\n",
      "guess 6 explained by 32\n",
      "guess 7 explained by 33\n",
      "guess 8 explained by 34\n",
      "guess 9 explained by 35\n",
      "guess 10 explained by 36\n",
      "guess 11 explained by 37\n",
      "guess 12 explained by 38\n",
      "guess 13 explained by 39\n",
      "guess 14 explained by 40\n",
      "guess 15 explained by 0\n",
      "guess 16 explained by 1\n",
      "guess 17 explained by 2\n",
      "guess 18 explained by 3\n",
      "guess 19 explained by 4\n",
      "guess 20 explained by 5\n",
      "guess 21 explained by 6\n",
      "guess 22 explained by 7\n",
      "guess 23 explained by 8\n",
      "guess 24 explained by 9\n",
      "guess 25 explained by 10\n",
      "guess 26 explained by 11\n",
      "guess 27 explained by 12\n",
      "guess 28 explained by 13\n",
      "guess 29 explained by 14\n",
      "guess 30 explained by 15\n",
      "guess 31 explained by 16\n",
      "guess 32 explained by 17\n",
      "guess 33 explained by 18\n",
      "guess 34 explained by 19\n",
      "guess 35 explained by 20\n",
      "guess 36 explained by 21\n",
      "guess 37 explained by 22\n",
      "guess 38 explained by 23\n",
      "guess 39 explained by 24\n",
      "guess 40 explained by 25\n"
     ]
    }
   ],
   "source": [
    "seen_shares = shares[:N-1]\n",
    "\n",
    "for guess in range(Q):\n",
    "    for unseen_share in range(Q):\n",
    "        simulated_shares = seen_shares + [unseen_share]\n",
    "        if additive_reconstruct(simulated_shares) == guess:\n",
    "            print(\"guess %d explained by %d\" % (guess, unseen_share))\n",
    "            break\n",
    "    else:\n",
    "        print(\"guess %d could not be explained\" % guess)"
   ]
  },
  {
   "cell_type": "code",
   "execution_count": 8,
   "metadata": {
    "collapsed": true
   },
   "outputs": [],
   "source": [
    "def additive_add(x, y):\n",
    "    return [ (xi + yi) % Q for xi, yi in zip(x, y) ]\n",
    "\n",
    "def additive_sub(x, y):\n",
    "    return [ (xi - yi) % Q for xi, yi in zip(x, y) ]"
   ]
  },
  {
   "cell_type": "code",
   "execution_count": 9,
   "metadata": {},
   "outputs": [
    {
     "name": "stdout",
     "output_type": "stream",
     "text": [
      "Additive(5)\n",
      "Additive(8)\n",
      "Additive(-3)\n"
     ]
    }
   ],
   "source": [
    "class Additive:\n",
    "    \n",
    "    def __init__(self, secret=None):\n",
    "        self.shares = additive_share(encode(secret)) if secret is not None else []\n",
    "    \n",
    "    def reveal(self):\n",
    "        return decode(additive_reconstruct(self.shares))\n",
    "    \n",
    "    def __repr__(self):\n",
    "        return \"Additive(%d)\" % self.reveal()\n",
    "    \n",
    "    def __add__(x, y):\n",
    "        z = Additive()\n",
    "        z.shares = additive_add(x.shares, y.shares)\n",
    "        return z\n",
    "    \n",
    "    def __sub__(x, y):\n",
    "        z = Additive()\n",
    "        z.shares = additive_sub(x.shares, y.shares)\n",
    "        return z\n",
    "\n",
    "x = Additive(5)\n",
    "print(x)\n",
    "\n",
    "y = Additive(8)\n",
    "print(y)\n",
    "\n",
    "z = x - y\n",
    "print(z)\n",
    "assert(z.reveal() == -3)"
   ]
  },
  {
   "cell_type": "markdown",
   "metadata": {},
   "source": [
    "# Coefficient polynomials"
   ]
  },
  {
   "cell_type": "code",
   "execution_count": 10,
   "metadata": {
    "collapsed": true
   },
   "outputs": [],
   "source": [
    "# using Horner's rule\n",
    "\n",
    "def evaluate_polynomial_at_point(coefs, point):\n",
    "    result = 0\n",
    "    for coef in reversed(coefs):\n",
    "        result = (coef + point * result) % Q\n",
    "    return result"
   ]
  },
  {
   "cell_type": "code",
   "execution_count": 11,
   "metadata": {},
   "outputs": [
    {
     "name": "stdout",
     "output_type": "stream",
     "text": [
      "CoefficientPolynomial([5, 6, 7])\n",
      "[11, 9, 21]\n"
     ]
    }
   ],
   "source": [
    "class CoefficientPolynomial:\n",
    "    \n",
    "    def __init__(self, coefficients):\n",
    "        self.coefs = coefficients\n",
    "        \n",
    "    def __repr__(self):\n",
    "        return \"CoefficientPolynomial(%s)\" % self.coefs\n",
    "        \n",
    "    def value_at(self, point):\n",
    "        return evaluate_polynomial_at_point(self.coefs, point)\n",
    "    \n",
    "    def values_at(self, points):\n",
    "        return [ self.value_at(p) for p in points ]\n",
    "\n",
    "poly = CoefficientPolynomial([5,6,7])\n",
    "print(poly)\n",
    "assert(poly.values_at([0,1,2]) == [(5 + 6*0 + 7*0) % Q, (5 + 6*1 + 7*1*1) % Q, (5 + 6*2 + 7*2*2) % Q])\n",
    "print(poly.values_at([9,8,7]))"
   ]
  },
  {
   "cell_type": "markdown",
   "metadata": {},
   "source": [
    "# Point-Value polynomials"
   ]
  },
  {
   "cell_type": "code",
   "execution_count": 12,
   "metadata": {
    "collapsed": true
   },
   "outputs": [],
   "source": [
    "def egcd(a, b):\n",
    "    if a == 0:\n",
    "        return (b, 0, 1)\n",
    "    else:\n",
    "        g, y, x = egcd(b % a, a)\n",
    "        return (g, x - (b // a) * y, y)\n",
    "\n",
    "# from http://www.ucl.ac.uk/~ucahcjm/combopt/ext_gcd_python_programs.pdf\n",
    "def egcd_binary(a,b):\n",
    "    u, v, s, t, r = 1, 0, 0, 1, 0\n",
    "    while (a % 2 == 0) and (b % 2 == 0):\n",
    "        a, b, r = a//2, b//2, r+1\n",
    "    alpha, beta = a, b\n",
    "    while (a % 2 == 0):\n",
    "        a = a//2\n",
    "        if (u % 2 == 0) and (v % 2 == 0):\n",
    "            u, v = u//2, v//2\n",
    "        else:\n",
    "            u, v = (u + beta)//2, (v - alpha)//2\n",
    "    while a != b:\n",
    "        if (b % 2 == 0):\n",
    "            b = b//2\n",
    "            if (s % 2 == 0) and (t % 2 == 0):\n",
    "                s, t = s//2, t//2\n",
    "            else:\n",
    "                s, t = (s + beta)//2, (t - alpha)//2\n",
    "        elif b < a:\n",
    "            a, b, u, v, s, t = b, a, s, t, u, v\n",
    "        else:\n",
    "            b, s, t = b - a, s - u, t - v\n",
    "    return (2 ** r) * a, s, t\n",
    "\n",
    "\n",
    "def inverse(a):\n",
    "    _, b, _ = egcd_binary(a, Q)\n",
    "    return b"
   ]
  },
  {
   "cell_type": "code",
   "execution_count": 13,
   "metadata": {
    "collapsed": true
   },
   "outputs": [],
   "source": [
    "# see https://en.wikipedia.org/wiki/Lagrange_polynomial\n",
    "\n",
    "def lagrange_constants_for_point(points, point):\n",
    "    constants = [0] * len(points)\n",
    "    for i in range(len(points)):\n",
    "        xi = points[i]\n",
    "        num = 1\n",
    "        denum = 1\n",
    "        for j in range(len(points)):\n",
    "            if j != i:\n",
    "                xj = points[j]\n",
    "                num = (num * (xj - point)) % Q\n",
    "                denum = (denum * (xj - xi)) % Q\n",
    "        constants[i] = (num * inverse(denum)) % Q\n",
    "    return constants\n",
    "\n",
    "def interpolate_polynomial_at_point(points_values, point):\n",
    "    points, values = zip(*points_values)\n",
    "    constants = lagrange_constants_for_point(points, point)\n",
    "    return sum( vi * ci for vi, ci in zip(values, constants) ) % Q"
   ]
  },
  {
   "cell_type": "code",
   "execution_count": 14,
   "metadata": {},
   "outputs": [
    {
     "name": "stdout",
     "output_type": "stream",
     "text": [
      "PointValuePolynomial([(9, 11), (8, 9), (7, 21)])\n",
      "5\n"
     ]
    }
   ],
   "source": [
    "class PointValuePolynomial:\n",
    "    \n",
    "    def __init__(self, points_values):\n",
    "        self.pvs = points_values\n",
    "        \n",
    "    def __repr__(self):\n",
    "        return \"PointValuePolynomial(%s)\" % self.pvs\n",
    "    \n",
    "    def value_at(self, point):\n",
    "        return interpolate_polynomial_at_point(self.pvs, point)\n",
    "    \n",
    "    def values_at(self, points):\n",
    "        return [ self.value_at(p) for p in points ]\n",
    "\n",
    "poly = PointValuePolynomial([(9,11), (8,9), (7,21)])\n",
    "print(poly)\n",
    "print(poly.value_at(0))"
   ]
  },
  {
   "cell_type": "markdown",
   "metadata": {},
   "source": [
    "# Shamir sharing"
   ]
  },
  {
   "cell_type": "code",
   "execution_count": 15,
   "metadata": {
    "collapsed": true
   },
   "outputs": [],
   "source": [
    "N = 10\n",
    "T = 4\n",
    "\n",
    "assert(T+1 <= N)"
   ]
  },
  {
   "cell_type": "code",
   "execution_count": 16,
   "metadata": {
    "collapsed": true
   },
   "outputs": [],
   "source": [
    "def sample_shamir_polynomial(zero_value):\n",
    "    coefs = [zero_value] + [random.randrange(Q) for _ in range(T)]\n",
    "    return CoefficientPolynomial(coefs)"
   ]
  },
  {
   "cell_type": "code",
   "execution_count": 17,
   "metadata": {},
   "outputs": [
    {
     "name": "stdout",
     "output_type": "stream",
     "text": [
      "[(1, 4), (2, 19), (3, 5), (4, 16), (5, 32), (6, 10), (7, 7), (8, 16), (9, 7), (10, 9)]\n",
      "28\n"
     ]
    },
    {
     "ename": "AssertionError",
     "evalue": "",
     "output_type": "error",
     "traceback": [
      "\u001b[0;31m---------------------------------------------------------------------------\u001b[0m",
      "\u001b[0;31mAssertionError\u001b[0m                            Traceback (most recent call last)",
      "\u001b[0;32m<ipython-input-17-3ed4308aec47>\u001b[0m in \u001b[0;36m<module>\u001b[0;34m()\u001b[0m\n\u001b[1;32m     19\u001b[0m \u001b[0mx\u001b[0m \u001b[0;34m=\u001b[0m \u001b[0mshamir_reconstruct\u001b[0m\u001b[0;34m(\u001b[0m\u001b[0mshares\u001b[0m\u001b[0;34m)\u001b[0m\u001b[0;34m\u001b[0m\u001b[0m\n\u001b[1;32m     20\u001b[0m \u001b[0mprint\u001b[0m\u001b[0;34m(\u001b[0m\u001b[0mx\u001b[0m\u001b[0;34m)\u001b[0m\u001b[0;34m\u001b[0m\u001b[0m\n\u001b[0;32m---> 21\u001b[0;31m \u001b[0;32massert\u001b[0m\u001b[0;34m(\u001b[0m\u001b[0mx\u001b[0m \u001b[0;34m==\u001b[0m \u001b[0;36m5\u001b[0m\u001b[0;34m)\u001b[0m\u001b[0;34m\u001b[0m\u001b[0m\n\u001b[0m",
      "\u001b[0;31mAssertionError\u001b[0m: "
     ]
    }
   ],
   "source": [
    "SHARE_POINTS = [ p for p in range(1, N+1) ]\n",
    "assert(0 not in SHARE_POINTS)\n",
    "\n",
    "def shamir_share(secret):\n",
    "    poly = sample_shamir_polynomial(secret)\n",
    "    return poly.values_at(SHARE_POINTS)\n",
    "\n",
    "def shamir_reconstruct(shares):\n",
    "    points_values = [ (p,v) for p,v in zip(SHARE_POINTS, shares) if v is not None ]\n",
    "    print(points_values)\n",
    "    poly = PointValuePolynomial(points_values)\n",
    "    return poly.value_at(0)\n",
    "\n",
    "shares = shamir_share(5)\n",
    "#for i in range(N-(T+1)):\n",
    "#    shares[i] = None\n",
    "#shares[-1] = None  # would fail; we need T+K points to reconstruct\n",
    "shares[0] = 4\n",
    "x = shamir_reconstruct(shares)\n",
    "print(x)\n",
    "assert(x == 5)"
   ]
  },
  {
   "cell_type": "code",
   "execution_count": 18,
   "metadata": {},
   "outputs": [
    {
     "ename": "NameError",
     "evalue": "name 'PointValuePoly' is not defined",
     "output_type": "error",
     "traceback": [
      "\u001b[0;31m---------------------------------------------------------------------------\u001b[0m",
      "\u001b[0;31mNameError\u001b[0m                                 Traceback (most recent call last)",
      "\u001b[0;32m<ipython-input-18-d73ab54cde23>\u001b[0m in \u001b[0;36m<module>\u001b[0;34m()\u001b[0m\n\u001b[1;32m      1\u001b[0m \u001b[0;31m#pv = [(3, 29), (4, 18), (5, 19), (6, 1), (7, 24), (8, 34)]\u001b[0m\u001b[0;34m\u001b[0m\u001b[0;34m\u001b[0m\u001b[0m\n\u001b[1;32m      2\u001b[0m \u001b[0mpv\u001b[0m \u001b[0;34m=\u001b[0m \u001b[0;34m[\u001b[0m\u001b[0;34m(\u001b[0m\u001b[0;36m3\u001b[0m\u001b[0;34m,\u001b[0m \u001b[0;36m29\u001b[0m\u001b[0;34m)\u001b[0m\u001b[0;34m,\u001b[0m \u001b[0;34m(\u001b[0m\u001b[0;36m4\u001b[0m\u001b[0;34m,\u001b[0m \u001b[0;36m18\u001b[0m\u001b[0;34m)\u001b[0m\u001b[0;34m,\u001b[0m \u001b[0;34m(\u001b[0m\u001b[0;36m5\u001b[0m\u001b[0;34m,\u001b[0m \u001b[0;36m19\u001b[0m\u001b[0;34m)\u001b[0m\u001b[0;34m,\u001b[0m \u001b[0;34m(\u001b[0m\u001b[0;36m6\u001b[0m\u001b[0;34m,\u001b[0m \u001b[0;36m1\u001b[0m\u001b[0;34m)\u001b[0m\u001b[0;34m,\u001b[0m \u001b[0;34m(\u001b[0m\u001b[0;36m7\u001b[0m\u001b[0;34m,\u001b[0m \u001b[0;36m24\u001b[0m\u001b[0;34m)\u001b[0m\u001b[0;34m,\u001b[0m \u001b[0;34m(\u001b[0m\u001b[0;36m9\u001b[0m\u001b[0;34m,\u001b[0m \u001b[0;36m27\u001b[0m\u001b[0;34m)\u001b[0m\u001b[0;34m]\u001b[0m\u001b[0;34m\u001b[0m\u001b[0m\n\u001b[0;32m----> 3\u001b[0;31m \u001b[0mpoly\u001b[0m \u001b[0;34m=\u001b[0m \u001b[0mPointValuePoly\u001b[0m\u001b[0;34m(\u001b[0m\u001b[0mpv\u001b[0m\u001b[0;34m)\u001b[0m\u001b[0;34m\u001b[0m\u001b[0m\n\u001b[0m\u001b[1;32m      4\u001b[0m \u001b[0mpoly\u001b[0m\u001b[0;34m.\u001b[0m\u001b[0mvalue_at\u001b[0m\u001b[0;34m(\u001b[0m\u001b[0;36m0\u001b[0m\u001b[0;34m)\u001b[0m\u001b[0;34m\u001b[0m\u001b[0m\n",
      "\u001b[0;31mNameError\u001b[0m: name 'PointValuePoly' is not defined"
     ]
    }
   ],
   "source": [
    "#pv = [(3, 29), (4, 18), (5, 19), (6, 1), (7, 24), (8, 34)]\n",
    "pv = [(3, 29), (4, 18), (5, 19), (6, 1), (7, 24), (9, 27)]\n",
    "poly = PointValuePoly(pv)\n",
    "poly.value_at(0)"
   ]
  },
  {
   "cell_type": "code",
   "execution_count": 19,
   "metadata": {
    "collapsed": true
   },
   "outputs": [],
   "source": [
    "def shamir_add(x, y):\n",
    "    return [ (xi + yi) % Q for xi, yi in zip(x, y) ]\n",
    "\n",
    "def shamir_sub(x, y):\n",
    "    return [ (xi - yi) % Q for xi, yi in zip(x, y) ]"
   ]
  },
  {
   "cell_type": "code",
   "execution_count": null,
   "metadata": {
    "collapsed": true
   },
   "outputs": [],
   "source": [
    "def shamir_mul(x, y):\n",
    "    return [ (xi * yi) % Q for xi, yi in zip(x, y) ]"
   ]
  },
  {
   "cell_type": "code",
   "execution_count": null,
   "metadata": {},
   "outputs": [],
   "source": [
    "class Shamir:\n",
    "    \n",
    "    def __init__(self, secret=None):\n",
    "        self.shares = shamir_share(encode(secret)) if secret is not None else []\n",
    "        self.degree = T\n",
    "    \n",
    "    def reveal(self):\n",
    "        assert(self.degree+1 <= N)\n",
    "        return decode(shamir_reconstruct(self.shares))\n",
    "    \n",
    "    def __repr__(self):\n",
    "        return \"Shamir(%d)\" % self.reveal()\n",
    "    \n",
    "    def __add__(x, y):\n",
    "        z = Shamir()\n",
    "        z.shares = shamir_add(x.shares, y.shares)\n",
    "        z.degree = max(x.degree, y.degree)\n",
    "        return z\n",
    "    \n",
    "    def __sub__(x, y):\n",
    "        z = Shamir()\n",
    "        z.shares = shamir_sub(x.shares, y.shares)\n",
    "        z.degree = max(x.degree, y.degree)\n",
    "        return z\n",
    "    \n",
    "    def __mul__(x, y):\n",
    "        z = Shamir()\n",
    "        z.shares = shamir_mul(x.shares, y.shares)\n",
    "        z.degree = x.degree + y.degree\n",
    "        return z\n",
    "    \n",
    "x = Shamir(2)\n",
    "print(x)\n",
    "\n",
    "y = Shamir(3)\n",
    "print(y)\n",
    "\n",
    "z = x - y\n",
    "print(z)\n",
    "assert(z.reveal() == -1)\n",
    "\n",
    "v = x * y\n",
    "print(v)\n",
    "assert(v.reveal() == 6)"
   ]
  },
  {
   "cell_type": "markdown",
   "metadata": {},
   "source": [
    "# Packed sharing"
   ]
  },
  {
   "cell_type": "code",
   "execution_count": null,
   "metadata": {
    "collapsed": true
   },
   "outputs": [],
   "source": [
    "N = 20\n",
    "T = 8\n",
    "K = 2\n",
    "\n",
    "assert(T+K <= N)"
   ]
  },
  {
   "cell_type": "code",
   "execution_count": null,
   "metadata": {
    "collapsed": true
   },
   "outputs": [],
   "source": [
    "SECRET_POINTS =     [ -p % Q for p in range(1, K+1) ]\n",
    "RANDOMNESS_POINTS = [ -p % Q for p in range(K+1, K+T+1) ]\n",
    "assert(set(SECRET_POINTS).intersection(RANDOMNESS_POINTS) == set())\n",
    "\n",
    "def sample_packed_polynomial(secrets):\n",
    "    assert(len(secrets) == K)\n",
    "    points = SECRET_POINTS + RANDOMNESS_POINTS\n",
    "    values = secrets + [ random.randrange(Q) for _ in range(T) ]\n",
    "    return list(zip(points, values))"
   ]
  },
  {
   "cell_type": "code",
   "execution_count": null,
   "metadata": {
    "collapsed": true
   },
   "outputs": [],
   "source": [
    "SHARE_POINTS = [ p for p in range(1, N+1) ]\n",
    "assert(set(SHARE_POINTS).intersection(SECRET_POINTS) == set())\n",
    "assert(set(SHARE_POINTS).intersection(RANDOMNESS_POINTS) == set())\n",
    "\n",
    "def packed_share(secrets):\n",
    "    poly = sample_packed_polynomial(secrets)\n",
    "    return [ interpolate_polynomial_at_point(poly, p) for p in SHARE_POINTS ]\n",
    "\n",
    "def packed_reconstruct(shares):\n",
    "    points = SHARE_POINTS\n",
    "    values = shares\n",
    "    points_values = [ (p,v) for p,v in zip(points, values) if v is not None ]\n",
    "    return [ interpolate_polynomial_at_point(points_values, p) for p in SECRET_POINTS ]\n",
    "\n",
    "secrets = [5,6]\n",
    "shares = packed_share(secrets)\n",
    "for i in range(N-(T+K)):\n",
    "    shares[i] = None\n",
    "#shares[-1] = None  # would fail; we need T+K points to reconstruct\n",
    "reconstructed_secrets = packed_reconstruct(shares)\n",
    "assert(reconstructed_secrets == secrets)"
   ]
  },
  {
   "cell_type": "code",
   "execution_count": null,
   "metadata": {
    "collapsed": true
   },
   "outputs": [],
   "source": [
    "def packed_add(x, y):\n",
    "    return [ (xi + yi) % Q for xi, yi in zip(x, y) ]\n",
    "\n",
    "def packed_sub(x, y):\n",
    "    return [ (xi - yi) % Q for xi, yi in zip(x, y) ]"
   ]
  },
  {
   "cell_type": "code",
   "execution_count": null,
   "metadata": {
    "collapsed": true
   },
   "outputs": [],
   "source": [
    "def packed_mul(x, y):\n",
    "    return [ (xi * yi) % Q for xi, yi in zip(x, y) ]"
   ]
  },
  {
   "cell_type": "code",
   "execution_count": null,
   "metadata": {},
   "outputs": [],
   "source": [
    "class Packed:\n",
    "    \n",
    "    def __init__(self, secrets=None):\n",
    "        self.shares = packed_share([ encode(s) for s in secrets ]) if secrets is not None else []\n",
    "        self.degree = T+K-1\n",
    "    \n",
    "    def reveal(self):\n",
    "        assert(self.degree+1 <= N)\n",
    "        #print(packed_reconstruct(self.shares))\n",
    "        return [ decode(s) for s in packed_reconstruct(self.shares) ]\n",
    "    \n",
    "    def __repr__(self):\n",
    "        return \"Packed(%s)\" % self.reveal()\n",
    "    \n",
    "    def __add__(x, y):\n",
    "        z = Packed()\n",
    "        z.shares = packed_add(x.shares, y.shares)\n",
    "        z.degree = max(x.degree, y.degree)\n",
    "        return z\n",
    "    \n",
    "    def __sub__(x, y):\n",
    "        z = Packed()\n",
    "        z.shares = packed_sub(x.shares, y.shares)\n",
    "        z.degree = max(x.degree, y.degree)\n",
    "        return z\n",
    "    \n",
    "    def __mul__(x, y):\n",
    "        z = Packed()\n",
    "        z.shares = packed_mul(x.shares, y.shares)\n",
    "        z.degree = x.degree + y.degree\n",
    "        return z\n",
    "    \n",
    "x = Packed([2,3])\n",
    "print(x)\n",
    "\n",
    "y = Packed([2,3])\n",
    "print(y)\n",
    "\n",
    "z = x - y\n",
    "print(z)\n",
    "assert(z.reveal() == [0,0])\n",
    "\n",
    "v = x * y\n",
    "print(v)\n",
    "assert(v.reveal() == [4,9])"
   ]
  },
  {
   "cell_type": "markdown",
   "metadata": {},
   "source": [
    "# Fast Fourier Transform"
   ]
  },
  {
   "cell_type": "code",
   "execution_count": 20,
   "metadata": {
    "collapsed": true
   },
   "outputs": [],
   "source": [
    "N = 8\n",
    "T = 4\n",
    "K = 3\n",
    "Q = 433 # 6 * (T+K+1) * (N+1)\n",
    "\n",
    "assert(T+K+1 == 2**3)\n",
    "assert(N+1 == 3**2)"
   ]
  },
  {
   "cell_type": "code",
   "execution_count": 21,
   "metadata": {},
   "outputs": [
    {
     "name": "stdout",
     "output_type": "stream",
     "text": [
      "Points used for sampling: [1, 79, 148, 179, 254, 285, 354, 432]\n",
      "Points used for sharing:  [1, 27, 150, 153, 198, 234, 256, 296, 417]\n"
     ]
    }
   ],
   "source": [
    "OMEGA2 = 354\n",
    "assert((OMEGA2**(T+K+1)) % Q == 1)\n",
    "\n",
    "OMEGA3 = 150\n",
    "assert((OMEGA3**(N+1)) % Q == 1)\n",
    "\n",
    "points2 = set( (OMEGA2 ** e) % Q for e in range(Q) )\n",
    "points3 = set( (OMEGA3 ** e) % Q for e in range(Q) )\n",
    "print(\"Points used for sampling: %s\" % sorted(points2))\n",
    "print(\"Points used for sharing:  %s\" % sorted(points3))\n",
    "assert(points2.intersection(points3) == set([1]))"
   ]
  },
  {
   "cell_type": "code",
   "execution_count": 26,
   "metadata": {},
   "outputs": [
    {
     "name": "stdout",
     "output_type": "stream",
     "text": [
      "Points used for sampling: [1, 179, 254, 432]\n"
     ]
    }
   ],
   "source": [
    "OMEGA4 = 354 ** 2 % Q\n",
    "assert((OMEGA4**((T+K)//2+1)) % Q == 1)\n",
    "\n",
    "points4 = set( (OMEGA4 ** e) % Q for e in range(Q) )\n",
    "print(\"Points used for sampling: %s\" % sorted(points4))"
   ]
  },
  {
   "cell_type": "code",
   "execution_count": 26,
   "metadata": {},
   "outputs": [
    {
     "name": "stdout",
     "output_type": "stream",
     "text": [
      "Points used for sampling: [1, 179, 254, 432]\n"
     ]
    }
   ],
   "source": [
    "assert((OMEGA2**((T+K)//2+1)) % Q == 1)\n",
    "\n",
    "points4 = set( (OMEGA4 ** e) % Q for e in range(Q) )\n",
    "print(\"Points used for sampling: %s\" % sorted(points4))"
   ]
  },
  {
   "cell_type": "code",
   "execution_count": null,
   "metadata": {
    "collapsed": true
   },
   "outputs": [],
   "source": [
    "# len(aX) must be a power of 2\n",
    "def fft2_forward(aX, omega=OMEGA2):\n",
    "    if len(aX) == 1:\n",
    "        return aX\n",
    "\n",
    "    # split A(x) into B(x) and C(x) -- A(x) = B(x^2) + x C(x^2)\n",
    "    bX = aX[0::2]\n",
    "    cX = aX[1::2]\n",
    "    \n",
    "    # apply recursively\n",
    "    omega_squared = (omega**2) % Q\n",
    "    B = fft2_forward(bX, omega_squared)\n",
    "    C = fft2_forward(cX, omega_squared)\n",
    "        \n",
    "    # combine subresults\n",
    "    A = [0] * len(aX)\n",
    "    Nhalf = len(aX) // 2\n",
    "    for i in range(0, Nhalf):\n",
    "        \n",
    "        j = i\n",
    "        x = (omega**j) % Q\n",
    "        A[j] = (B[i] + x * C[i]) % Q\n",
    "        \n",
    "        j = i + Nhalf\n",
    "        x = (omega**j) % Q\n",
    "        A[j] = (B[i] + x * C[i]) % Q\n",
    "        \n",
    "    return A\n",
    "\n",
    "def fft2_backward(A):\n",
    "    N_inv = inverse(len(A))\n",
    "    return [ (a * N_inv) % Q for a in fft2_forward(A, inverse(OMEGA2)) ]\n",
    "\n",
    "coefs = [1,2,3,4,5,6,7,8]\n",
    "values = fft2_forward(coefs)\n",
    "coefs_recovered = fft2_backward(values)\n",
    "assert(coefs == coefs_recovered)"
   ]
  },
  {
   "cell_type": "code",
   "execution_count": null,
   "metadata": {
    "collapsed": true
   },
   "outputs": [],
   "source": [
    "# len(aX) must be a power of 3\n",
    "def fft3_forward(aX, omega=OMEGA3):\n",
    "    if len(aX) == 1:\n",
    "        return aX\n",
    "\n",
    "    # split A(x) into B(x), C(x), and D(x): A(x) = B(x^3) + x C(x^3) + x^2 D(x^3)\n",
    "    bX = aX[0::3]\n",
    "    cX = aX[1::3]\n",
    "    dX = aX[2::3]\n",
    "    \n",
    "    # apply recursively\n",
    "    omega_cubed = (omega**3) % Q\n",
    "    B = fft3_forward(bX, omega_cubed)\n",
    "    C = fft3_forward(cX, omega_cubed)\n",
    "    D = fft3_forward(dX, omega_cubed)\n",
    "        \n",
    "    # combine subresults\n",
    "    A = [0] * len(aX)\n",
    "    Nthird = len(aX) // 3\n",
    "    for i in range(Nthird):\n",
    "        \n",
    "        j = i\n",
    "        x = (omega**j) % Q\n",
    "        xx = (x * x) % Q\n",
    "        A[j] = (B[i] + x * C[i] + xx * D[i]) % Q\n",
    "        \n",
    "        j = i + Nthird\n",
    "        x = (omega**j) % Q\n",
    "        xx = (x * x) % Q\n",
    "        A[j] = (B[i] + x * C[i] + xx * D[i]) % Q\n",
    "        \n",
    "        j = i + Nthird + Nthird\n",
    "        x = (omega**j) % Q\n",
    "        xx = (x * x) % Q\n",
    "        A[j] = (B[i] + x * C[i] + xx * D[i]) % Q\n",
    "\n",
    "    return A\n",
    "\n",
    "def fft3_backward(A):\n",
    "    N_inv = inverse(len(A))\n",
    "    return [ (a * N_inv) % Q for a in fft3_forward(A, inverse(OMEGA3)) ]\n",
    "\n",
    "coefs = [1,2,3,4,5,6,7,8,9]\n",
    "values = fft3_forward(coefs)\n",
    "coefs_recovered = fft3_backward(values)\n",
    "assert(coefs == coefs_recovered)"
   ]
  },
  {
   "cell_type": "markdown",
   "metadata": {
    "collapsed": true
   },
   "source": [
    "## Slightly optimised"
   ]
  },
  {
   "cell_type": "code",
   "execution_count": null,
   "metadata": {
    "collapsed": true
   },
   "outputs": [],
   "source": [
    "# len(aX) must be a power of 2\n",
    "def fft2_forward(aX, omega=OMEGA2):\n",
    "    if len(aX) == 1:\n",
    "        return aX\n",
    "\n",
    "    # split A(x) into B(x) and C(x) -- A(x) = B(x^2) + x C(x^2)\n",
    "    bX = aX[0::2]\n",
    "    cX = aX[1::2]\n",
    "    \n",
    "    # apply recursively\n",
    "    omega_squared = (omega**2) % Q\n",
    "    B = fft2_forward(bX, omega_squared)\n",
    "    C = fft2_forward(cX, omega_squared)\n",
    "        \n",
    "    # combine subresults\n",
    "    A = [0] * len(aX)\n",
    "    Nhalf = len(aX) >> 1\n",
    "    for i in range(0, Nhalf):\n",
    "        \n",
    "        x = (omega**i) % Q\n",
    "        A[i]         = (B[i] + x * C[i]) % Q\n",
    "        A[i + Nhalf] = (B[i] - x * C[i]) % Q\n",
    "        \n",
    "    return A\n",
    "\n",
    "def fft2_backward(A):\n",
    "    N_inv = inverse(len(A))\n",
    "    return [ (a * N_inv) % Q for a in fft2_forward(A, inverse(OMEGA2)) ]\n",
    "\n",
    "coefs = [1,2,3,4,5,6,7,8]\n",
    "values = fft2_forward(coefs)\n",
    "coefs_recovered = fft2_backward(values)\n",
    "assert(coefs == coefs_recovered)"
   ]
  },
  {
   "cell_type": "code",
   "execution_count": null,
   "metadata": {
    "collapsed": true
   },
   "outputs": [],
   "source": [
    "# len(aX) must be a power of 3\n",
    "def fft3_forward(aX, omega=OMEGA3):\n",
    "    if len(aX) == 1:\n",
    "        return aX\n",
    "\n",
    "    # split A(x) into B(x), C(x), and D(x): A(x) = B(x^3) + x C(x^3) + x^2 D(x^3)\n",
    "    bX = aX[0::3]\n",
    "    cX = aX[1::3]\n",
    "    dX = aX[2::3]\n",
    "    \n",
    "    # apply recursively\n",
    "    omega_cubed = (omega**3) % Q\n",
    "    B = fft3_forward(bX, omega_cubed)\n",
    "    C = fft3_forward(cX, omega_cubed)\n",
    "    D = fft3_forward(dX, omega_cubed)\n",
    "        \n",
    "    # combine subresults\n",
    "    A = [0] * len(aX)\n",
    "    Nthird = len(aX) // 3\n",
    "    omega_Nthird = (omega**Nthird) % Q\n",
    "    point = 1\n",
    "    for i in range(Nthird):\n",
    "        \n",
    "        x = point\n",
    "        xx = (x * x) % Q\n",
    "        A[i                  ] = (B[i] + x * C[i] + xx * D[i]) % Q\n",
    "        \n",
    "        x = x * omega_Nthird % Q\n",
    "        xx = (x * x) % Q\n",
    "        A[i + Nthird         ] = (B[i] + x * C[i] + xx * D[i]) % Q\n",
    "        \n",
    "        x = x * omega_Nthird % Q\n",
    "        xx = (x * x) % Q\n",
    "        A[i + Nthird + Nthird] = (B[i] + x * C[i] + xx * D[i]) % Q\n",
    "\n",
    "        point = (point * omega) % Q\n",
    "        \n",
    "    return A\n",
    "\n",
    "def fft3_backward(A):\n",
    "    N_inv = inverse(len(A))\n",
    "    return [ (a * N_inv) % Q for a in fft3_forward(A, inverse(OMEGA3)) ]\n",
    "\n",
    "coefs = [1,2,3,4,5,6,7,8,9]\n",
    "values = fft3_forward(coefs)\n",
    "coefs_recovered = fft3_backward(values)\n",
    "assert(coefs == coefs_recovered)"
   ]
  },
  {
   "cell_type": "code",
   "execution_count": null,
   "metadata": {
    "collapsed": true
   },
   "outputs": [],
   "source": [
    "(198 * OMEGA3) % Q"
   ]
  },
  {
   "cell_type": "code",
   "execution_count": null,
   "metadata": {
    "collapsed": true
   },
   "outputs": [],
   "source": [
    "1+198+234"
   ]
  },
  {
   "cell_type": "code",
   "execution_count": null,
   "metadata": {
    "collapsed": true
   },
   "outputs": [],
   "source": [
    "150+256+27"
   ]
  },
  {
   "cell_type": "markdown",
   "metadata": {},
   "source": [
    "# Parameter generation"
   ]
  },
  {
   "cell_type": "code",
   "execution_count": null,
   "metadata": {
    "collapsed": true
   },
   "outputs": [],
   "source": [
    "N = 8\n",
    "T = 4\n",
    "K = 3\n",
    "Q = 433 # 6 * (T+K+1) * (N+1) + 1\n",
    "\n",
    "G = \n",
    "\n",
    "OMEGA2 = 354\n",
    "assert((OMEGA2**(T+K+1)) % Q == 1)\n",
    "\n",
    "OMEGA3 = 150\n",
    "assert((OMEGA3**(N+1)) % Q == 1)"
   ]
  },
  {
   "cell_type": "code",
   "execution_count": null,
   "metadata": {},
   "outputs": [],
   "source": [
    "set( (OMEGA2 ** e) % Q for e in range(Q) )"
   ]
  },
  {
   "cell_type": "code",
   "execution_count": null,
   "metadata": {},
   "outputs": [],
   "source": [
    "set( (OMEGA3 ** e) % Q for e in range(Q) )"
   ]
  },
  {
   "cell_type": "code",
   "execution_count": null,
   "metadata": {},
   "outputs": [],
   "source": [
    "2*2*2*2*3*3*3 + 1"
   ]
  },
  {
   "cell_type": "code",
   "execution_count": null,
   "metadata": {
    "collapsed": true
   },
   "outputs": [],
   "source": [
    "import math\n",
    "from functools import reduce\n",
    "\n",
    "#\n",
    "# naive algorithms for primality testing and factoring -- but sufficient for these purposes\n",
    "#\n",
    "\n",
    "def is_prime(n):\n",
    "    if n % 2 == 0 and n > 2: \n",
    "        return False\n",
    "    for i in range(3, math.floor(math.sqrt(n)) + 1, 2):\n",
    "        if n % i == 0:\n",
    "            return False\n",
    "    return True\n",
    "\n",
    "def factor(n):\n",
    "    return set(reduce(list.__add__, \n",
    "                ([i, n//i] for i in range(2, math.floor(math.sqrt(n))+1) if n % i == 0)))"
   ]
  },
  {
   "cell_type": "code",
   "execution_count": null,
   "metadata": {
    "collapsed": true
   },
   "outputs": [],
   "source": [
    "def find_field(min_size, n, m):\n",
    "    \n",
    "    offset = math.ceil( (min_size-1) / (n*m) )\n",
    "    for k in range(offset, offset+1000):\n",
    "        \n",
    "        # candidate prime\n",
    "        p = k * n * m + 1\n",
    "        \n",
    "        # make sure p is above lower bound and prime\n",
    "        if not p >= min_size: continue\n",
    "        if not is_prime(p): continue\n",
    "        \n",
    "        # find generator of Z_p\n",
    "        \n",
    "        factors = factor(p-1)\n",
    "        for g in range(2, p):\n",
    "            for q in factors:\n",
    "                e = (p-1) // q\n",
    "                if ((g**e) % p) == 1:\n",
    "                    break\n",
    "            else:\n",
    "                assert((g**(p-1)) % p == 1)\n",
    "                return (p, g)"
   ]
  },
  {
   "cell_type": "code",
   "execution_count": null,
   "metadata": {},
   "outputs": [],
   "source": [
    "n = 8\n",
    "m = 9\n",
    "(p, g) = find_field(200, n, m)\n",
    "\n",
    "print(p, g)"
   ]
  },
  {
   "cell_type": "code",
   "execution_count": null,
   "metadata": {},
   "outputs": [],
   "source": [
    "omega_n = g**( (p-1) // n ) % p\n",
    "omega_m = g**( (p-1) // m ) % p\n",
    "\n",
    "group_n = [ omega_n**e % p for e in range(0, n) ]\n",
    "group_m = [ omega_m**e % p for e in range(0, m) ]\n",
    "assert(set(group_n).intersection(set(group_m)) == set([1]))\n",
    "\n",
    "print(omega_n, omega_m)"
   ]
  },
  {
   "cell_type": "code",
   "execution_count": null,
   "metadata": {},
   "outputs": [],
   "source": [
    "\n",
    "set( (OMEGA2 ** e) % Q for e in range(Q) )"
   ]
  },
  {
   "cell_type": "code",
   "execution_count": null,
   "metadata": {
    "collapsed": true
   },
   "outputs": [],
   "source": [
    "q = 18446744073710162953\n",
    "p = q - 1\n",
    "p = p // 2**3\n",
    "p = p // 3**4\n",
    "p = p // 7**1\n",
    "p = p // 17**1\n",
    "p = p // 332509**1\n",
    "p = p // 719439619**1"
   ]
  },
  {
   "cell_type": "code",
   "execution_count": null,
   "metadata": {},
   "outputs": [],
   "source": [
    "q == (2**3) * (3**4) * (7) * (17) * (332509) * (719439619) + 1"
   ]
  },
  {
   "cell_type": "code",
   "execution_count": null,
   "metadata": {
    "collapsed": true
   },
   "outputs": [],
   "source": [
    "\n",
    "\n",
    "found factor 2\n",
    "found factor 3\n",
    "found factor 7\n",
    "found factor 17\n",
    "found factor 332509\n",
    "found factor 719439619\n",
    "Trying large primes\n",
    "Generator is 5\n",
    "8-th root is 18296739951669628889\n",
    "9-th root is 6042937017363401072"
   ]
  },
  {
   "cell_type": "markdown",
   "metadata": {},
   "source": [
    "# Dump"
   ]
  },
  {
   "cell_type": "code",
   "execution_count": null,
   "metadata": {
    "collapsed": true
   },
   "outputs": [],
   "source": [
    "import random\n",
    "\n",
    "def miller_rabin(n, k=10):\n",
    "    if n == 2:\n",
    "        return True\n",
    "    if not n & 1:\n",
    "        return False\n",
    "\n",
    "    def check(a, s, d, n):\n",
    "        x = pow(a, d, n)\n",
    "        if x == 1:\n",
    "            return True\n",
    "        for i in range(s - 1):\n",
    "            if x == n - 1:\n",
    "                return True\n",
    "            x = pow(x, 2, n)\n",
    "        return x == n - 1\n",
    "\n",
    "    s = 0\n",
    "    d = n - 1\n",
    "\n",
    "    while d % 2 == 0:\n",
    "        d >>= 1\n",
    "        s += 1\n",
    "\n",
    "    for i in range(k):\n",
    "        a = random.randrange(2, n - 1)\n",
    "        if not check(a, s, d, n):\n",
    "            return False\n",
    "        \n",
    "    return True"
   ]
  },
  {
   "cell_type": "code",
   "execution_count": null,
   "metadata": {},
   "outputs": [],
   "source": [
    "miller_rabin(433)"
   ]
  },
  {
   "cell_type": "code",
   "execution_count": null,
   "metadata": {
    "collapsed": true
   },
   "outputs": [],
   "source": []
  }
 ],
 "metadata": {
  "kernelspec": {
   "display_name": "Python 3",
   "language": "python",
   "name": "python3"
  },
  "language_info": {
   "codemirror_mode": {
    "name": "ipython",
    "version": 3
   },
   "file_extension": ".py",
   "mimetype": "text/x-python",
   "name": "python",
   "nbconvert_exporter": "python",
   "pygments_lexer": "ipython3",
   "version": "3.6.1"
  }
 },
 "nbformat": 4,
 "nbformat_minor": 2
}
