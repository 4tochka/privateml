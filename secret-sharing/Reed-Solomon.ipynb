{
 "cells": [
  {
   "cell_type": "markdown",
   "metadata": {},
   "source": [
    "## Base field arithmetic"
   ]
  },
  {
   "cell_type": "code",
   "execution_count": 1,
   "metadata": {
    "collapsed": true
   },
   "outputs": [],
   "source": [
    "PRIME = 433"
   ]
  },
  {
   "cell_type": "code",
   "execution_count": 2,
   "metadata": {
    "collapsed": true
   },
   "outputs": [],
   "source": [
    "def base_egcd(a, b):\n",
    "    u, v, s, t, r = 1, 0, 0, 1, 0\n",
    "    while (a % 2 == 0) and (b % 2 == 0):\n",
    "        a, b, r = a//2, b//2, r+1\n",
    "    alpha, beta = a, b\n",
    "    while (a % 2 == 0):\n",
    "        a = a//2\n",
    "        if (u % 2 == 0) and (v % 2 == 0):\n",
    "            u, v = u//2, v//2\n",
    "        else:\n",
    "            u, v = (u + beta)//2, (v - alpha)//2\n",
    "    while a != b:\n",
    "        if (b % 2 == 0):\n",
    "            b = b//2\n",
    "            if (s % 2 == 0) and (t % 2 == 0):\n",
    "                s, t = s//2, t//2\n",
    "            else:\n",
    "                s, t = (s + beta)//2, (t - alpha)//2\n",
    "        elif b < a:\n",
    "            a, b, u, v, s, t = b, a, s, t, u, v\n",
    "        else:\n",
    "            b, s, t = b - a, s - u, t - v\n",
    "    return (2 ** r) * a, s, t"
   ]
  },
  {
   "cell_type": "code",
   "execution_count": 3,
   "metadata": {
    "collapsed": true
   },
   "outputs": [],
   "source": [
    "def base_inverse(a):\n",
    "    _, b, _ = base_egcd(a, PRIME)\n",
    "    return b"
   ]
  },
  {
   "cell_type": "code",
   "execution_count": 4,
   "metadata": {
    "collapsed": true
   },
   "outputs": [],
   "source": [
    "def base_add(a, b):\n",
    "    return (a + b) % PRIME"
   ]
  },
  {
   "cell_type": "code",
   "execution_count": 5,
   "metadata": {
    "collapsed": true
   },
   "outputs": [],
   "source": [
    "def base_sub(a, b):\n",
    "    return (a - b) % PRIME"
   ]
  },
  {
   "cell_type": "code",
   "execution_count": 6,
   "metadata": {
    "collapsed": true
   },
   "outputs": [],
   "source": [
    "def base_mul(a, b):\n",
    "    return (a * b) % PRIME"
   ]
  },
  {
   "cell_type": "code",
   "execution_count": 7,
   "metadata": {
    "collapsed": true
   },
   "outputs": [],
   "source": [
    "def base_div(a, b):\n",
    "    return base_mul(a, base_inverse(b))"
   ]
  },
  {
   "cell_type": "markdown",
   "metadata": {},
   "source": [
    "## Polynomial arithmetic"
   ]
  },
  {
   "cell_type": "code",
   "execution_count": 8,
   "metadata": {
    "collapsed": true
   },
   "outputs": [],
   "source": [
    "def expand_to_match(A, B):\n",
    "    diff = len(A) - len(B)\n",
    "    if diff > 0:\n",
    "        return A, B + [0] * diff\n",
    "    elif diff < 0:\n",
    "        diff = abs(diff)\n",
    "        return A + [0] * diff, B\n",
    "    else:\n",
    "        return A, B\n",
    "\n",
    "assert( expand_to_match([1,1], [])  == ([1,1], [0,0]) )\n",
    "assert( expand_to_match([1,1], [1]) == ([1,1], [1,0]) )"
   ]
  },
  {
   "cell_type": "code",
   "execution_count": 9,
   "metadata": {
    "collapsed": true
   },
   "outputs": [],
   "source": [
    "def reduce(A):\n",
    "    for i in range(len(A)-1, -1, -1):\n",
    "        if A[i] != 0:\n",
    "            break\n",
    "    else:\n",
    "        return []\n",
    "    return A[:i+1]\n",
    "\n",
    "assert( reduce([ ]) == [] )\n",
    "assert( reduce([0]) == [] )\n",
    "assert( reduce([0,0]) == [] )\n",
    "assert( reduce([0,1,2]) == [0,1,2] )\n",
    "assert( reduce([0,1,2,0,0]) == [0,1,2] )"
   ]
  },
  {
   "cell_type": "code",
   "execution_count": 10,
   "metadata": {
    "collapsed": true
   },
   "outputs": [],
   "source": [
    "def lc(A):\n",
    "    B = reduce(A)\n",
    "    return B[-1]"
   ]
  },
  {
   "cell_type": "code",
   "execution_count": 11,
   "metadata": {
    "collapsed": true
   },
   "outputs": [],
   "source": [
    "def deg(A):\n",
    "    return len(reduce(A)) - 1\n",
    "\n",
    "assert( deg([ ]) == -1 )\n",
    "assert( deg([0]) == -1 )\n",
    "assert( deg([1,0]) == 0 )\n",
    "assert( deg([0,0,1]) == 2 )"
   ]
  },
  {
   "cell_type": "code",
   "execution_count": 12,
   "metadata": {
    "collapsed": true
   },
   "outputs": [],
   "source": [
    "def poly_add(A, B):\n",
    "    F, G = expand_to_match(A, B)\n",
    "    return reduce([ base_add(f, g) for f, g in zip(F, G) ])\n",
    "\n",
    "assert( poly_add([1,2,3], [2,1]) == [3,3,3] )"
   ]
  },
  {
   "cell_type": "code",
   "execution_count": 13,
   "metadata": {
    "collapsed": true
   },
   "outputs": [],
   "source": [
    "def poly_sub(A, B):\n",
    "    F, G = expand_to_match(A, B)\n",
    "    return reduce([ base_sub(f, g) for f, g in zip(F, G) ])\n",
    "\n",
    "assert( poly_sub([1,2,3], [1,2]) == [0,0,3] )"
   ]
  },
  {
   "cell_type": "code",
   "execution_count": 14,
   "metadata": {
    "collapsed": true
   },
   "outputs": [],
   "source": [
    "def poly_mul(A, B):\n",
    "    C = [ 0 for _ in range(len(A) + len(B) - 1) ]\n",
    "    for i in range(len(A)):\n",
    "        for j in range(len(B)):\n",
    "            C[i+j] = base_add(C[i+j], base_mul(A[i], B[j]))\n",
    "    return reduce(C)"
   ]
  },
  {
   "cell_type": "code",
   "execution_count": 15,
   "metadata": {
    "collapsed": true
   },
   "outputs": [],
   "source": [
    "def poly_divmod(A, B):\n",
    "    t = base_inverse(lc(B))\n",
    "    Q = [0] * len(A)\n",
    "    R = [a for a in A]\n",
    "    for i in range(len(A) - len(B), -1, -1):\n",
    "        Q[i] = base_mul(t, R[i + len(B) - 1])\n",
    "        for j in range(len(B)):\n",
    "            R[i+j] = base_sub(R[i+j], base_mul(Q[i], B[j]))\n",
    "    return reduce(Q), reduce(R)\n",
    "\n",
    "A = [7,4,5,4]\n",
    "B = [1,0,1]\n",
    "Q, R = poly_divmod(A, B)\n",
    "assert( poly_add(poly_mul(Q, B), R) == A )"
   ]
  },
  {
   "cell_type": "code",
   "execution_count": 16,
   "metadata": {
    "collapsed": true
   },
   "outputs": [],
   "source": [
    "def poly_div(A, B):\n",
    "    Q, _ = poly_divmod(A, B)\n",
    "    return Q\n",
    "\n",
    "def poly_mod(A, B):\n",
    "    _, R = poly_divmod(A, B)\n",
    "    return R"
   ]
  },
  {
   "cell_type": "code",
   "execution_count": 17,
   "metadata": {
    "collapsed": true
   },
   "outputs": [],
   "source": [
    "def scalar_div(A, b):\n",
    "    return reduce([ base_div(a, b) for a in A ])"
   ]
  },
  {
   "cell_type": "code",
   "execution_count": 18,
   "metadata": {
    "collapsed": true
   },
   "outputs": [],
   "source": [
    "def poly_gcd(A, B):\n",
    "    R0, R1 = A, B\n",
    "    while R1 != []:\n",
    "        R2 = poly_mod(R0, R1)\n",
    "        R0, R1 = R1, R2\n",
    "    D = scalar_div(R0, lc(R0))\n",
    "    return D\n",
    "\n",
    "D = [1,0,0,1]\n",
    "A = poly_mul(D, [2,0,2])\n",
    "B = poly_mul(D, [3,1])\n",
    "assert( poly_gcd(A, B) == D )"
   ]
  },
  {
   "cell_type": "code",
   "execution_count": 19,
   "metadata": {
    "collapsed": true
   },
   "outputs": [],
   "source": [
    "def poly_egcd(A, B):\n",
    "    R0, R1 = A, B\n",
    "    S0, S1 = [1], []\n",
    "    T0, T1 = [], [1]\n",
    "    \n",
    "    while R1 != []:\n",
    "        Q, R2 = poly_divmod(R0, R1)\n",
    "        \n",
    "        R0, S0, T0, R1, S1, T1 = R1, S1, T1, R2, \\\n",
    "            poly_sub(S0, poly_mul(S1, Q)), \\\n",
    "            poly_sub(T0, poly_mul(T1, Q))\n",
    "            \n",
    "    c = lc(R0)\n",
    "    D = scalar_div(R0, c)\n",
    "    S = scalar_div(S0, c)\n",
    "    T = scalar_div(T0, c)\n",
    "    return D, S, T\n",
    "\n",
    "F = [1,0,0,1]\n",
    "G = poly_mul(F, [2,0,2])\n",
    "H = poly_mul(F, [3,1])\n",
    "\n",
    "D, S, T = poly_egcd(G, H)\n",
    "assert( D == poly_gcd(G, H) )\n",
    "assert( D == poly_add(poly_mul(G, S), poly_mul(H, T)) )"
   ]
  },
  {
   "cell_type": "code",
   "execution_count": 20,
   "metadata": {},
   "outputs": [
    {
     "name": "stdout",
     "output_type": "stream",
     "text": [
      "[[[2, 0, 2, 2, 0, 2], [1], []], [[3, 1, 0, 3, 1], [], [1]]]\n"
     ]
    }
   ],
   "source": [
    "def poly_eea(A, B):\n",
    "    EEA = []\n",
    "    R0, R1 = [a for a in A], [b for b in B]\n",
    "    S0, S1 = [1], []\n",
    "    T0, T1 = [], [1]\n",
    "    while R1 != []:\n",
    "        Q, R2 = poly_divmod(R0, R1)\n",
    "        \n",
    "        EEA.append( [R0, S0, T0] )\n",
    "        \n",
    "        R0, S0, T0, R1, S1, T1 = R1, S1, T1, R2, \\\n",
    "            poly_sub(S0, poly_mul(S1, Q)), \\\n",
    "            poly_sub(T0, poly_mul(T1, Q))\n",
    "            \n",
    "    return EEA\n",
    "\n",
    "F = [1,0,0,1]\n",
    "G = poly_mul(F, [2,0,2])\n",
    "H = poly_mul(F, [3,1])\n",
    "\n",
    "EEA = poly_eea(G, H)\n",
    "print(EEA)"
   ]
  },
  {
   "cell_type": "markdown",
   "metadata": {},
   "source": [
    "# Faulty reconstruction"
   ]
  },
  {
   "cell_type": "code",
   "execution_count": 21,
   "metadata": {
    "collapsed": true
   },
   "outputs": [],
   "source": [
    "ORDER2 = 8\n",
    "ORDER3 = 9\n",
    "\n",
    "OMEGA2 = 354\n",
    "OMEGA3 = 150"
   ]
  },
  {
   "cell_type": "code",
   "execution_count": 22,
   "metadata": {
    "collapsed": true
   },
   "outputs": [],
   "source": [
    "def fft2_forward(A_coeffs, omega):\n",
    "    if len(A_coeffs) == 1:\n",
    "        return A_coeffs\n",
    "\n",
    "    # split A into B and C such that A(x) = B(x^2) + x C(x^2)\n",
    "    B_coeffs = A_coeffs[0::2]\n",
    "    C_coeffs = A_coeffs[1::2]\n",
    "    \n",
    "    # apply recursively\n",
    "    omega_squared = pow(omega, 2, PRIME)\n",
    "    B_values = fft2_forward(B_coeffs, omega_squared)\n",
    "    C_values = fft2_forward(C_coeffs, omega_squared)\n",
    "        \n",
    "    # combine subresults\n",
    "    A_values = [0] * len(A_coeffs)\n",
    "    L_half = len(A_coeffs) // 2\n",
    "    for i in range(0, L_half):\n",
    "        \n",
    "        j = i\n",
    "        x = pow(omega, j, PRIME)\n",
    "        A_values[j] = base_add(B_values[i], base_mul(x, C_values[i]))\n",
    "        \n",
    "        j = i + L_half\n",
    "        x = pow(omega, j, PRIME)\n",
    "        A_values[j] = base_add(B_values[i], base_mul(x, C_values[i]))\n",
    "        \n",
    "    return A_values\n",
    "\n",
    "def fft2_backward(A_values, omega):\n",
    "    L_inv = base_inverse(len(A_values))\n",
    "    A_coeffs = [ base_mul(a, L_inv) for a in fft2_forward(A_values, base_inverse(omega)) ]\n",
    "    return A_coeffs"
   ]
  },
  {
   "cell_type": "code",
   "execution_count": 23,
   "metadata": {
    "collapsed": true
   },
   "outputs": [],
   "source": [
    "def reconstruct_faulty(values, points, h, max_degree, max_error_count):\n",
    "    assert(len(values) == len(points))\n",
    "    assert(len(values) >= 2*max_error_count + max_degree)\n",
    "\n",
    "    # compute f\n",
    "    f = [1]\n",
    "    for xi in points:\n",
    "        fi = [base_sub(0, xi), 1]\n",
    "        f = poly_mul(f, fi)\n",
    "    \n",
    "    # run EGCD to find EEA triples\n",
    "    eea = poly_eea(f, h)\n",
    "    for (r,s,t) in eea:\n",
    "        if deg(r) < max_degree + max_error_count:\n",
    "            if poly_mod(r, t) == []:\n",
    "                return poly_div(r,t)"
   ]
  },
  {
   "cell_type": "code",
   "execution_count": 24,
   "metadata": {},
   "outputs": [
    {
     "name": "stdout",
     "output_type": "stream",
     "text": [
      "h: [203, 338, 425, 255, 12, 311, 225, 396]\n",
      "[1, 2, 3, 4]\n"
     ]
    }
   ],
   "source": [
    "ERROR_COUNT = 2\n",
    "MAX_DEGREE = 4\n",
    "\n",
    "g = [1,2,3,4,0,0,0,0]\n",
    "assert(deg(g) < MAX_DEGREE)\n",
    "\n",
    "values = fft2_forward(g, OMEGA2)\n",
    "points = [ pow(OMEGA2, e, PRIME) for e in range(8) ]\n",
    "\n",
    "for i in range(ERROR_COUNT):\n",
    "    values[i] = 0\n",
    "\n",
    "h = fft2_backward(values, OMEGA2)\n",
    "print(\"h: %s\" % h)\n",
    "\n",
    "recovered_g = reconstruct_faulty(values, points, h, MAX_DEGREE, ERROR_COUNT)\n",
    "print(recovered_g)\n",
    "\n",
    "assert( reduce(recovered_g) == reduce(g) )"
   ]
  },
  {
   "cell_type": "code",
   "execution_count": null,
   "metadata": {
    "collapsed": true
   },
   "outputs": [],
   "source": []
  }
 ],
 "metadata": {
  "kernelspec": {
   "display_name": "Python 3",
   "language": "python",
   "name": "python3"
  },
  "language_info": {
   "codemirror_mode": {
    "name": "ipython",
    "version": 3
   },
   "file_extension": ".py",
   "mimetype": "text/x-python",
   "name": "python",
   "nbconvert_exporter": "python",
   "pygments_lexer": "ipython3",
   "version": "3.6.1"
  }
 },
 "nbformat": 4,
 "nbformat_minor": 2
}
