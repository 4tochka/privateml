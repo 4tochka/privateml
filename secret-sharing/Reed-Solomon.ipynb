{
 "cells": [
  {
   "cell_type": "markdown",
   "metadata": {},
   "source": [
    "# Base field arithmetic"
   ]
  },
  {
   "cell_type": "code",
   "execution_count": 1,
   "metadata": {
    "collapsed": true
   },
   "outputs": [],
   "source": [
    "PRIME = 433"
   ]
  },
  {
   "cell_type": "code",
   "execution_count": 2,
   "metadata": {
    "collapsed": true
   },
   "outputs": [],
   "source": [
    "def base_egcd(a, b):\n",
    "    r0, r1 = a, b\n",
    "    s0, s1 = 1, 0\n",
    "    t0, t1 = 0, 1\n",
    "    \n",
    "    while r1 != 0:\n",
    "        q, r2 = divmod(r0, r1)\n",
    "        r0, s0, t0, r1, s1, t1 = \\\n",
    "            r1, s1, t1, \\\n",
    "            r2, s0 - s1*q, t0 - t1*q\n",
    "\n",
    "    d = r0\n",
    "    s = s0\n",
    "    t = t0\n",
    "    return d, s, t"
   ]
  },
  {
   "cell_type": "code",
   "execution_count": 3,
   "metadata": {
    "collapsed": true
   },
   "outputs": [],
   "source": [
    "def base_inverse(a):\n",
    "    _, b, _ = base_egcd(a, PRIME)\n",
    "    return b if b >= 0 else b+PRIME"
   ]
  },
  {
   "cell_type": "code",
   "execution_count": 4,
   "metadata": {
    "collapsed": true
   },
   "outputs": [],
   "source": [
    "def base_add(a, b):\n",
    "    return (a + b) % PRIME"
   ]
  },
  {
   "cell_type": "code",
   "execution_count": 5,
   "metadata": {
    "collapsed": true
   },
   "outputs": [],
   "source": [
    "def base_sub(a, b):\n",
    "    return (a - b) % PRIME"
   ]
  },
  {
   "cell_type": "code",
   "execution_count": 6,
   "metadata": {
    "collapsed": true
   },
   "outputs": [],
   "source": [
    "def base_mul(a, b):\n",
    "    return (a * b) % PRIME"
   ]
  },
  {
   "cell_type": "code",
   "execution_count": 7,
   "metadata": {
    "collapsed": true
   },
   "outputs": [],
   "source": [
    "def base_div(a, b):\n",
    "    return base_mul(a, base_inverse(b))"
   ]
  },
  {
   "cell_type": "markdown",
   "metadata": {},
   "source": [
    "# Polynomial arithmetic"
   ]
  },
  {
   "cell_type": "code",
   "execution_count": 8,
   "metadata": {
    "collapsed": true
   },
   "outputs": [],
   "source": [
    "from copy import copy"
   ]
  },
  {
   "cell_type": "code",
   "execution_count": 9,
   "metadata": {
    "collapsed": true
   },
   "outputs": [],
   "source": [
    "def expand_to_match(A, B):\n",
    "    diff = len(A) - len(B)\n",
    "    if diff > 0:\n",
    "        return A, B + [0] * diff\n",
    "    elif diff < 0:\n",
    "        diff = abs(diff)\n",
    "        return A + [0] * diff, B\n",
    "    else:\n",
    "        return A, B\n",
    "\n",
    "assert( expand_to_match([1,1], [])  == ([1,1], [0,0]) )\n",
    "assert( expand_to_match([1,1], [1]) == ([1,1], [1,0]) )"
   ]
  },
  {
   "cell_type": "code",
   "execution_count": 10,
   "metadata": {
    "collapsed": true
   },
   "outputs": [],
   "source": [
    "def reduce(A):\n",
    "    for i in reversed(range(len(A))):\n",
    "        if A[i] != 0:\n",
    "            return A[:i+1]\n",
    "    return []\n",
    "\n",
    "assert( reduce([ ]) == [] )\n",
    "assert( reduce([0]) == [] )\n",
    "assert( reduce([0,0]) == [] )\n",
    "assert( reduce([0,1,2]) == [0,1,2] )\n",
    "assert( reduce([0,1,2,0,0]) == [0,1,2] )"
   ]
  },
  {
   "cell_type": "code",
   "execution_count": 11,
   "metadata": {
    "collapsed": true
   },
   "outputs": [],
   "source": [
    "def lc(A):\n",
    "    B = reduce(A)\n",
    "    return B[-1]\n",
    "\n",
    "assert( lc([0,1,2,0]) == 2 )"
   ]
  },
  {
   "cell_type": "code",
   "execution_count": 12,
   "metadata": {
    "collapsed": true
   },
   "outputs": [],
   "source": [
    "def deg(A):\n",
    "    return len(reduce(A)) - 1\n",
    "\n",
    "assert( deg([ ]) == -1 )\n",
    "assert( deg([0]) == -1 )\n",
    "assert( deg([1,0]) == 0 )\n",
    "assert( deg([0,0,1]) == 2 )"
   ]
  },
  {
   "cell_type": "code",
   "execution_count": 13,
   "metadata": {
    "collapsed": true
   },
   "outputs": [],
   "source": [
    "def poly_add(A, B):\n",
    "    F, G = expand_to_match(A, B)\n",
    "    return reduce([ base_add(f, g) for f, g in zip(F, G) ])\n",
    "\n",
    "assert( poly_add([1,2,3], [2,1]) == [3,3,3] )"
   ]
  },
  {
   "cell_type": "code",
   "execution_count": 14,
   "metadata": {
    "collapsed": true
   },
   "outputs": [],
   "source": [
    "def poly_sub(A, B):\n",
    "    F, G = expand_to_match(A, B)\n",
    "    return reduce([ base_sub(f, g) for f, g in zip(F, G) ])\n",
    "\n",
    "assert( poly_sub([1,2,3], [1,2]) == [0,0,3] )"
   ]
  },
  {
   "cell_type": "code",
   "execution_count": 15,
   "metadata": {
    "collapsed": true
   },
   "outputs": [],
   "source": [
    "def poly_mul(A, B):\n",
    "    C = [0] * (len(A) + len(B) - 1)\n",
    "    for i in range(len(A)):\n",
    "        for j in range(len(B)):\n",
    "            C[i+j] = base_add(C[i+j], base_mul(A[i], B[j]))\n",
    "    return reduce(C)"
   ]
  },
  {
   "cell_type": "code",
   "execution_count": 16,
   "metadata": {
    "collapsed": true
   },
   "outputs": [],
   "source": [
    "def poly_divmod(A, B):\n",
    "    t = base_inverse(lc(B))\n",
    "    Q = [0] * len(A)\n",
    "    R = copy(A)\n",
    "    for i in range(len(A) - len(B), -1, -1):\n",
    "        Q[i] = base_mul(t, R[i + len(B) - 1])\n",
    "        for j in range(len(B)):\n",
    "            R[i+j] = base_sub(R[i+j], base_mul(Q[i], B[j]))\n",
    "    return reduce(Q), reduce(R)\n",
    "\n",
    "A = [7,4,5,4]\n",
    "B = [1,0,1]\n",
    "Q, R = poly_divmod(A, B)\n",
    "assert( poly_add(poly_mul(Q, B), R) == A )"
   ]
  },
  {
   "cell_type": "code",
   "execution_count": 17,
   "metadata": {
    "collapsed": true
   },
   "outputs": [],
   "source": [
    "def poly_div(A, B):\n",
    "    Q, _ = poly_divmod(A, B)\n",
    "    return Q\n",
    "\n",
    "def poly_mod(A, B):\n",
    "    _, R = poly_divmod(A, B)\n",
    "    return R"
   ]
  },
  {
   "cell_type": "code",
   "execution_count": 18,
   "metadata": {
    "collapsed": true
   },
   "outputs": [],
   "source": [
    "def poly_scalarmul(A, b):\n",
    "    return reduce([ base_mul(a, b) for a in A ])\n",
    "\n",
    "def poly_scalardiv(A, b):\n",
    "    return reduce([ base_div(a, b) for a in A ])"
   ]
  },
  {
   "cell_type": "code",
   "execution_count": 19,
   "metadata": {
    "collapsed": true
   },
   "outputs": [],
   "source": [
    "def poly_gcd(A, B):\n",
    "    R0, R1 = A, B\n",
    "    while R1 != []:\n",
    "        R2 = poly_mod(R0, R1)\n",
    "        R0, R1 = R1, R2\n",
    "    D = poly_scalardiv(R0, lc(R0))\n",
    "    return D\n",
    "\n",
    "D = [1,0,0,1]\n",
    "A = poly_mul(D, [2,0,2])\n",
    "B = poly_mul(D, [3,1])\n",
    "assert( poly_gcd(A, B) == D )"
   ]
  },
  {
   "cell_type": "code",
   "execution_count": 20,
   "metadata": {
    "collapsed": true
   },
   "outputs": [],
   "source": [
    "def poly_egcd(A, B):\n",
    "    R0, R1 = A, B\n",
    "    S0, S1 = [1], []\n",
    "    T0, T1 = [], [1]\n",
    "    \n",
    "    while R1 != []:\n",
    "        Q, R2 = poly_divmod(R0, R1)\n",
    "        \n",
    "        R0, S0, T0, R1, S1, T1 = \\\n",
    "            R1, S1, T1, \\\n",
    "            R2, poly_sub(S0, poly_mul(S1, Q)), poly_sub(T0, poly_mul(T1, Q))\n",
    "            \n",
    "    c = lc(R0)\n",
    "    D = poly_scalardiv(R0, c)\n",
    "    S = poly_scalardiv(S0, c)\n",
    "    T = poly_scalardiv(T0, c)\n",
    "    return D, S, T\n",
    "\n",
    "F = [1,0,0,1]\n",
    "G = poly_mul(F, [2,0,2])\n",
    "H = poly_mul(F, [3,1])\n",
    "\n",
    "D, S, T = poly_egcd(G, H)\n",
    "assert( D == poly_gcd(G, H) )\n",
    "assert( D == poly_add(poly_mul(G, S), poly_mul(H, T)) )"
   ]
  },
  {
   "cell_type": "code",
   "execution_count": 21,
   "metadata": {
    "collapsed": true
   },
   "outputs": [],
   "source": [
    "def poly_eval(A, x):\n",
    "    result = 0\n",
    "    for coef in reversed(A):\n",
    "        result = base_add(coef, base_mul(x, result))\n",
    "    return result"
   ]
  },
  {
   "cell_type": "markdown",
   "metadata": {},
   "source": [
    "# Polynomial interpolation"
   ]
  },
  {
   "cell_type": "code",
   "execution_count": 22,
   "metadata": {
    "collapsed": true
   },
   "outputs": [],
   "source": [
    "def lagrange_polynomials(xs):\n",
    "    polys = []\n",
    "    for i, xi in enumerate(xs):\n",
    "        poly = [1]\n",
    "        for j, xj in enumerate(xs):\n",
    "            if i == j: continue\n",
    "            factor = [base_sub(0, xj), 1]\n",
    "            poly = poly_mul(poly, factor)\n",
    "        polys.append(poly)\n",
    "    return polys"
   ]
  },
  {
   "cell_type": "code",
   "execution_count": 23,
   "metadata": {
    "collapsed": true
   },
   "outputs": [],
   "source": [
    "def lagrange_divisors(xs):\n",
    "    divisors = []\n",
    "    for i, xi in enumerate(xs):\n",
    "        divisor = 1\n",
    "        for j, xj in enumerate(xs):\n",
    "            if i == j: continue\n",
    "            factor = base_sub(xi, xj)\n",
    "            divisor = base_mul(divisor, factor)\n",
    "        divisors.append(base_inverse(divisor))\n",
    "    return divisors"
   ]
  },
  {
   "cell_type": "code",
   "execution_count": 24,
   "metadata": {
    "collapsed": true
   },
   "outputs": [],
   "source": [
    "def lagrange_interpolation(xs, ys):\n",
    "    ls = lagrange_polynomials(xs)\n",
    "    ds = lagrange_divisors(xs)\n",
    "    poly = []\n",
    "    for i in range(len(ys)):\n",
    "        term = poly_scalarmul(ls[i], base_mul(ys[i], ds[i]))\n",
    "        poly = poly_add(poly, term)\n",
    "    return poly"
   ]
  },
  {
   "cell_type": "code",
   "execution_count": 25,
   "metadata": {
    "collapsed": true
   },
   "outputs": [],
   "source": [
    "f = [1,2,3]\n",
    "\n",
    "xs = [10,20,30,40]\n",
    "ys = [ poly_eval(f, x) for x in xs ]\n",
    "\n",
    "g = lagrange_interpolation(xs, ys)\n",
    "assert( g == f )"
   ]
  },
  {
   "cell_type": "markdown",
   "metadata": {},
   "source": [
    "# Faulty reconstruction"
   ]
  },
  {
   "cell_type": "code",
   "execution_count": 26,
   "metadata": {
    "collapsed": true
   },
   "outputs": [],
   "source": [
    "def gao_decoding(h, points, max_degree, max_error_count):\n",
    "    assert(len(points) >= 2*max_error_count + max_degree)\n",
    "    \n",
    "    # compute f\n",
    "    f = [1]\n",
    "    for xi in points:\n",
    "        fi = [base_sub(0, xi), 1]\n",
    "        f = poly_mul(f, fi)\n",
    "    \n",
    "    # run EGCD-like algorithm on (f,h) to find EEA triples\n",
    "    R0, R1 = f, h\n",
    "    S0, S1 = [1], []\n",
    "    T0, T1 = [], [1]\n",
    "    while True:\n",
    "        Q, R2 = poly_divmod(R0, R1)\n",
    "        \n",
    "        if deg(R0) < max_degree + max_error_count:\n",
    "            if poly_mod(R0, T0) == []:\n",
    "                return poly_div(R0, T0)\n",
    "            else:\n",
    "                return None\n",
    "        \n",
    "        R0, S0, T0, R1, S1, T1 = \\\n",
    "            R1, S1, T1, \\\n",
    "            R2, poly_sub(S0, poly_mul(S1, Q)), poly_sub(T0, poly_mul(T1, Q))"
   ]
  },
  {
   "cell_type": "code",
   "execution_count": 27,
   "metadata": {
    "collapsed": true
   },
   "outputs": [],
   "source": [
    "def reconstruct_faulty(points, values, max_degree, max_error_count):\n",
    "    assert(len(values) == len(points))\n",
    "    \n",
    "    h = lagrange_interpolation(points, values)\n",
    "    g = gao_decoding(h, points, max_degree, max_error_count)\n",
    "    \n",
    "    return g"
   ]
  },
  {
   "cell_type": "code",
   "execution_count": 28,
   "metadata": {},
   "outputs": [
    {
     "name": "stdout",
     "output_type": "stream",
     "text": [
      "[1, 2, 3, 4]\n"
     ]
    }
   ],
   "source": [
    "OMEGA2, ORDER2 = 354, 8\n",
    "\n",
    "ERROR_COUNT = 2\n",
    "MAX_DEGREE = 4\n",
    "\n",
    "g = [1,2,3,4]\n",
    "assert(deg(g) < MAX_DEGREE)\n",
    "\n",
    "points = [ pow(OMEGA2, e, PRIME) for e in range(8) ]\n",
    "values = [ poly_eval(g, point) for point in points ]\n",
    "\n",
    "for i in range(ERROR_COUNT):\n",
    "    values[i] = 0\n",
    "\n",
    "recovered_g = reconstruct_faulty(points, values, MAX_DEGREE, ERROR_COUNT)\n",
    "print(recovered_g)\n",
    "\n",
    "assert( recovered_g == g )"
   ]
  },
  {
   "cell_type": "code",
   "execution_count": null,
   "metadata": {
    "collapsed": true
   },
   "outputs": [],
   "source": []
  }
 ],
 "metadata": {
  "kernelspec": {
   "display_name": "Python 3",
   "language": "python",
   "name": "python3"
  },
  "language_info": {
   "codemirror_mode": {
    "name": "ipython",
    "version": 3
   },
   "file_extension": ".py",
   "mimetype": "text/x-python",
   "name": "python",
   "nbconvert_exporter": "python",
   "pygments_lexer": "ipython3",
   "version": "3.4.3"
  }
 },
 "nbformat": 4,
 "nbformat_minor": 2
}
