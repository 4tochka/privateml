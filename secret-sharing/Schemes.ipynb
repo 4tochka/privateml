{
 "cells": [
  {
   "cell_type": "code",
   "execution_count": null,
   "metadata": {
    "collapsed": true
   },
   "outputs": [],
   "source": [
    "import random"
   ]
  },
  {
   "cell_type": "markdown",
   "metadata": {},
   "source": [
    "# Encoding"
   ]
  },
  {
   "cell_type": "code",
   "execution_count": null,
   "metadata": {
    "collapsed": true
   },
   "outputs": [],
   "source": [
    "Q = 29"
   ]
  },
  {
   "cell_type": "code",
   "execution_count": null,
   "metadata": {
    "collapsed": true
   },
   "outputs": [],
   "source": [
    "def encode(x):\n",
    "    return x % Q\n",
    "\n",
    "def decode(x):\n",
    "    return x if x <= Q/2 else x-Q"
   ]
  },
  {
   "cell_type": "code",
   "execution_count": null,
   "metadata": {},
   "outputs": [],
   "source": [
    "x = encode(-5)\n",
    "print(\"encoded: %d\" % x)\n",
    "print(\"decoded: %d\" % decode(x))"
   ]
  },
  {
   "cell_type": "markdown",
   "metadata": {},
   "source": [
    "# Additive sharing"
   ]
  },
  {
   "cell_type": "code",
   "execution_count": null,
   "metadata": {
    "collapsed": true
   },
   "outputs": [],
   "source": [
    "N = 10"
   ]
  },
  {
   "cell_type": "code",
   "execution_count": null,
   "metadata": {},
   "outputs": [],
   "source": [
    "def additive_share(secret):\n",
    "    shares = [ random.randrange(Q) for _ in range(N-1) ]\n",
    "    last_share = (secret - sum(shares)) % Q\n",
    "    shares.append(last_share)\n",
    "    return shares\n",
    "\n",
    "def additive_reconstruct(shares):\n",
    "    return sum(shares) % Q\n",
    "\n",
    "shares = additive_share(5)\n",
    "print(shares)\n",
    "print(additive_reconstruct(shares))"
   ]
  },
  {
   "cell_type": "code",
   "execution_count": null,
   "metadata": {
    "collapsed": true
   },
   "outputs": [],
   "source": [
    "def additive_add(x, y):\n",
    "    return [ (xi + yi) % Q for xi, yi in zip(x, y) ]\n",
    "\n",
    "def additive_sub(x, y):\n",
    "    return [ (xi - yi) % Q for xi, yi in zip(x, y) ]"
   ]
  },
  {
   "cell_type": "code",
   "execution_count": null,
   "metadata": {},
   "outputs": [],
   "source": [
    "class Additive:\n",
    "    \n",
    "    def __init__(self, secret=None):\n",
    "        self.shares = additive_share(encode(secret)) if secret is not None else []\n",
    "    \n",
    "    def reveal(self):\n",
    "        return decode(additive_reconstruct(self.shares))\n",
    "    \n",
    "    def __repr__(self):\n",
    "        return \"Additive(%d)\" % self.reveal()\n",
    "    \n",
    "    def __add__(x, y):\n",
    "        z = Additive()\n",
    "        z.shares = additive_add(x.shares, y.shares)\n",
    "        return z\n",
    "    \n",
    "    def __sub__(x, y):\n",
    "        z = Additive()\n",
    "        z.shares = additive_sub(x.shares, y.shares)\n",
    "        return z\n",
    "\n",
    "x = Additive(5)\n",
    "print(x)\n",
    "\n",
    "y = Additive(8)\n",
    "print(y)\n",
    "\n",
    "z = x - y\n",
    "print(z)\n",
    "assert(z.reveal() == -3)"
   ]
  },
  {
   "cell_type": "markdown",
   "metadata": {},
   "source": [
    "# Shamir sharing"
   ]
  },
  {
   "cell_type": "code",
   "execution_count": null,
   "metadata": {},
   "outputs": [],
   "source": [
    "N = 10\n",
    "T = 4\n",
    "\n",
    "assert(T+1 <= N)"
   ]
  },
  {
   "cell_type": "code",
   "execution_count": null,
   "metadata": {},
   "outputs": [],
   "source": [
    "# from http://www.ucl.ac.uk/~ucahcjm/combopt/ext_gcd_python_programs.pdf\n",
    "\n",
    "def ext_binary_gcd(a,b):\n",
    "    u, v, s, t, r = 1, 0, 0, 1, 0\n",
    "    while (a % 2 == 0) and (b % 2 == 0):\n",
    "        a, b, r = a//2, b//2, r+1\n",
    "    alpha, beta = a, b\n",
    "    while (a % 2 == 0):\n",
    "        a = a//2\n",
    "        if (u % 2 == 0) and (v % 2 == 0):\n",
    "            u, v = u//2, v//2\n",
    "        else:\n",
    "            u, v = (u + beta)//2, (v - alpha)//2\n",
    "    while a != b:\n",
    "        if (b % 2 == 0):\n",
    "            b = b//2\n",
    "            if (s % 2 == 0) and (t % 2 == 0):\n",
    "                s, t = s//2, t//2\n",
    "            else:\n",
    "                s, t = (s + beta)//2, (t - alpha)//2\n",
    "        elif b < a:\n",
    "            a, b, u, v, s, t = b, a, s, t, u, v\n",
    "        else:\n",
    "            b, s, t = b - a, s - u, t - v\n",
    "    return (2 ** r) * a, s, t\n",
    "\n",
    "def inverse(a):\n",
    "    _, b, _ = ext_binary_gcd(a, Q)\n",
    "    return b"
   ]
  },
  {
   "cell_type": "code",
   "execution_count": null,
   "metadata": {
    "collapsed": true
   },
   "outputs": [],
   "source": [
    "# using Horner's rule\n",
    "\n",
    "def evaluate_at_point(coefs, point):\n",
    "    result = 0\n",
    "    for coef in reversed(coefs):\n",
    "        result = coef + point * result\n",
    "        result %= Q\n",
    "    return result"
   ]
  },
  {
   "cell_type": "code",
   "execution_count": null,
   "metadata": {
    "collapsed": true
   },
   "outputs": [],
   "source": [
    "# see https://en.wikipedia.org/wiki/Lagrange_polynomial\n",
    "\n",
    "def interpolate_at_zero(points_values):\n",
    "    points, values = zip(*points_values)\n",
    "    result = 0\n",
    "    for i in range(len(values)):\n",
    "        xi = points[i]\n",
    "        yi = values[i]\n",
    "        num = 1\n",
    "        denum = 1\n",
    "        for j in range(len(values)):\n",
    "            if j != i:\n",
    "                xj = points[j]\n",
    "                num = (num * xj) % Q\n",
    "                denum = (denum * (xj - xi)) % Q\n",
    "        result = (result + yi * num * inverse(denum)) % Q\n",
    "    return result"
   ]
  },
  {
   "cell_type": "code",
   "execution_count": null,
   "metadata": {
    "collapsed": true
   },
   "outputs": [],
   "source": [
    "def sample_shamir_polynomial(zero_value):\n",
    "    coefs = [zero_value]\n",
    "    coefs.extend( random.randrange(Q) for _ in range(T) )\n",
    "    return coefs"
   ]
  },
  {
   "cell_type": "code",
   "execution_count": null,
   "metadata": {},
   "outputs": [],
   "source": [
    "def shamir_share(secret):\n",
    "    coefs = sample_shamir_polynomial(secret)\n",
    "    return [ evaluate_at_point(coefs, point) for point in range(1, N+1) ]\n",
    "\n",
    "def shamir_reconstruct(shares):\n",
    "    points = range(1, N+1)\n",
    "    values = shares\n",
    "    points_values = [ (point, value) for point, value in zip(points, values) if value is not None ]\n",
    "    return interpolate_at_zero(points_values)\n",
    "\n",
    "s = shamir_share(5)\n",
    "s[-1] = None\n",
    "s[-2] = None\n",
    "s[-3] = None\n",
    "s[-4] = None\n",
    "x = shamir_reconstruct(s)\n",
    "assert(x == 5)"
   ]
  },
  {
   "cell_type": "code",
   "execution_count": null,
   "metadata": {
    "collapsed": true
   },
   "outputs": [],
   "source": [
    "def shamir_add(x, y):\n",
    "    return [ (xi + yi) % Q for xi, yi in zip(x, y) ]\n",
    "\n",
    "def shamir_sub(x, y):\n",
    "    return [ (xi - yi) % Q for xi, yi in zip(x, y) ]"
   ]
  },
  {
   "cell_type": "code",
   "execution_count": null,
   "metadata": {
    "collapsed": true
   },
   "outputs": [],
   "source": [
    "def shamir_mul(x, y):\n",
    "    return [ (xi * yi) % Q for xi, yi in zip(x, y) ]"
   ]
  },
  {
   "cell_type": "code",
   "execution_count": null,
   "metadata": {},
   "outputs": [],
   "source": [
    "class Shamir:\n",
    "    \n",
    "    def __init__(self, secret=None):\n",
    "        self.shares = shamir_share(encode(secret)) if secret is not None else []\n",
    "        self.degree = T\n",
    "    \n",
    "    def reveal(self):\n",
    "        assert(self.degree+1 <= N)\n",
    "        return decode(shamir_reconstruct(self.shares))\n",
    "    \n",
    "    def __repr__(self):\n",
    "        return \"Shamir(%d)\" % self.reveal()\n",
    "    \n",
    "    def __add__(x, y):\n",
    "        z = Shamir()\n",
    "        z.shares = shamir_add(x.shares, y.shares)\n",
    "        z.degree = max(x.degree, y.degree)\n",
    "        return z\n",
    "    \n",
    "    def __sub__(x, y):\n",
    "        z = Shamir()\n",
    "        z.shares = shamir_sub(x.shares, y.shares)\n",
    "        z.degree = max(x.degree, y.degree)\n",
    "        return z\n",
    "    \n",
    "    def __mul__(x, y):\n",
    "        z = Shamir()\n",
    "        z.shares = shamir_mul(x.shares, y.shares)\n",
    "        z.degree = x.degree + y.degree\n",
    "        return z\n",
    "    \n",
    "x = Shamir(2)\n",
    "print(x)\n",
    "\n",
    "y = Shamir(3)\n",
    "print(y)\n",
    "\n",
    "z = x - y\n",
    "print(z)\n",
    "assert(z.reveal() == -1)\n",
    "\n",
    "v = x * y\n",
    "print(v)\n",
    "assert(v.reveal() == 6)"
   ]
  },
  {
   "cell_type": "markdown",
   "metadata": {},
   "source": [
    "# Packed sharing"
   ]
  },
  {
   "cell_type": "code",
   "execution_count": null,
   "metadata": {
    "collapsed": true
   },
   "outputs": [],
   "source": [
    "N = 10\n",
    "T = 5\n",
    "K = 3\n",
    "\n",
    "assert(T+K <= N)"
   ]
  },
  {
   "cell_type": "code",
   "execution_count": null,
   "metadata": {
    "collapsed": true
   },
   "outputs": [],
   "source": [
    "def interpolation_at_point(points_values, point):\n",
    "    points, values = zip(*points_values)\n",
    "    result = 0\n",
    "    for i in range(len(values)):\n",
    "        xi = points[i]\n",
    "        yi = values[i]\n",
    "        num = 1\n",
    "        denum = 1\n",
    "        for j in range(len(values)):\n",
    "            if j != i:\n",
    "                xj = points[j]\n",
    "                num = (num * xj) % Q\n",
    "                denum = (denum * (xj - xi)) % Q\n",
    "        result = (result + yi * num * inverse(denum)) % Q\n",
    "    return result"
   ]
  },
  {
   "cell_type": "code",
   "execution_count": null,
   "metadata": {
    "collapsed": true
   },
   "outputs": [],
   "source": [
    "def sample_packed_polynomial(secrets):\n",
    "    assert(len(secrets) == K)\n",
    "    points = secrets\n",
    "    points.extend( random.randrange(Q) for _ in range(T) )"
   ]
  }
 ],
 "metadata": {
  "kernelspec": {
   "display_name": "Python 3",
   "language": "python",
   "name": "python3"
  },
  "language_info": {
   "codemirror_mode": {
    "name": "ipython",
    "version": 3
   },
   "file_extension": ".py",
   "mimetype": "text/x-python",
   "name": "python",
   "nbconvert_exporter": "python",
   "pygments_lexer": "ipython3",
   "version": "3.6.1"
  }
 },
 "nbformat": 4,
 "nbformat_minor": 2
}
