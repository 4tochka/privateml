{
 "cells": [
  {
   "cell_type": "code",
   "execution_count": 1,
   "metadata": {
    "collapsed": true
   },
   "outputs": [],
   "source": [
    "from functools import reduce\n",
    "import numpy as np\n",
    "from datetime import datetime\n",
    "from math import log\n",
    "\n",
    "log2 = lambda x: log(x)/log(2)\n",
    "prod = lambda xs: reduce(lambda x, y: x * y, xs)"
   ]
  },
  {
   "cell_type": "markdown",
   "metadata": {},
   "source": [
    "# Number theory"
   ]
  },
  {
   "cell_type": "code",
   "execution_count": 2,
   "metadata": {
    "collapsed": true
   },
   "outputs": [],
   "source": [
    "def egcd(a, b):\n",
    "    if a == 0:\n",
    "        return (b, 0, 1)\n",
    "    else:\n",
    "        g, y, x = egcd(b % a, a)\n",
    "        return (g, x - (b // a) * y, y)\n",
    "    \n",
    "def gcd(a, b):\n",
    "    g, _, _ = egcd(a, b)\n",
    "    return g\n",
    "\n",
    "def inverse(a, m):\n",
    "    _, b, _ = egcd(a, m)\n",
    "    return b % m"
   ]
  },
  {
   "cell_type": "markdown",
   "metadata": {},
   "source": [
    "# CRT mapping"
   ]
  },
  {
   "cell_type": "code",
   "execution_count": 84,
   "metadata": {},
   "outputs": [],
   "source": [
    "def decomposer(ms):\n",
    "    def decompose(x):\n",
    "        return tuple( x % m for m in ms )\n",
    "    return decompose\n",
    "\n",
    "def recombiner(ms):\n",
    "    M = prod(ms)\n",
    "    Mis = ( M // mi for mi in ms )\n",
    "    ls = [ Mi * inverse(Mi, mi) % M for Mi, mi in zip(Mis, ms) ]\n",
    "    def recombine(xs):\n",
    "        return sum( xi * li for xi, li in zip(xs, ls) ) % M\n",
    "    return recombine\n",
    "\n",
    "# def explicit_recombiner(ms):\n",
    "    \n",
    "\n",
    "def crt(ms):\n",
    "    for i, mi in enumerate(ms):\n",
    "        for j, mj in enumerate(ms[i+1:]):\n",
    "            assert gcd(mi, mj) == 1, '{} and {} are not coprime'.format(mi, mj)\n",
    "    return decomposer(ms), recombiner(ms)\n",
    "    \n",
    "ms = [100, 10001, 12347]\n",
    "decompose, recombine = crt(ms)\n",
    "\n",
    "x = 123456\n",
    "assert recombine(decompose(x)) == x"
   ]
  },
  {
   "cell_type": "code",
   "execution_count": 98,
   "metadata": {},
   "outputs": [],
   "source": [
    "ps = ms\n",
    "P = prod(ps)\n",
    "\n",
    "u = 1234567891\n",
    "assert u < P\n",
    "\n",
    "us = decompose(u)\n",
    "\n",
    "# precompute\n",
    "qs = [ inverse(P//pi, pi) for pi in ps ]\n",
    "for qi, pi in zip(qs, ps): assert qi < pi\n",
    "\n",
    "# recombine\n",
    "ts = [ ui * qi % pi for ui, qi, pi in zip(us, qs, ps) ]\n",
    "for ti, pi in zip(ts, ps): assert ti < pi\n",
    "\n",
    "rs = [ ti / pi for ti, pi in zip(ts, ps) ]\n",
    "for ri, pi in zip(rs, ps): assert ri < pi\n",
    "\n",
    "alpha = sum(rs)\n",
    "assert alpha < 3\n",
    "\n",
    "v = int(P*alpha - P*round(alpha))\n",
    "\n",
    "assert u == v, (u, v)"
   ]
  },
  {
   "cell_type": "code",
   "execution_count": 99,
   "metadata": {
    "collapsed": true
   },
   "outputs": [],
   "source": [
    "ps = ms\n",
    "P = prod(ps)\n",
    "\n",
    "u = 1234567891\n",
    "assert u < P\n",
    "\n",
    "us = decompose(u)\n",
    "\n",
    "# precompute\n",
    "qs = [ inverse(P//pi, pi) for pi in ps ]\n",
    "for qi, pi in zip(qs, ps): assert qi < pi\n",
    "\n",
    "# recombine\n",
    "ts = [ ui * qi % pi for ui, qi, pi in zip(us, qs, ps) ]\n",
    "for ti, pi in zip(ts, ps): assert ti < pi\n",
    "\n",
    "rs = [ ti / pi for ti, pi in zip(ts, ps) ]\n",
    "for ri, pi in zip(rs, ps): assert ri < pi\n",
    "    \n",
    "alpha = sum(rs)\n",
    "assert alpha < 3\n",
    "\n",
    "v = int(P*alpha - P*round(alpha))\n",
    "\n",
    "assert u == v, (u, v)"
   ]
  },
  {
   "cell_type": "code",
   "execution_count": 30,
   "metadata": {},
   "outputs": [
    {
     "name": "stdout",
     "output_type": "stream",
     "text": [
      "0:00:00.042136\n"
     ]
    }
   ],
   "source": [
    "x = 123456\n",
    "\n",
    "start = datetime.now()\n",
    "for _ in range(10000):\n",
    "    recombine(decompose(x))\n",
    "end = datetime.now()\n",
    "\n",
    "print(end - start)"
   ]
  },
  {
   "cell_type": "markdown",
   "metadata": {},
   "source": [
    "# Basic performance test"
   ]
  },
  {
   "cell_type": "markdown",
   "metadata": {},
   "source": [
    "We want to do a dot product in a ~120 bit ring between numbers that are likely to be of that same size (secret shares). What is performance difference between working on multi-precision numbers in naive representation and CRT representation that fits in 64 bit words?"
   ]
  },
  {
   "cell_type": "code",
   "execution_count": 4,
   "metadata": {
    "collapsed": true
   },
   "outputs": [],
   "source": [
    "x = np.array([ 2**120 for _ in range(1024) ]).astype(object)\n",
    "y = np.array([ 2**120 for _ in range(1024) ]).astype(object)"
   ]
  },
  {
   "cell_type": "markdown",
   "metadata": {},
   "source": [
    "## Naive representation"
   ]
  },
  {
   "cell_type": "markdown",
   "metadata": {},
   "source": [
    "NOTE: since we're only doing the reduction we should test what results we get if we did reductions as part of multiplication and before/during addition."
   ]
  },
  {
   "cell_type": "code",
   "execution_count": 5,
   "metadata": {},
   "outputs": [
    {
     "name": "stdout",
     "output_type": "stream",
     "text": [
      "0:00:01.471238\n"
     ]
    }
   ],
   "source": [
    "Q = 2657003489534545107915232808830590043\n",
    "assert log2(Q) > 120\n",
    "\n",
    "start = datetime.now()\n",
    "for _ in range(10000):\n",
    "    z = np.dot(x, y) % Q\n",
    "end = datetime.now()\n",
    "\n",
    "print(end - start)"
   ]
  },
  {
   "cell_type": "markdown",
   "metadata": {},
   "source": [
    "## Using the CRT"
   ]
  },
  {
   "cell_type": "markdown",
   "metadata": {},
   "source": [
    "We want every component to fit in a 64bit signed integer after one multiplication and 1024 additions: `63 > m * m + log2(1024)` meaning `log2(m) ~ 26` works."
   ]
  },
  {
   "cell_type": "code",
   "execution_count": 6,
   "metadata": {
    "collapsed": true
   },
   "outputs": [],
   "source": [
    "ms = [89702869, 78489023, 69973811, 70736797, 79637461]\n",
    "\n",
    "# make sure that we can do add up to 1024 single multiplications and still have room in 64bit signed word\n",
    "for m in ms:\n",
    "    assert log2(m * m * 1024) < 63\n",
    "    \n",
    "M = prod(ms)\n",
    "assert log2(M) > 120"
   ]
  },
  {
   "cell_type": "code",
   "execution_count": 17,
   "metadata": {
    "collapsed": true
   },
   "outputs": [],
   "source": [
    "decompose, recombine = crt(ms)\n",
    "vec_decompose = np.vectorize(decompose)\n",
    "vec_recombine = recombine\n",
    "\n",
    "assert (x == recombine(vec_decompose(x))).all()\n",
    "assert (y == recombine(vec_decompose(y))).all()"
   ]
  },
  {
   "cell_type": "markdown",
   "metadata": {},
   "source": [
    "How long does the decomposition and recombination take? This is the hidden prize we pay and need to minimize."
   ]
  },
  {
   "cell_type": "code",
   "execution_count": 31,
   "metadata": {},
   "outputs": [
    {
     "name": "stdout",
     "output_type": "stream",
     "text": [
      "0:00:22.590107\n"
     ]
    }
   ],
   "source": [
    "start = datetime.now()\n",
    "for _ in range(10000):\n",
    "    _ = vec_decompose(x)\n",
    "    _ = vec_decompose(y)\n",
    "end = datetime.now()\n",
    "\n",
    "print(end - start)"
   ]
  },
  {
   "cell_type": "code",
   "execution_count": 32,
   "metadata": {},
   "outputs": [
    {
     "name": "stdout",
     "output_type": "stream",
     "text": [
      "0:00:07.837588\n"
     ]
    }
   ],
   "source": [
    "xs = vec_decompose(x)\n",
    "ys = vec_decompose(y)\n",
    "\n",
    "start = datetime.now()\n",
    "for _ in range(10000):\n",
    "    _ = vec_recombine(ys)\n",
    "end = datetime.now()\n",
    "\n",
    "print(end - start)"
   ]
  },
  {
   "cell_type": "markdown",
   "metadata": {},
   "source": [
    "How long does the dot product itself take?"
   ]
  },
  {
   "cell_type": "code",
   "execution_count": 26,
   "metadata": {},
   "outputs": [
    {
     "name": "stdout",
     "output_type": "stream",
     "text": [
      "0:00:00.132995\n"
     ]
    }
   ],
   "source": [
    "xs = vec_decompose(x)\n",
    "ys = vec_decompose(y)\n",
    "\n",
    "start = datetime.now()\n",
    "for _ in range(10000):\n",
    "    for xi, yi, mi in zip(xs, ys, ms):\n",
    "        zi = np.dot(xi, yi) % mi\n",
    "end = datetime.now()\n",
    "\n",
    "print(end - start)"
   ]
  },
  {
   "cell_type": "markdown",
   "metadata": {},
   "source": [
    "# Arithmetic"
   ]
  },
  {
   "cell_type": "code",
   "execution_count": 39,
   "metadata": {
    "collapsed": true
   },
   "outputs": [],
   "source": [
    "def add(a, b):\n",
    "    return tuple( (ai + bi) % mi for ai, bi, mi in zip(a, b, ms) )\n",
    "\n",
    "def sub(a, b):\n",
    "    return tuple( (ai - bi) % mi for ai, bi, mi in zip(a, b, ms) )\n",
    "\n",
    "def mul(a, b):\n",
    "    return tuple( (ai * bi) % mi for ai, bi, mi in zip(a, b, ms) )\n",
    "    \n",
    "x = 1234\n",
    "y = 5\n",
    "\n",
    "a = decompose(x)\n",
    "b = decompose(y)\n",
    "c = add(a, b); assert recombine(c) == x + y\n",
    "c = sub(a, b); assert recombine(c) == x - y\n",
    "c = mul(a, b); assert recombine(c) == x * y"
   ]
  },
  {
   "cell_type": "markdown",
   "metadata": {},
   "source": [
    "# Modulus and truncation"
   ]
  },
  {
   "cell_type": "code",
   "execution_count": 40,
   "metadata": {},
   "outputs": [],
   "source": [
    "xs = decompose(12345)\n",
    "\n",
    "def naive_mod(xs, m):\n",
    "    x = recombine(xs)\n",
    "    y = x % m\n",
    "    ys = decompose(y)\n",
    "    return ys\n",
    "\n",
    "ys = naive_mod(xs, 100); assert recombine(ys) == 45\n",
    "zs = sub(xs, ys); assert recombine(zs) == 12300"
   ]
  },
  {
   "cell_type": "code",
   "execution_count": null,
   "metadata": {
    "collapsed": true
   },
   "outputs": [],
   "source": []
  },
  {
   "cell_type": "code",
   "execution_count": 48,
   "metadata": {},
   "outputs": [
    {
     "data": {
      "text/plain": [
       "1234"
      ]
     },
     "execution_count": 48,
     "metadata": {},
     "output_type": "execute_result"
    }
   ],
   "source": [
    "def truncator(k):\n",
    "    k_inv = inverse(k, M)\n",
    "    assert (k * k_inv) % M == 1\n",
    "    ks = decompose(k_inv)\n",
    "    def truncate(xs):\n",
    "        ys = sub(xs, naive_mod(xs, k))\n",
    "        return mul(ys, ks)\n",
    "    return truncate\n",
    "\n",
    "truncate = truncator(10)\n",
    "recombine(truncate(xs))"
   ]
  },
  {
   "cell_type": "markdown",
   "metadata": {},
   "source": [
    "# Mixing CRT and secret sharing"
   ]
  },
  {
   "cell_type": "code",
   "execution_count": null,
   "metadata": {
    "collapsed": true
   },
   "outputs": [],
   "source": [
    "import random"
   ]
  },
  {
   "cell_type": "code",
   "execution_count": null,
   "metadata": {
    "collapsed": true
   },
   "outputs": [],
   "source": [
    "def share(secret, modulus):\n",
    "    x0 = random.randrange(modulus)\n",
    "    x1 = (secret - x0) % modulus\n",
    "    return x0, x1\n",
    "\n",
    "def reconstruct(x0, x1, modulus):\n",
    "    return (x0 + x1) % modulus"
   ]
  },
  {
   "cell_type": "code",
   "execution_count": null,
   "metadata": {
    "collapsed": true
   },
   "outputs": [],
   "source": [
    "x = 12345\n",
    "m = inverse(M, N)"
   ]
  },
  {
   "cell_type": "code",
   "execution_count": null,
   "metadata": {
    "collapsed": true
   },
   "outputs": [],
   "source": [
    "a, b = decompose(x)\n",
    "ab = recombine(a, b)\n",
    "assert ab == x, ab\n",
    "\n",
    "c, d = (0, (b - a) % N)\n",
    "cd = recombine(c, d)\n",
    "assert cd in [12300], cd\n",
    "\n",
    "e, f = (d * m) % N % M, (d * m) % N\n",
    "ef = recombine(e, f)\n",
    "assert ef in [123], ef"
   ]
  },
  {
   "cell_type": "code",
   "execution_count": 27,
   "metadata": {},
   "outputs": [
    {
     "ename": "ValueError",
     "evalue": "too many values to unpack (expected 2)",
     "output_type": "error",
     "traceback": [
      "\u001b[0;31m---------------------------------------------------------------------------\u001b[0m",
      "\u001b[0;31mValueError\u001b[0m                                Traceback (most recent call last)",
      "\u001b[0;32m<ipython-input-27-27f3085162cd>\u001b[0m in \u001b[0;36m<module>\u001b[0;34m()\u001b[0m\n\u001b[1;32m     66\u001b[0m \u001b[0;34m\u001b[0m\u001b[0m\n\u001b[1;32m     67\u001b[0m \u001b[0;32mfor\u001b[0m \u001b[0mx\u001b[0m \u001b[0;32min\u001b[0m \u001b[0;34m[\u001b[0m\u001b[0;36m12345\u001b[0m\u001b[0;34m]\u001b[0m\u001b[0;34m:\u001b[0m \u001b[0;31m# range(1, B)[:10]:\u001b[0m\u001b[0;34m\u001b[0m\u001b[0m\n\u001b[0;32m---> 68\u001b[0;31m     \u001b[0mprint\u001b[0m\u001b[0;34m(\u001b[0m\u001b[0msum\u001b[0m\u001b[0;34m(\u001b[0m\u001b[0mtest\u001b[0m\u001b[0;34m(\u001b[0m\u001b[0;34m)\u001b[0m \u001b[0;32mfor\u001b[0m \u001b[0m_\u001b[0m \u001b[0;32min\u001b[0m \u001b[0mrange\u001b[0m\u001b[0;34m(\u001b[0m\u001b[0;36m200000\u001b[0m\u001b[0;34m)\u001b[0m\u001b[0;34m)\u001b[0m\u001b[0;34m)\u001b[0m\u001b[0;34m\u001b[0m\u001b[0m\n\u001b[0m",
      "\u001b[0;32m<ipython-input-27-27f3085162cd>\u001b[0m in \u001b[0;36m<genexpr>\u001b[0;34m(.0)\u001b[0m\n\u001b[1;32m     66\u001b[0m \u001b[0;34m\u001b[0m\u001b[0m\n\u001b[1;32m     67\u001b[0m \u001b[0;32mfor\u001b[0m \u001b[0mx\u001b[0m \u001b[0;32min\u001b[0m \u001b[0;34m[\u001b[0m\u001b[0;36m12345\u001b[0m\u001b[0;34m]\u001b[0m\u001b[0;34m:\u001b[0m \u001b[0;31m# range(1, B)[:10]:\u001b[0m\u001b[0;34m\u001b[0m\u001b[0m\n\u001b[0;32m---> 68\u001b[0;31m     \u001b[0mprint\u001b[0m\u001b[0;34m(\u001b[0m\u001b[0msum\u001b[0m\u001b[0;34m(\u001b[0m\u001b[0mtest\u001b[0m\u001b[0;34m(\u001b[0m\u001b[0;34m)\u001b[0m \u001b[0;32mfor\u001b[0m \u001b[0m_\u001b[0m \u001b[0;32min\u001b[0m \u001b[0mrange\u001b[0m\u001b[0;34m(\u001b[0m\u001b[0;36m200000\u001b[0m\u001b[0;34m)\u001b[0m\u001b[0;34m)\u001b[0m\u001b[0;34m)\u001b[0m\u001b[0;34m\u001b[0m\u001b[0m\n\u001b[0m",
      "\u001b[0;32m<ipython-input-27-27f3085162cd>\u001b[0m in \u001b[0;36mtest\u001b[0;34m()\u001b[0m\n\u001b[1;32m      1\u001b[0m \u001b[0;32mdef\u001b[0m \u001b[0mtest\u001b[0m\u001b[0;34m(\u001b[0m\u001b[0;34m)\u001b[0m\u001b[0;34m:\u001b[0m\u001b[0;34m\u001b[0m\u001b[0m\n\u001b[1;32m      2\u001b[0m \u001b[0;34m\u001b[0m\u001b[0m\n\u001b[0;32m----> 3\u001b[0;31m     \u001b[0ma\u001b[0m\u001b[0;34m,\u001b[0m \u001b[0mb\u001b[0m \u001b[0;34m=\u001b[0m \u001b[0mdecompose\u001b[0m\u001b[0;34m(\u001b[0m\u001b[0mx\u001b[0m\u001b[0;34m)\u001b[0m\u001b[0;34m\u001b[0m\u001b[0m\n\u001b[0m\u001b[1;32m      4\u001b[0m     \u001b[0mab\u001b[0m \u001b[0;34m=\u001b[0m \u001b[0mrecombine\u001b[0m\u001b[0;34m(\u001b[0m\u001b[0ma\u001b[0m\u001b[0;34m,\u001b[0m \u001b[0mb\u001b[0m\u001b[0;34m)\u001b[0m\u001b[0;34m\u001b[0m\u001b[0m\n\u001b[1;32m      5\u001b[0m     \u001b[0;32massert\u001b[0m \u001b[0mab\u001b[0m \u001b[0;34m==\u001b[0m \u001b[0mx\u001b[0m\u001b[0;34m,\u001b[0m \u001b[0mab\u001b[0m\u001b[0;34m\u001b[0m\u001b[0m\n",
      "\u001b[0;31mValueError\u001b[0m: too many values to unpack (expected 2)"
     ]
    }
   ],
   "source": [
    "def test():\n",
    "    \n",
    "    a, b = decompose(x)\n",
    "    ab = recombine(a, b)\n",
    "    assert ab == x, ab\n",
    "\n",
    "    a0, a1 = share(a, M)\n",
    "    b0, b1 = share(b, N)\n",
    "    a = reconstruct(a0, a1, M)\n",
    "    b = reconstruct(b0, b1, N)\n",
    "    ab = recombine(a, b)\n",
    "    assert ab == x, ab\n",
    "\n",
    "    c0, c1 = share(0, M)\n",
    "    d0, d1 = (b0 - a0 + M) % N, (b1 - a1) % N\n",
    "    c = reconstruct(c0, c1, M)\n",
    "    d = reconstruct(d0, d1, N)\n",
    "    cd = recombine(c, d)\n",
    "    assert cd in [12300, 12400], cd\n",
    "\n",
    "    f0, f1 = (d0 * m) % N, (d1 * m) % N\n",
    "#     if f0 < N//2 or f1 < N//2:\n",
    "#         print(f0, f1, f0 + f1 < N)\n",
    "    f0_patched = f0 #if f0 > N/2 else f0 + N//2\n",
    "    f1_patched = f1 #if f1 > N/2 else f1 + N//2\n",
    "\n",
    "    # option A: works\n",
    "    if f0 + f1 < N:\n",
    "        f0_patched += N//2\n",
    "        f1_patched += N//2 + 1\n",
    "        \n",
    "    # option B: doesn't work\n",
    "    # ********* MAYBE TEST AGAINST B INSTEAD???? **********\n",
    "#     if f0 < N//2:\n",
    "#         f0_patched += N//2 + M\n",
    "#     if f1 < N//2:\n",
    "#         f1_patched += N//2 + M\n",
    "#     assert f0 % M == f0_patched % M\n",
    "#     assert f1 % M == f1_patched % M\n",
    "\n",
    "    # option C with one bit (one field element encrypted) of communication: not sure works\n",
    "#     if f0 < B and f1 < B:\n",
    "#         f0_patched += N//2\n",
    "#         f1_patched += N//2 + 1\n",
    "\n",
    "#     assert f0_patched + f1_patched > N\n",
    "\n",
    "    e0, e1 = f0_patched % M, f1_patched % M\n",
    "    e0 = (e0 - 1) % M\n",
    "    \n",
    "    e = reconstruct(e0, e1, M)\n",
    "    f = reconstruct(f0, f1, N)\n",
    "    ef = recombine(e, f)\n",
    "\n",
    "    correct_result = ef in [123, 124]\n",
    "#     f_wrap_around = (f0 + f1) >= N\n",
    "#     f_wrap_around = (f0_patched + f1_patched) >= N\n",
    "    \n",
    "\n",
    "#     if not f_wrap_around:\n",
    "#         print(correct_result, f_wrap_around, f0, f1, f0_patched, f1_patched, e, f, f%M)\n",
    "#     assert correct_result == f_wrap_around, (correct_result, f_wrap_around, ef)\n",
    "#     assert e == f % M, (e, f%M)\n",
    "#     assert (f0_patched + f1_patched) >= N\n",
    "    return correct_result\n",
    "\n",
    "for x in [12345]: # range(1, B)[:10]:\n",
    "    print(sum(test() for _ in range(200000)))"
   ]
  },
  {
   "cell_type": "code",
   "execution_count": null,
   "metadata": {
    "collapsed": true
   },
   "outputs": [],
   "source": []
  },
  {
   "cell_type": "code",
   "execution_count": null,
   "metadata": {
    "collapsed": true
   },
   "outputs": [],
   "source": [
    "shifter = inverse(M, MN)\n",
    "print(shifter)\n",
    "\n",
    "(a0, a1), (b0, b1) = zip(*share(1234))\n",
    "\n",
    "c0 = 0\n",
    "c1 = 0\n",
    "t0 = (b0 - a0)  % N\n",
    "t1 = (b1 - a1 + M) % N\n",
    "d0 = (t0 * shifter) % N\n",
    "d1 = (t1 * shifter) % N\n",
    "\n",
    "recombine((c0 + c1) % M, (d0 + d1) % N)"
   ]
  },
  {
   "cell_type": "code",
   "execution_count": null,
   "metadata": {
    "collapsed": true
   },
   "outputs": [],
   "source": [
    "inverse(100, N)"
   ]
  },
  {
   "cell_type": "code",
   "execution_count": null,
   "metadata": {
    "collapsed": true
   },
   "outputs": [],
   "source": [
    "1200 % 200"
   ]
  },
  {
   "cell_type": "code",
   "execution_count": null,
   "metadata": {
    "collapsed": true
   },
   "outputs": [],
   "source": [
    "1200 % 201"
   ]
  },
  {
   "cell_type": "code",
   "execution_count": null,
   "metadata": {
    "collapsed": true
   },
   "outputs": [],
   "source": [
    "decompose(1234)"
   ]
  },
  {
   "cell_type": "code",
   "execution_count": null,
   "metadata": {
    "collapsed": true
   },
   "outputs": [],
   "source": [
    "decompose(1200)"
   ]
  },
  {
   "cell_type": "code",
   "execution_count": null,
   "metadata": {
    "collapsed": true
   },
   "outputs": [],
   "source": [
    "decompose(12)"
   ]
  },
  {
   "cell_type": "code",
   "execution_count": null,
   "metadata": {
    "collapsed": true
   },
   "outputs": [],
   "source": [
    "mul"
   ]
  },
  {
   "cell_type": "code",
   "execution_count": null,
   "metadata": {
    "collapsed": true
   },
   "outputs": [],
   "source": [
    "1234 = a * 200 + b\n",
    "1234 = c * 201 + d = c * 200 + c + d = c * 200 + e\n",
    "\n",
    "a * 200 + b = c * 200 + e\n",
    "a * 200 - c * 200 = e - b\n",
    "\n",
    "\n"
   ]
  }
 ],
 "metadata": {
  "kernelspec": {
   "display_name": "Python 3",
   "language": "python",
   "name": "python3"
  },
  "language_info": {
   "codemirror_mode": {
    "name": "ipython",
    "version": 3
   },
   "file_extension": ".py",
   "mimetype": "text/x-python",
   "name": "python",
   "nbconvert_exporter": "python",
   "pygments_lexer": "ipython3",
   "version": "3.6.4"
  }
 },
 "nbformat": 4,
 "nbformat_minor": 2
}
