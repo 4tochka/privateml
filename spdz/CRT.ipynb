{
 "cells": [
  {
   "cell_type": "code",
   "execution_count": 1,
   "metadata": {
    "collapsed": true
   },
   "outputs": [],
   "source": [
    "import random\n",
    "from functools import reduce\n",
    "import numpy as np\n",
    "from datetime import datetime\n",
    "from math import log\n",
    "\n",
    "log2 = lambda x: log(x)/log(2)\n",
    "prod = lambda xs: reduce(lambda x, y: x * y, xs)"
   ]
  },
  {
   "cell_type": "markdown",
   "metadata": {},
   "source": [
    "# Number theory\n",
    "\n",
    "All we really need is finding inverses."
   ]
  },
  {
   "cell_type": "code",
   "execution_count": 2,
   "metadata": {
    "collapsed": true
   },
   "outputs": [],
   "source": [
    "def egcd(a, b):\n",
    "    if a == 0:\n",
    "        return (b, 0, 1)\n",
    "    else:\n",
    "        g, y, x = egcd(b % a, a)\n",
    "        return (g, x - (b // a) * y, y)\n",
    "    \n",
    "def gcd(a, b):\n",
    "    g, _, _ = egcd(a, b)\n",
    "    return g\n",
    "\n",
    "def inverse(a, m):\n",
    "    _, b, _ = egcd(a, m)\n",
    "    return b % m"
   ]
  },
  {
   "cell_type": "markdown",
   "metadata": {},
   "source": [
    "# Ring\n",
    "\n",
    "Define the ring in which we're working. We want to operate on ~120 bit numbers that split into 64 bit words."
   ]
  },
  {
   "cell_type": "code",
   "execution_count": 3,
   "metadata": {
    "collapsed": true
   },
   "outputs": [],
   "source": [
    "ms = [89702869, 78489023, 69973811, 70736797, 79637461]\n",
    "for mi in ms: assert log2(mi) < 63\n",
    "\n",
    "M = prod(ms)\n",
    "assert log2(M) >= 120\n",
    "\n",
    "k = 100"
   ]
  },
  {
   "cell_type": "markdown",
   "metadata": {},
   "source": [
    "# Scalars"
   ]
  },
  {
   "cell_type": "markdown",
   "metadata": {},
   "source": [
    "## Naive number representation"
   ]
  },
  {
   "cell_type": "code",
   "execution_count": 4,
   "metadata": {},
   "outputs": [
    {
     "name": "stdout",
     "output_type": "stream",
     "text": [
      "TypicalScalar(1000000000)\n",
      "TypicalScalar(123456789)\n"
     ]
    }
   ],
   "source": [
    "class TypicalScalar:\n",
    "    \"\"\" Uses the typical built-in representation of numbers \"\"\"\n",
    "    \n",
    "    def __init__(self, value):\n",
    "        self.value = value\n",
    "        \n",
    "    def __repr__(self):\n",
    "        return 'TypicalScalar({})'.format(self.unwrap())\n",
    "    \n",
    "    def unwrap(self):\n",
    "        return self.value\n",
    "    \n",
    "    def __add__(x, y):\n",
    "        return TypicalScalar((x.value + y.value) % M)\n",
    "    \n",
    "    def __sub__(x, y):\n",
    "        return TypicalScalar((x.value - y.value) % M)\n",
    "    \n",
    "    def __mul__(x, y):\n",
    "        return TypicalScalar((x.value * y.value) % M)\n",
    "    \n",
    "    def mod(x):\n",
    "        return TypicalScalar(x.value % k)\n",
    "    \n",
    "    @staticmethod\n",
    "    def sample():\n",
    "        return TypicalScalar(random.randrange(M))\n",
    "\n",
    "    \n",
    "a = 1000000000\n",
    "b = 123456789\n",
    "x = TypicalScalar(a); print(x)\n",
    "y = TypicalScalar(b); print(y)\n",
    "z = x + y; assert z.unwrap() == a+b, z\n",
    "z = x - y; assert z.unwrap() == a-b, z\n",
    "z = x * y; assert z.unwrap() == a*b, z\n",
    "z = y.mod(); assert z.unwrap() == 89, z"
   ]
  },
  {
   "cell_type": "markdown",
   "metadata": {},
   "source": [
    "## CRT number representation"
   ]
  },
  {
   "cell_type": "code",
   "execution_count": 5,
   "metadata": {
    "collapsed": true
   },
   "outputs": [],
   "source": [
    "def gen_crt():\n",
    "    \n",
    "    # make sure all values in ms are coprime\n",
    "    for i, mi in enumerate(ms):\n",
    "        for j, mj in enumerate(ms[i+1:]):\n",
    "            assert gcd(mi, mj) == 1, '{} and {} are not coprime'.format(mi, mj)\n",
    "    \n",
    "    def decompose(x):\n",
    "        return [ x % mi for mi in ms ]\n",
    "    \n",
    "    # precomputation for recombine\n",
    "    Mis = ( M // mi for mi in ms )\n",
    "    ls = [ Mi * inverse(Mi, mi) % M for Mi, mi in zip(Mis, ms) ]\n",
    "    \n",
    "    def recombine(xs):\n",
    "        return sum( xi * li for xi, li in zip(xs, ls) ) % M\n",
    "    \n",
    "    return decompose, recombine\n",
    "\n",
    "decompose, recombine = gen_crt()\n",
    "\n",
    "assert recombine(decompose(123456789)) == 123456789"
   ]
  },
  {
   "cell_type": "code",
   "execution_count": 6,
   "metadata": {
    "collapsed": true
   },
   "outputs": [],
   "source": [
    "def gen_mod():\n",
    "    \n",
    "    # precomputation for mod\n",
    "    qs = [ inverse(M//mi, mi) for mi in ms ]\n",
    "    B = M % k\n",
    "    bs = [ (M//mi) % k for mi in ms ]\n",
    "\n",
    "    def mod(xs):\n",
    "        ts = [ (xi * qi) % mi for xi, qi, mi in zip(xs, qs, ms) ]\n",
    "        alpha = round(sum( float(ti) / float(mi) for ti, mi in zip(ts, ms) ))\n",
    "        v = int( sum( ti * bi for ti, bi in zip(ts, bs) ) - B * alpha )\n",
    "        \n",
    "        assert abs(v) < k * sum(ms) # TODO express in bit length\n",
    "        \n",
    "        return decompose(v % k) # TODO inline decompose?\n",
    "    \n",
    "    return mod\n",
    "\n",
    "mod = gen_mod()\n",
    "\n",
    "assert mod(decompose(123456789)) == decompose(89)"
   ]
  },
  {
   "cell_type": "code",
   "execution_count": 7,
   "metadata": {},
   "outputs": [
    {
     "name": "stdout",
     "output_type": "stream",
     "text": [
      "CrtScalar(1000000000, [13268441, 58131724, 20366646, 9684842, 44350468])\n",
      "CrtScalar(123456789, [33753920, 44967766, 53482978, 52719992, 43819328])\n"
     ]
    }
   ],
   "source": [
    "class CrtScalar:\n",
    "    \"\"\" Uses the CRT representation of numbers \"\"\"\n",
    "    \n",
    "    def __init__(self, value, values=None):\n",
    "        if value is not None:\n",
    "            values = decompose(value)\n",
    "        self.values = values\n",
    "        \n",
    "    def __repr__(self):\n",
    "        return 'CrtScalar({}, {})'.format(self.unwrap(), self.values)\n",
    "    \n",
    "    def unwrap(self):\n",
    "        return recombine(self.values)\n",
    "    \n",
    "    def __add__(x, y):\n",
    "        # component-wise operation that can be done in parallel\n",
    "        return CrtScalar(None, [ \n",
    "            (xi + yi) % mi for xi, yi, mi in zip(x.values, y.values, ms) \n",
    "        ])\n",
    "    \n",
    "    def __sub__(x, y):\n",
    "        # component-wise operation that can be done in parallel\n",
    "        return CrtScalar(None, [ \n",
    "            (xi - yi) % mi for xi, yi, mi in zip(x.values, y.values, ms) \n",
    "        ])\n",
    "\n",
    "    def __mul__(x, y):\n",
    "        # component-wise operation that can be done in parallel\n",
    "        return CrtScalar(None, [ \n",
    "            (xi * yi) % mi for xi, yi, mi in zip(x.values, y.values, ms) \n",
    "        ])\n",
    "    \n",
    "    def mod(x):\n",
    "        return CrtScalar(None, mod(x.values))\n",
    "    \n",
    "    @staticmethod\n",
    "    def sample():\n",
    "        return CrtScalar(None, [\n",
    "            random.randrange(mi) for mi in ms\n",
    "        ])\n",
    "\n",
    "\n",
    "a = 1000000000\n",
    "b = 123456789\n",
    "x = CrtScalar(a); print(x)\n",
    "y = CrtScalar(b); print(y)\n",
    "z = x + y; assert z.unwrap() == a+b, z\n",
    "z = x - y; assert z.unwrap() == a-b, z\n",
    "z = x * y; assert z.unwrap() == a*b, z\n",
    "z = y.mod(); assert z.unwrap() == 89, z"
   ]
  },
  {
   "cell_type": "markdown",
   "metadata": {},
   "source": [
    "## Secure scalar\n",
    "\n",
    "We use either typical or CRT numbers to represent the shares."
   ]
  },
  {
   "cell_type": "code",
   "execution_count": 8,
   "metadata": {},
   "outputs": [
    {
     "name": "stdout",
     "output_type": "stream",
     "text": [
      "SecureScalar(1000000000, CrtScalar(2493260233914690991069346241564458421632, [40377348, 4277563, 60050979, 47286623, 23170354]), CrtScalar(282063058213580005080066617023291421937, [62593962, 53854161, 30289478, 33135016, 21180114]))\n",
      "SecureScalar(123456789, CrtScalar(134899795294854066712558849575381951685, [48470190, 12951725, 63506258, 32426020, 67520658]), CrtScalar(2640423496833416929436854009011491348673, [74986599, 32016041, 59950531, 20293972, 55936131]))\n"
     ]
    }
   ],
   "source": [
    "def gen_secure_scalar(scalar_type):\n",
    "    \n",
    "    # precomputation for truncation\n",
    "    k_inv = scalar_type(inverse(k, M))\n",
    "    M_wrapped = scalar_type(M)\n",
    "    def raw_truncate(x):\n",
    "        y = x - x.mod()\n",
    "        return y * k_inv\n",
    "    \n",
    "    class AbstractSecureScalar:\n",
    "\n",
    "        def __init__(self, value, share0=None, share1=None):\n",
    "            if value is not None:\n",
    "                value = scalar_type(value)\n",
    "                share0 = scalar_type.sample()\n",
    "                share1 = value - share0\n",
    "            self.share0 = share0\n",
    "            self.share1 = share1\n",
    "\n",
    "        def __repr__(self):\n",
    "            return 'SecureScalar({}, {}, {})'.format(self.unwrap(), self.share0, self.share1)\n",
    "        \n",
    "        def unwrap(self):\n",
    "            return self.reconstruct().unwrap()\n",
    "        \n",
    "        def reconstruct(self):\n",
    "            return self.share0 + self.share1\n",
    "        \n",
    "        def __add__(x, y):\n",
    "            # component-wise operation that can be done in parallel\n",
    "            return AbstractSecureScalar(None,\n",
    "                share0 = x.share0 + y.share0,\n",
    "                share1 = x.share1 + y.share1\n",
    "            )\n",
    "        \n",
    "        def __sub__(x, y):\n",
    "            # component-wise operation that can be done in parallel\n",
    "            return AbstractSecureScalar(None,\n",
    "                share0 = x.share0 - y.share0,\n",
    "                share1 = x.share1 - y.share1\n",
    "            )\n",
    "        \n",
    "        def __mul__(x, k):\n",
    "            # component-wise operation that can be done in parallel\n",
    "            return AbstractSecureScalar(None,\n",
    "                share0 = x.share0 * scalar_type(k),\n",
    "                share1 = x.share1 * scalar_type(k)\n",
    "            )\n",
    "        \n",
    "        def truncate(x):\n",
    "            return AbstractSecureScalar(None,\n",
    "                share0 = raw_truncate(x.share0),\n",
    "                share1 = M_wrapped - raw_truncate(M_wrapped - x.share1)\n",
    "            )\n",
    "            \n",
    "\n",
    "    return AbstractSecureScalar\n",
    "        \n",
    "SecureScalar = gen_secure_scalar(CrtScalar)\n",
    "\n",
    "a = 1000000000\n",
    "b = 123456789\n",
    "x = SecureScalar(a); print(x)\n",
    "y = SecureScalar(b); print(y)\n",
    "z = x + y; assert z.unwrap() == a+b, z\n",
    "z = x - y; assert z.unwrap() == a-b, z\n",
    "z = x * b; assert z.unwrap() == a*b, z\n",
    "z = y.truncate(); assert z.unwrap() in [b // k, b // k + 1], z"
   ]
  },
  {
   "cell_type": "code",
   "execution_count": null,
   "metadata": {
    "collapsed": true
   },
   "outputs": [],
   "source": []
  }
 ],
 "metadata": {
  "kernelspec": {
   "display_name": "Python 3",
   "language": "python",
   "name": "python3"
  },
  "language_info": {
   "codemirror_mode": {
    "name": "ipython",
    "version": 3
   },
   "file_extension": ".py",
   "mimetype": "text/x-python",
   "name": "python",
   "nbconvert_exporter": "python",
   "pygments_lexer": "ipython3",
   "version": "3.6.4"
  }
 },
 "nbformat": 4,
 "nbformat_minor": 2
}
