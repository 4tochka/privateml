{
 "cells": [
  {
   "cell_type": "code",
   "execution_count": 1,
   "metadata": {
    "collapsed": true
   },
   "outputs": [],
   "source": [
    "import numpy as np\n",
    "import tensorflow as tf\n",
    "from datetime import datetime"
   ]
  },
  {
   "cell_type": "code",
   "execution_count": 2,
   "metadata": {
    "collapsed": true
   },
   "outputs": [],
   "source": [
    "SERVER0 = '/device:CPU:0'\n",
    "SERVER1 = '/device:CPU:1'\n",
    "CRYPTO_PRODUCER = '/device:CPU:2'\n",
    "INPUT_PROVIDER  = '/device:CPU:3'\n",
    "OUTPUT_RECEIVER = '/device:CPU:4'\n",
    "\n",
    "config = tf.ConfigProto(\n",
    "    log_device_placement=True,\n",
    "    device_count={\"CPU\": 5},\n",
    "    inter_op_parallelism_threads=1,\n",
    "    intra_op_parallelism_threads=1\n",
    ")"
   ]
  },
  {
   "cell_type": "code",
   "execution_count": 3,
   "metadata": {
    "collapsed": true
   },
   "outputs": [],
   "source": [
    "Q = 10001\n",
    "\n",
    "def share(secret):\n",
    "    share0 = tf.random_uniform(secret.shape, maxval=Q, dtype=tf.int64)\n",
    "    share1 = (secret - share0) % Q\n",
    "    return share0, share1\n",
    "\n",
    "def reconstruct(share0, share1):\n",
    "    return (share0 + share1) % Q\n",
    "\n",
    "def sample(shape):\n",
    "    return tf.random_uniform(shape, maxval=Q, dtype=tf.int64)"
   ]
  },
  {
   "cell_type": "code",
   "execution_count": 4,
   "metadata": {
    "collapsed": true
   },
   "outputs": [],
   "source": [
    "def add(x, y):\n",
    "    \n",
    "    x0, x1 = x\n",
    "    y0, y1 = y\n",
    "    \n",
    "    with tf.device(SERVER0):\n",
    "        z0 = (x0 + y0) % Q\n",
    "\n",
    "    with tf.device(SERVER1):\n",
    "        z1 = (x1 + y1) % Q\n",
    "        \n",
    "    return z0, z1"
   ]
  },
  {
   "cell_type": "code",
   "execution_count": 5,
   "metadata": {
    "collapsed": true
   },
   "outputs": [],
   "source": [
    "def sub(x, y):\n",
    "    \n",
    "    x0, x1 = x\n",
    "    y0, y1 = y\n",
    "    \n",
    "    with tf.device(SERVER0):\n",
    "        z0 = (x0 - y0) % Q\n",
    "\n",
    "    with tf.device(SERVER1):\n",
    "        z1 = (x1 - y1) % Q\n",
    "        \n",
    "    return z0, z1"
   ]
  },
  {
   "cell_type": "code",
   "execution_count": 6,
   "metadata": {
    "collapsed": true
   },
   "outputs": [],
   "source": [
    "def mul(x, y):\n",
    "    \n",
    "    x0, x1 = x\n",
    "    y0, y1 = y\n",
    "\n",
    "    with tf.device(CRYPTO_PRODUCER):\n",
    "        a = sample((10,10))\n",
    "        b = sample((10,10))\n",
    "        ab = (a * b) % Q\n",
    "\n",
    "        a0, a1 = share(a)\n",
    "        b0, b1 = share(b)\n",
    "        ab0, ab1 = share(ab)\n",
    "\n",
    "    with tf.device(SERVER0):\n",
    "        alpha0 = (x0 - a0) % Q\n",
    "        beta0  = (y0 - b0) % Q\n",
    "\n",
    "    with tf.device(SERVER1):\n",
    "        alpha1 = (x1 - a1) % Q\n",
    "        beta1  = (y1 - b1) % Q\n",
    "\n",
    "    # exchange of alpha's and beta's\n",
    "        \n",
    "    with tf.device(SERVER0):\n",
    "        alpha = reconstruct(alpha0, alpha1)\n",
    "        beta = reconstruct(beta0, beta1)\n",
    "        z0 = ( ab0 + (a0 * beta) + (b0 * alpha) + (alpha * beta) ) % Q\n",
    "\n",
    "    with tf.device(SERVER1):\n",
    "        alpha = reconstruct(alpha0, alpha1)\n",
    "        beta = reconstruct(beta0, beta1)\n",
    "        z1 = ( ab1 + (a1 * beta) + (b1 * alpha) ) % Q\n",
    "        \n",
    "    return z0, z1"
   ]
  },
  {
   "cell_type": "code",
   "execution_count": 7,
   "metadata": {
    "collapsed": true
   },
   "outputs": [],
   "source": [
    "def define(shape):\n",
    "    \n",
    "    with tf.device(INPUT_PROVIDER):\n",
    "        m = tf.placeholder(tf.int64, shape=(10,10))\n",
    "        x = share(m)\n",
    "        \n",
    "    return m, x"
   ]
  },
  {
   "cell_type": "code",
   "execution_count": 8,
   "metadata": {
    "collapsed": true
   },
   "outputs": [],
   "source": [
    "def variable(shape):\n",
    "    \n",
    "    with tf.device(SERVER0):\n",
    "        x0 = tf.Variable(tf.ones(shape=shape, dtype=tf.int64))\n",
    "\n",
    "    with tf.device(SERVER1):\n",
    "        x1 = tf.Variable(tf.ones(shape=shape, dtype=tf.int64))\n",
    "        \n",
    "    return x0, x1"
   ]
  },
  {
   "cell_type": "code",
   "execution_count": 9,
   "metadata": {
    "collapsed": true
   },
   "outputs": [],
   "source": [
    "# def assign(x):\n",
    "    \n",
    "#     x0, x1 = x\n",
    "    \n",
    "    \n",
    "    "
   ]
  },
  {
   "cell_type": "code",
   "execution_count": 10,
   "metadata": {
    "collapsed": true
   },
   "outputs": [],
   "source": [
    "def reveal(x):\n",
    "    \n",
    "    x0, x1 = x\n",
    "\n",
    "    with tf.device(OUTPUT_RECEIVER):\n",
    "        y = reconstruct(x0, x1)\n",
    "    \n",
    "    return y"
   ]
  },
  {
   "cell_type": "code",
   "execution_count": 11,
   "metadata": {
    "collapsed": true
   },
   "outputs": [],
   "source": [
    "input_x, x = define((10,10))\n",
    "\n",
    "w = variable((10,10))\n",
    "b = variable((10,10))\n",
    "\n",
    "y_pred = add(mul(x, w), b)\n",
    "\n",
    "# error = sub(y_pred, y)\n",
    "# gradients = 2/m * tf.matmul(tf.transpose(X), error)\n",
    "# training_op = tf.assign(theta, theta - learning_rate * gradients)\n",
    "\n",
    "p = reveal(y_pred)"
   ]
  },
  {
   "cell_type": "code",
   "execution_count": 12,
   "metadata": {},
   "outputs": [
    {
     "name": "stdout",
     "output_type": "stream",
     "text": [
      "[array([[  2,   4,   6,   8,  10,  12,  14,  16,  18,  20],\n",
      "       [ 22,  24,  26,  28,  30,  32,  34,  36,  38,  40],\n",
      "       [ 42,  44,  46,  48,  50,  52,  54,  56,  58,  60],\n",
      "       [ 62,  64,  66,  68,  70,  72,  74,  76,  78,  80],\n",
      "       [ 82,  84,  86,  88,  90,  92,  94,  96,  98, 100],\n",
      "       [102, 104, 106, 108, 110, 112, 114, 116, 118, 120],\n",
      "       [122, 124, 126, 128, 130, 132, 134, 136, 138, 140],\n",
      "       [142, 144, 146, 148, 150, 152, 154, 156, 158, 160],\n",
      "       [162, 164, 166, 168, 170, 172, 174, 176, 178, 180],\n",
      "       [182, 184, 186, 188, 190, 192, 194, 196, 198, 200]])]\n"
     ]
    }
   ],
   "source": [
    "with tf.Session(config=config) as sess:\n",
    "    init = tf.global_variables_initializer()\n",
    "    sess.run(init)\n",
    "    \n",
    "    res = sess.run([p], {\n",
    "        input_x: np.arange(10*10).reshape(10,10).astype(int),\n",
    "    })\n",
    "    print(res)"
   ]
  }
 ],
 "metadata": {
  "kernelspec": {
   "display_name": "Python 3",
   "language": "python",
   "name": "python3"
  },
  "language_info": {
   "codemirror_mode": {
    "name": "ipython",
    "version": 3
   },
   "file_extension": ".py",
   "mimetype": "text/x-python",
   "name": "python",
   "nbconvert_exporter": "python",
   "pygments_lexer": "ipython3",
   "version": "3.6.4"
  }
 },
 "nbformat": 4,
 "nbformat_minor": 2
}
