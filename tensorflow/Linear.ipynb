{
 "cells": [
  {
   "cell_type": "markdown",
   "metadata": {},
   "source": [
    "TODOs:\n",
    "- recombine without blowing up numbers (should fit in 64bit word)\n",
    "- fixedpoint encoding\n",
    "- truncation operation (using CRT mod operation)\n",
    "- dot product\n",
    "- gradient computation\n",
    "- SDG loop\n",
    "- compare performance if native type is float64 instead of int64\n",
    "- performance on GPU"
   ]
  },
  {
   "cell_type": "code",
   "execution_count": 1,
   "metadata": {},
   "outputs": [],
   "source": [
    "import numpy as np\n",
    "import tensorflow as tf\n",
    "from datetime import datetime"
   ]
  },
  {
   "cell_type": "markdown",
   "metadata": {},
   "source": [
    "Idea below is to simulate five different players on different devices. Hopefully Tensorflow can take care of (optimising?) networking like this."
   ]
  },
  {
   "cell_type": "code",
   "execution_count": 2,
   "metadata": {},
   "outputs": [],
   "source": [
    "SERVER_0 = '/device:CPU:0'\n",
    "SERVER_1 = '/device:CPU:1'\n",
    "CRYPTO_PRODUCER = '/device:CPU:2'\n",
    "INPUT_PROVIDER  = '/device:CPU:3'\n",
    "OUTPUT_RECEIVER = '/device:CPU:4'\n",
    "\n",
    "config = tf.ConfigProto(\n",
    "    log_device_placement=True,\n",
    "    device_count={\"CPU\": 5},\n",
    "    inter_op_parallelism_threads=1,\n",
    "    intra_op_parallelism_threads=1\n",
    ")\n",
    "\n",
    "NATIVE_TYPE = tf.int64\n",
    "# NATIVE_TYPE = tf.float64 # TODO didn't work out of the box"
   ]
  },
  {
   "cell_type": "markdown",
   "metadata": {},
   "source": [
    "# CRT"
   ]
  },
  {
   "cell_type": "code",
   "execution_count": 3,
   "metadata": {},
   "outputs": [],
   "source": [
    "m = [89702869, 78489023, 69973811, 70736797, 79637461]\n",
    "M = 2775323292128270996149412858586749843569 # == prod(ms)\n",
    "\n",
    "def decompose(x):\n",
    "    return tuple( x % mi for mi in m )\n",
    "\n",
    "# *** NOTE ***\n",
    "# we can recombine without blowing up the results with these huge numbers,\n",
    "# just need to write port the code from the other notebook.\n",
    "# Until done, recombine needs to happen outside Tensorflow.\n",
    "\n",
    "lambdas = [\n",
    "    875825745388370376486957843033325692983, \n",
    "    2472444909335399274510299476273538963924, \n",
    "    394981838173825602426191615931186905822, \n",
    "    2769522470404025199908727961712750149119, \n",
    "    1813194913083192535116061678809447818860\n",
    "]\n",
    "\n",
    "def recombine(x):\n",
    "    return sum( xi * li for xi, li in zip(x, lambdas) ) % M"
   ]
  },
  {
   "cell_type": "code",
   "execution_count": 4,
   "metadata": {},
   "outputs": [],
   "source": [
    "# *** NOTE ***\n",
    "# keeping mod operations in-lined here for simplicity;\n",
    "# we should do them lazily\n",
    "\n",
    "DOT_OP = tf.matmul\n",
    "\n",
    "def crt_add(x, y):\n",
    "    with tf.name_scope(\"crt_add\"):\n",
    "        return [ (xi + yi) % mi for xi, yi, mi in zip(x, y, m) ]\n",
    "\n",
    "def crt_sub(x, y):\n",
    "    with tf.name_scope(\"crt_sub\"):\n",
    "        return [ (xi - yi) % mi for xi, yi, mi in zip(x, y, m) ]\n",
    "\n",
    "def crt_mul(x, y):\n",
    "    with tf.name_scope(\"crt_mul\"):\n",
    "        return [ (xi * yi) % mi for xi, yi, mi in zip(x, y, m) ]\n",
    "    \n",
    "def crt_dot(x, y):\n",
    "    with tf.name_scope(\"crt_dot\"):\n",
    "        return [ DOT_OP(xi, yi) % mi for xi, yi, mi in zip(x, y, m) ]"
   ]
  },
  {
   "cell_type": "markdown",
   "metadata": {},
   "source": [
    "# SPDZ in Tensorflow"
   ]
  },
  {
   "cell_type": "code",
   "execution_count": 5,
   "metadata": {},
   "outputs": [],
   "source": [
    "class PrivateVariable:\n",
    "    \n",
    "    def __init__(self, share0, share1):\n",
    "        self.share0 = share0\n",
    "        self.share1 = share1\n",
    "        \n",
    "    def __add__(x, y):\n",
    "        return add(x, y)\n",
    "    \n",
    "    def __sub__(x, y):\n",
    "        return sub(x, y)\n",
    "    \n",
    "    def __mul__(x, y):\n",
    "        return mul(x, y)"
   ]
  },
  {
   "cell_type": "code",
   "execution_count": 6,
   "metadata": {},
   "outputs": [],
   "source": [
    "def sample(shape):\n",
    "    with tf.name_scope(\"sample\"):\n",
    "        return [ tf.random_uniform(shape, maxval=mi, dtype=NATIVE_TYPE) for mi in m ]\n",
    "\n",
    "def share(secret):\n",
    "    with tf.name_scope(\"share\"):\n",
    "        shape = secret[0].shape\n",
    "        share0 = sample(shape)\n",
    "        share1 = crt_sub(secret, share0)\n",
    "        return share0, share1\n",
    "\n",
    "def reconstruct(share0, share1):\n",
    "    with tf.name_scope(\"reconstruct\"):\n",
    "        return crt_add(share0, share1)"
   ]
  },
  {
   "cell_type": "code",
   "execution_count": 7,
   "metadata": {},
   "outputs": [],
   "source": [
    "def add(x, y):\n",
    "    assert isinstance(x, PrivateVariable)\n",
    "    assert isinstance(y, PrivateVariable)\n",
    "    \n",
    "    x0, x1 = x.share0, x.share1\n",
    "    y0, y1 = y.share0, y.share1\n",
    "    \n",
    "    with tf.name_scope(\"add\"):\n",
    "    \n",
    "        with tf.device(SERVER_0):\n",
    "            z0 = crt_add(x0, y0)\n",
    "\n",
    "        with tf.device(SERVER_1):\n",
    "            z1 = crt_add(x1, y1)\n",
    "\n",
    "    return PrivateVariable(z0, z1)"
   ]
  },
  {
   "cell_type": "code",
   "execution_count": 8,
   "metadata": {},
   "outputs": [],
   "source": [
    "def sub(x, y):\n",
    "    assert isinstance(x, PrivateVariable)\n",
    "    assert isinstance(y, PrivateVariable)\n",
    "    \n",
    "    x0, x1 = x.share0, x.share1\n",
    "    y0, y1 = y.share0, y.share1\n",
    "    \n",
    "    with tf.name_scope(\"sub\"):\n",
    "    \n",
    "        with tf.device(SERVER_0):\n",
    "            z0 = crt_sub(x0, y0)\n",
    "\n",
    "        with tf.device(SERVER_1):\n",
    "            z1 = crt_sub(x1, y1)\n",
    "\n",
    "    return PrivateVariable(z0, z1)"
   ]
  },
  {
   "cell_type": "code",
   "execution_count": 9,
   "metadata": {},
   "outputs": [],
   "source": [
    "def mul(x, y):\n",
    "    assert isinstance(x, PrivateVariable)\n",
    "    assert isinstance(y, PrivateVariable)\n",
    "    \n",
    "    x0, x1 = x.share0, x.share1\n",
    "    y0, y1 = y.share0, y.share1\n",
    "\n",
    "    with tf.name_scope(\"mul\"):\n",
    "    \n",
    "        with tf.device(CRYPTO_PRODUCER):\n",
    "            a = sample((10,10))\n",
    "            b = sample((10,10))\n",
    "            ab = crt_mul(a, b)\n",
    "\n",
    "            a0, a1 = share(a)\n",
    "            b0, b1 = share(b)\n",
    "            ab0, ab1 = share(ab)\n",
    "\n",
    "        with tf.device(SERVER_0):\n",
    "            alpha0 = crt_sub(x0, a0)\n",
    "            beta0  = crt_sub(y0, b0)\n",
    "\n",
    "        with tf.device(SERVER_1):\n",
    "            alpha1 = crt_sub(x1, a1)\n",
    "            beta1  = crt_sub(y1, b1)\n",
    "\n",
    "        # exchange of alpha's and beta's\n",
    "\n",
    "        with tf.device(SERVER_0):\n",
    "            alpha = reconstruct(alpha0, alpha1)\n",
    "            beta = reconstruct(beta0, beta1)\n",
    "            z0 = crt_add(ab0,\n",
    "                 crt_add(crt_mul(a0, beta),\n",
    "                 crt_add(crt_mul(b0, alpha),\n",
    "                         crt_mul(alpha, beta))))\n",
    "\n",
    "        with tf.device(SERVER_1):\n",
    "            alpha = reconstruct(alpha0, alpha1)\n",
    "            beta = reconstruct(beta0, beta1)\n",
    "            z1 = crt_add(ab1,\n",
    "                 crt_add(crt_mul(a1, beta),\n",
    "                         crt_mul(b1, alpha)))\n",
    "        \n",
    "    return PrivateVariable(z0, z1)"
   ]
  },
  {
   "cell_type": "code",
   "execution_count": 10,
   "metadata": {},
   "outputs": [],
   "source": [
    "def dot(x, y):\n",
    "    assert isinstance(x, PrivateVariable)\n",
    "    assert isinstance(y, PrivateVariable)\n",
    "    \n",
    "    x0, x1 = x.share0, x.share1\n",
    "    y0, y1 = y.share0, y.share1\n",
    "\n",
    "    with tf.name_scope(\"dot\"):\n",
    "    \n",
    "        with tf.device(CRYPTO_PRODUCER):\n",
    "            a = sample((10,10))\n",
    "            b = sample((10,10))\n",
    "            ab = crt_dot(a, b)\n",
    "\n",
    "            a0, a1 = share(a)\n",
    "            b0, b1 = share(b)\n",
    "            ab0, ab1 = share(ab)\n",
    "\n",
    "        with tf.device(SERVER_0):\n",
    "            alpha0 = crt_sub(x0, a0)\n",
    "            beta0  = crt_sub(y0, b0)\n",
    "\n",
    "        with tf.device(SERVER_1):\n",
    "            alpha1 = crt_sub(x1, a1)\n",
    "            beta1  = crt_sub(y1, b1)\n",
    "\n",
    "        # exchange of alpha's and beta's\n",
    "\n",
    "        with tf.device(SERVER_0):\n",
    "            alpha = reconstruct(alpha0, alpha1)\n",
    "            beta = reconstruct(beta0, beta1)\n",
    "            z0 = crt_add(ab0,\n",
    "                 crt_add(crt_dot(a0, beta),\n",
    "                 crt_add(crt_dot(b0, alpha),\n",
    "                         crt_dot(alpha, beta))))\n",
    "\n",
    "        with tf.device(SERVER_1):\n",
    "            alpha = reconstruct(alpha0, alpha1)\n",
    "            beta = reconstruct(beta0, beta1)\n",
    "            z1 = crt_add(ab1,\n",
    "                 crt_add(crt_dot(a1, beta),\n",
    "                         crt_dot(b1, alpha)))\n",
    "        \n",
    "    return PrivateVariable(z0, z1)"
   ]
  },
  {
   "cell_type": "code",
   "execution_count": 11,
   "metadata": {},
   "outputs": [],
   "source": [
    "def define_private(shape):\n",
    "    \n",
    "    with tf.name_scope(\"input\"):\n",
    "        \n",
    "        with tf.device(INPUT_PROVIDER):\n",
    "            input_x = [ tf.placeholder(NATIVE_TYPE, shape=shape) for _ in range(len(m)) ]\n",
    "            x = share(input_x)\n",
    "        \n",
    "    return input_x, PrivateVariable(*x)"
   ]
  },
  {
   "cell_type": "code",
   "execution_count": 12,
   "metadata": {},
   "outputs": [],
   "source": [
    "def variable(shape):\n",
    "    \n",
    "    with tf.device(SERVER_0):\n",
    "        x0 = [ tf.Variable(tf.ones(shape=shape, dtype=tf.int64)) for _ in range(len(m)) ]\n",
    "\n",
    "    with tf.device(SERVER_1):\n",
    "        x1 = [ tf.Variable(tf.ones(shape=shape, dtype=tf.int64)) for _ in range(len(m)) ]\n",
    "        \n",
    "    return PrivateVariable(x0, x1)"
   ]
  },
  {
   "cell_type": "code",
   "execution_count": 13,
   "metadata": {},
   "outputs": [],
   "source": [
    "# def assign(x):\n",
    "    \n",
    "#     x0, x1 = x\n",
    "    \n",
    "    \n",
    "    "
   ]
  },
  {
   "cell_type": "code",
   "execution_count": 14,
   "metadata": {},
   "outputs": [],
   "source": [
    "def reveal(x):\n",
    "    assert isinstance(x, PrivateVariable)\n",
    "    \n",
    "    x0, x1 = x.share0, x.share1\n",
    "\n",
    "    with tf.name_scope(\"reveal\"):\n",
    "    \n",
    "        with tf.device(OUTPUT_RECEIVER):\n",
    "            y = reconstruct(x0, x1)\n",
    "    \n",
    "    return y"
   ]
  },
  {
   "cell_type": "markdown",
   "metadata": {},
   "source": [
    "# Simple addition of large numbers"
   ]
  },
  {
   "cell_type": "code",
   "execution_count": 15,
   "metadata": {},
   "outputs": [],
   "source": [
    "# Inputs\n",
    "input_x, x = define_private((10,10))\n",
    "input_w, w = define_private((10,10))\n",
    "input_b, b = define_private((10,10))\n",
    "\n",
    "# Computation\n",
    "z = reveal(mul(x, w) + b)"
   ]
  },
  {
   "cell_type": "code",
   "execution_count": 16,
   "metadata": {},
   "outputs": [],
   "source": [
    "# Actual inputs\n",
    "X = np.array([2**100 for _ in range(10*10)]).reshape((10,10))\n",
    "W = np.array([     2 for _ in range(10*10)]).reshape((10,10))\n",
    "B = np.array([     0 for _ in range(10*10)]).reshape((10,10))\n",
    "\n",
    "# Decomposed values outside Tensorflow\n",
    "inputs = dict(\n",
    "    [ (xi, Xi) for xi, Xi in zip(input_x, decompose(X)) ] +\n",
    "    [ (wi, Wi) for wi, Wi in zip(input_w, decompose(W)) ] +\n",
    "    [ (bi, Bi) for bi, Bi in zip(input_b, decompose(B)) ]\n",
    ")\n",
    "\n",
    "run_options = tf.RunOptions(trace_level=tf.RunOptions.FULL_TRACE)\n",
    "run_metadata = tf.RunMetadata()\n",
    "\n",
    "# Run computation using Tensorflow\n",
    "with tf.Session(config=config) as sess:\n",
    "    with tf.summary.FileWriter(\"/tmp/tensorflow/sec\", sess.graph) as writer:\n",
    "        sess.run(tf.global_variables_initializer())\n",
    "        \n",
    "        res = sess.run(\n",
    "            z, \n",
    "            inputs,\n",
    "            options=run_options,\n",
    "            run_metadata=run_metadata\n",
    "        )\n",
    "        \n",
    "        writer.add_run_metadata(run_metadata, '')\n",
    "\n",
    "# Recombine result outside Tensorflow\n",
    "Z = recombine(res)\n",
    "\n",
    "assert (Z == X * W + B).all(), Z"
   ]
  },
  {
   "cell_type": "markdown",
   "metadata": {},
   "source": [
    "# Linear regression"
   ]
  },
  {
   "cell_type": "code",
   "execution_count": 17,
   "metadata": {},
   "outputs": [],
   "source": [
    "    \n",
    "#     res = sess.run([p], {\n",
    "#         input_x: np.arange(10*10).reshape(10,10).astype(int),\n",
    "#     })\n",
    "# input_x, x = define((10,10))\n",
    "# \n",
    "# w = variable((10,10))\n",
    "# b = variable((10,10))\n",
    "# \n",
    "# y_pred = add(mul(x, w), b)\n",
    "# \n",
    "# # error = sub(y_pred, y)\n",
    "# # gradients = 2/m * tf.matmul(tf.transpose(X), error)\n",
    "# # training_op = tf.assign(theta, theta - learning_rate * gradients)\n",
    "# \n",
    "# p = reveal(y_pred)\n",
    "\n",
    "#     print(res)\n",
    "\n",
    "# with tf.Session(config=config) as sess:\n",
    "#     sess.run(tf.global_variables_initializer())\n",
    "#     res = sess.run(z, values)\n",
    "    \n",
    "#     res = sess.run([p], {\n",
    "#         input_x: np.arange(10*10).reshape(10,10).astype(int),\n",
    "#     })\n",
    "#     print(res)"
   ]
  },
  {
   "cell_type": "markdown",
   "metadata": {},
   "source": [
    "# Dump"
   ]
  },
  {
   "cell_type": "code",
   "execution_count": null,
   "metadata": {},
   "outputs": [],
   "source": []
  }
 ],
 "metadata": {
  "kernelspec": {
   "display_name": "Python 3",
   "language": "python",
   "name": "python3"
  },
  "language_info": {
   "codemirror_mode": {
    "name": "ipython",
    "version": 2
   },
   "file_extension": ".py",
   "mimetype": "text/x-python",
   "name": "python",
   "nbconvert_exporter": "python",
   "pygments_lexer": "ipython2",
   "version": "2.7.14"
  }
 },
 "nbformat": 4,
 "nbformat_minor": 2
}
