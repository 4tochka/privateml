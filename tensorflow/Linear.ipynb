{
 "cells": [
  {
   "cell_type": "code",
   "execution_count": 1,
   "metadata": {},
   "outputs": [],
   "source": [
    "from __future__ import print_function\n",
    "import tensorflow as tf\n",
    "import numpy as np\n",
    "import matplotlib.pyplot as plt\n",
    "rng = np.random"
   ]
  },
  {
   "cell_type": "code",
   "execution_count": 2,
   "metadata": {},
   "outputs": [],
   "source": [
    "learning_rate = 0.01\n",
    "training_epochs = 1000\n",
    "display_step = 50\n",
    "logs_path = '/tmp/tensorflow_logs/example/'"
   ]
  },
  {
   "cell_type": "code",
   "execution_count": 3,
   "metadata": {},
   "outputs": [],
   "source": [
    "# train_X = np.asarray([3.3,4.4,5.5,6.71,6.93,4.168,9.779,6.182,7.59,2.167,7.042,10.791,5.313,7.997,5.654,9.27,3.1])\n",
    "# train_Y = np.asarray([1.7,2.76,2.09,3.19,1.694,1.573,3.366,2.596,2.53,1.221,2.827,3.465,1.65,2.904,2.42,2.94,1.3])\n",
    "\n",
    "train_X = np.arange(10)\n",
    "train_Y = np.arange(10)\n",
    "\n",
    "n_samples = train_X.shape[0]"
   ]
  },
  {
   "cell_type": "code",
   "execution_count": 8,
   "metadata": {},
   "outputs": [],
   "source": [
    "X_1 = tf.placeholder(tf.int64)\n",
    "X_2 = tf.placeholder(tf.int64)\n",
    "\n",
    "Y = tf.placeholder(tf.int64)\n",
    "\n",
    "W_1 = tf.Variable(rng.randint(10, size=10), name=\"weights_1\")\n",
    "# W_2 = tf.Variable(rng.randn(), name=\"weights_2\")\n",
    "\n",
    "b_1 = tf.Variable(rng.randint(10, size=10), name=\"bias_1\")\n",
    "# b_2 = tf.Variable(rng.randn(), name=\"bias_2\")\n",
    "\n",
    "with tf.name_scope('model'):\n",
    "    Y_pred_1 = tf.add(tf.multiply(X_1, W_1), b_1)\n",
    "\n",
    "# with tf.name_scope('loss'):\n",
    "#     # mean squared error\n",
    "#     cost = tf.reduce_sum(tf.pow(pred-Y, 2))/(2*n_samples)\n",
    "    \n",
    "# with tf.name_scope('accuracy'):\n",
    "#     acc = tf.equal(tf.argmax(pred, 1), tf.argmax(Y, 1))\n",
    "#     acc = tf.reduce_mean(tf.cast(acc, tf.float32))\n",
    "\n",
    "# with tf.name_scope('sgd'):\n",
    "#     optimizer = tf.train.GradientDescentOptimizer(learning_rate).minimize(cost)"
   ]
  },
  {
   "cell_type": "code",
   "execution_count": 10,
   "metadata": {},
   "outputs": [
    {
     "data": {
      "image/png": "[encoded data removed]",
      "text/plain": [
       "<matplotlib.figure.Figure at 0x120e5dbd0>"
      ]
     },
     "metadata": {},
     "output_type": "display_data"
    }
   ],
   "source": [
    "init = tf.global_variables_initializer()\n",
    "\n",
    "# tf.summary.scalar(\"loss\", cost)\n",
    "# tf.summary.scalar(\"accuracy\", acc)\n",
    "# merged_summary_op = tf.summary.merge_all()\n",
    "\n",
    "with tf.Session() as sess:\n",
    "    sess.run(init)\n",
    "    \n",
    "    summary_writer = tf.summary.FileWriter(logs_path, graph=tf.get_default_graph())\n",
    "\n",
    "    for epoch in range(training_epochs):\n",
    "        for (x, y) in zip(train_X, train_Y):\n",
    "            sess.run(\n",
    "                [Y_pred_1], \n",
    "                feed_dict={X_1: x, Y: y}\n",
    "            )\n",
    "    \n",
    "    plt.plot(train_X, train_Y, 'ro', label='Original data')\n",
    "    plt.plot(train_X, sess.run(W_1) * train_X + sess.run(b_1), label='Fitted line')\n",
    "    plt.legend()\n",
    "    plt.show()"
   ]
  },
  {
   "cell_type": "code",
   "execution_count": null,
   "metadata": {},
   "outputs": [],
   "source": []
  },
  {
   "cell_type": "code",
   "execution_count": 6,
   "metadata": {},
   "outputs": [
    {
     "data": {
      "text/plain": [
       "array([4, 8, 5, 2, 0, 5, 3, 0, 2, 2])"
      ]
     },
     "execution_count": 6,
     "metadata": {},
     "output_type": "execute_result"
    }
   ],
   "source": [
    "rng.randint(10, size=10)"
   ]
  },
  {
   "cell_type": "code",
   "execution_count": null,
   "metadata": {},
   "outputs": [],
   "source": []
  }
 ],
 "metadata": {
  "kernelspec": {
   "display_name": "Python 2",
   "language": "python",
   "name": "python2"
  },
  "language_info": {
   "codemirror_mode": {
    "name": "ipython",
    "version": 2
   },
   "file_extension": ".py",
   "mimetype": "text/x-python",
   "name": "python",
   "nbconvert_exporter": "python",
   "pygments_lexer": "ipython2",
   "version": "2.7.14"
  }
 },
 "nbformat": 4,
 "nbformat_minor": 2
}
