{
 "cells": [
  {
   "cell_type": "code",
   "execution_count": 2,
   "metadata": {},
   "outputs": [
    {
     "name": "stdout",
     "output_type": "stream",
     "text": [
      "Multi GPU computation time: 0:00:01.557971\n"
     ]
    }
   ],
   "source": [
    "from __future__ import print_function\n",
    "\n",
    "import numpy as np\n",
    "import tensorflow as tf\n",
    "import datetime\n",
    "\n",
    "# Processing Units logs\n",
    "log_device_placement = True\n",
    "\n",
    "# Num of multiplications to perform\n",
    "n = 10\n",
    "\n",
    "# Create a graph to store results\n",
    "c = []\n",
    "\n",
    "def matpow(M, n):\n",
    "    if n < 1: #Abstract cases where n < 1\n",
    "        return M\n",
    "    else:\n",
    "        return tf.matmul(M, matpow(M, n-1))\n",
    "\n",
    "def computation(x, n):\n",
    "    return matpow(x, n)\n",
    "    \n",
    "with tf.device('/device:CPU:0'):\n",
    "    a0 = tf.placeholder(tf.float32, [1000, 1000])\n",
    "    res = computation(a0, n)\n",
    "    c.append(res)\n",
    "\n",
    "with tf.device('/device:CPU:1'):\n",
    "    a1 = tf.placeholder(tf.float32, [1000, 1000])\n",
    "    res = computation(a1, n)\n",
    "    c.append(res)\n",
    "\n",
    "with tf.device('/device:CPU:2'):\n",
    "    sum = tf.add_n(c)\n",
    "\n",
    "config = tf.ConfigProto(\n",
    "    log_device_placement=log_device_placement,\n",
    "    device_count={\"CPU\": 3},\n",
    "    inter_op_parallelism_threads=1,\n",
    "    intra_op_parallelism_threads=1\n",
    ")\n",
    "\n",
    "# Create random large matrix\n",
    "A0 = np.random.rand(1000, 1000).astype('float32')\n",
    "A1 = np.random.rand(1000, 1000).astype('float32')\n",
    "\n",
    "t1_2 = datetime.datetime.now()\n",
    "with tf.Session(config=config) as sess:\n",
    "    # Run the op.\n",
    "    sess.run(sum, {a0:A0, a1:A1})\n",
    "t2_2 = datetime.datetime.now()\n",
    "\n",
    "\n",
    "# print(\"Single GPU computation time: \" + str(t2_1-t1_1))\n",
    "print(\"Multi GPU computation time: \" + str(t2_2-t1_2))"
   ]
  },
  {
   "cell_type": "code",
   "execution_count": null,
   "metadata": {},
   "outputs": [],
   "source": []
  },
  {
   "cell_type": "code",
   "execution_count": null,
   "metadata": {},
   "outputs": [],
   "source": []
  }
 ],
 "metadata": {
  "kernelspec": {
   "display_name": "Python 2",
   "language": "python",
   "name": "python2"
  },
  "language_info": {
   "codemirror_mode": {
    "name": "ipython",
    "version": 2
   },
   "file_extension": ".py",
   "mimetype": "text/x-python",
   "name": "python",
   "nbconvert_exporter": "python",
   "pygments_lexer": "ipython2",
   "version": "2.7.14"
  }
 },
 "nbformat": 4,
 "nbformat_minor": 2
}
