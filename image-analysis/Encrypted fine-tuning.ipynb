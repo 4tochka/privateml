{
 "cells": [
  {
   "cell_type": "code",
   "execution_count": 1,
   "metadata": {},
   "outputs": [],
   "source": [
    "import numpy as np\n",
    "from datetime import datetime"
   ]
  },
  {
   "cell_type": "markdown",
   "metadata": {},
   "source": [
    "# Load features previously extracted from training data"
   ]
  },
  {
   "cell_type": "code",
   "execution_count": 2,
   "metadata": {},
   "outputs": [
    {
     "name": "stdout",
     "output_type": "stream",
     "text": [
      "(29404, 6272) (29404, 5) (4861, 6272) (4861, 5)\n"
     ]
    }
   ],
   "source": [
    "x_train_features = np.load('x_train_features.npy')\n",
    "y_train = np.load('y_train.npy')\n",
    "\n",
    "x_test_features = np.load('x_test_features.npy')\n",
    "y_test = np.load('y_test.npy')\n",
    "\n",
    "print(x_train_features.shape, y_train.shape, x_test_features.shape, y_test.shape)"
   ]
  },
  {
   "cell_type": "markdown",
   "metadata": {},
   "source": [
    "# Prepare new classification model"
   ]
  },
  {
   "cell_type": "code",
   "execution_count": 3,
   "metadata": {},
   "outputs": [],
   "source": [
    "from pond.tensor import NativeTensor, PrivateEncodedTensor, PublicEncodedTensor\n",
    "from pond.nn import Dense, Sigmoid, Reveal, Diff, Softmax, CrossEntropy, Sequential, DataLoader"
   ]
  },
  {
   "cell_type": "code",
   "execution_count": 4,
   "metadata": {},
   "outputs": [],
   "source": [
    "classifier = Sequential([\n",
    "    Dense(128, 6272),\n",
    "    Sigmoid(),\n",
    "    # Dropout(.5),\n",
    "    Dense(5, 128),\n",
    "    Reveal(),\n",
    "    Softmax()\n",
    "])"
   ]
  },
  {
   "cell_type": "code",
   "execution_count": 5,
   "metadata": {},
   "outputs": [],
   "source": [
    "def accuracy(classifier, x, y, verbose=0, wrapper=NativeTensor):\n",
    "    predicted_classes = classifier \\\n",
    "        .predict(DataLoader(x, wrapper), verbose=verbose).reveal() \\\n",
    "        .argmax(axis=1)\n",
    "        \n",
    "    correct_classes = NativeTensor(y) \\\n",
    "        .argmax(axis=1)\n",
    "        \n",
    "    matches = predicted_classes.unwrap() == correct_classes.unwrap()\n",
    "    return sum(matches)/len(matches)"
   ]
  },
  {
   "cell_type": "markdown",
   "metadata": {},
   "source": [
    "# [optional] Fine-tune using NativeTensor to get accuracy expectations"
   ]
  },
  {
   "cell_type": "code",
   "execution_count": 22,
   "metadata": {},
   "outputs": [
    {
     "name": "stdout",
     "output_type": "stream",
     "text": [
      "2018-01-28 18:06:54.151641 Epoch 0\n",
      "2018-01-28 18:07:22.623861 Epoch 1\n",
      "2018-01-28 18:07:50.184193 Epoch 2\n",
      "2018-01-28 18:08:19.078930 Epoch 3\n",
      "2018-01-28 18:08:45.699411 Epoch 4\n",
      "Elapsed: 0:02:18.770608\n"
     ]
    }
   ],
   "source": [
    "classifier.initialize()\n",
    "\n",
    "start = datetime.now()\n",
    "classifier.fit(\n",
    "    DataLoader(x_train_features, wrapper=NativeTensor), \n",
    "    DataLoader(y_train, wrapper=NativeTensor), \n",
    "    loss=CrossEntropy(), \n",
    "    epochs=5,\n",
    "    verbose=1,\n",
    "    learning_rate=.05\n",
    ")\n",
    "stop = datetime.now()\n",
    "\n",
    "print(\"Elapsed:\", stop - start)"
   ]
  },
  {
   "cell_type": "code",
   "execution_count": 23,
   "metadata": {},
   "outputs": [
    {
     "name": "stdout",
     "output_type": "stream",
     "text": [
      "Train accuracy: 0.938171677323\n",
      "Test accuracy: 0.936844270726\n"
     ]
    }
   ],
   "source": [
    "train_accuracy = accuracy(classifier, x_train_features, y_train)\n",
    "test_accuracy  = accuracy(classifier, x_test_features,  y_test)\n",
    "\n",
    "print(\"Train accuracy:\", train_accuracy)\n",
    "print(\"Test accuracy:\",  test_accuracy)"
   ]
  },
  {
   "cell_type": "markdown",
   "metadata": {},
   "source": [
    "# [optional] Fine-tune using PublicEncodedTensor to get baseline"
   ]
  },
  {
   "cell_type": "code",
   "execution_count": null,
   "metadata": {},
   "outputs": [],
   "source": [
    "classifier.initialize()\n",
    "\n",
    "start = datetime.now()\n",
    "classifier.fit(\n",
    "    DataLoader(x_train_features, wrapper=PublicEncodedTensor), \n",
    "    DataLoader(y_train, wrapper=PublicEncodedTensor),\n",
    "    loss=CrossEntropy(), \n",
    "    epochs=3,\n",
    "    verbose=1\n",
    ")\n",
    "stop = datetime.now()\n",
    "\n",
    "print(\"Elapsed:\", stop - start)"
   ]
  },
  {
   "cell_type": "code",
   "execution_count": null,
   "metadata": {},
   "outputs": [],
   "source": [
    "train_accuracy = accuracy(classifier, x_train_features, y_train)\n",
    "test_accuracy  = accuracy(classifier, x_test_features,  y_test)\n",
    "\n",
    "print(\"Train accuracy:\", train_accuracy)\n",
    "print(\"Test accuracy:\",  test_accuracy)"
   ]
  },
  {
   "cell_type": "markdown",
   "metadata": {},
   "source": [
    "# Fine-tune using PrivateEncodedTensor"
   ]
  },
  {
   "cell_type": "code",
   "execution_count": null,
   "metadata": {},
   "outputs": [],
   "source": [
    "classifier.initialize()\n",
    "\n",
    "start = datetime.now()\n",
    "classifier.fit(\n",
    "    DataLoader(x_train_features, wrapper=PrivateEncodedTensor), \n",
    "    DataLoader(y_train, wrapper=PrivateEncodedTensor),\n",
    "    loss=CrossEntropy(), \n",
    "    epochs=3,\n",
    "    verbose=1\n",
    ")\n",
    "stop = datetime.now()\n",
    "\n",
    "print(\"Elapsed:\", stop - start)"
   ]
  },
  {
   "cell_type": "markdown",
   "metadata": {},
   "source": [
    "## Save weights in case something goes wrong"
   ]
  },
  {
   "cell_type": "code",
   "execution_count": null,
   "metadata": {},
   "outputs": [],
   "source": [
    "np.save('layer0_weights_0.npy', classifier.layers[0].weights.shares0)\n",
    "np.save('layer0_weights_1.npy', classifier.layers[0].weights.shares1)\n",
    "np.save('layer0_bias_0.npy',    classifier.layers[0].bias.shares0)\n",
    "np.save('layer0_bias_1.npy',    classifier.layers[0].bias.shares1)\n",
    "\n",
    "np.save('layer2_weights_0.npy', classifier.layers[2].weights.shares0)\n",
    "np.save('layer2_weights_1.npy', classifier.layers[2].weights.shares1)\n",
    "np.save('layer2_bias_0.npy',    classifier.layers[2].bias.shares0)\n",
    "np.save('layer2_bias_1.npy',    classifier.layers[2].bias.shares1)"
   ]
  },
  {
   "cell_type": "code",
   "execution_count": null,
   "metadata": {},
   "outputs": [],
   "source": [
    "train_accuracy = accuracy(classifier, x_train_features, y_train)\n",
    "test_accuracy  = accuracy(classifier, x_test_features,  y_test)\n",
    "\n",
    "print(\"Train accuracy:\", train_accuracy)\n",
    "print(\"Test accuracy:\", test_accuracy)"
   ]
  },
  {
   "cell_type": "code",
   "execution_count": null,
   "metadata": {},
   "outputs": [],
   "source": []
  }
 ],
 "metadata": {
  "kernelspec": {
   "display_name": "Python 3",
   "language": "python",
   "name": "python3"
  },
  "language_info": {
   "codemirror_mode": {
    "name": "ipython",
    "version": 3
   },
   "file_extension": ".py",
   "mimetype": "text/x-python",
   "name": "python",
   "nbconvert_exporter": "python",
   "pygments_lexer": "ipython3",
   "version": "3.5.3"
  }
 },
 "nbformat": 4,
 "nbformat_minor": 2
}
