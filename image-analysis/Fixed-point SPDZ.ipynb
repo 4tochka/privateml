{
 "cells": [
  {
   "cell_type": "code",
   "execution_count": 1,
   "metadata": {},
   "outputs": [],
   "source": [
    "import random"
   ]
  },
  {
   "cell_type": "code",
   "execution_count": 2,
   "metadata": {},
   "outputs": [],
   "source": [
    "random.seed(42)"
   ]
  },
  {
   "cell_type": "markdown",
   "metadata": {},
   "source": [
    "# SPDZ"
   ]
  },
  {
   "cell_type": "code",
   "execution_count": 3,
   "metadata": {},
   "outputs": [],
   "source": [
    "#\n",
    "# Use e.g. https://www.compilejava.net/\n",
    "#\n",
    "#import java.util.*;\n",
    "#import java.math.*;\n",
    "#\n",
    "#public class Entrypoint\n",
    "#{\n",
    "#  public static void main(String[] args)\n",
    "#  {\n",
    "#    BigInteger q = BigInteger.probablePrime(128, new Random());    \n",
    "#    BigInteger inverse = new BigInteger(\"10000000000\").modInverse(q);\n",
    "#    System.out.println(q);\n",
    "#    System.out.println(inverse);\n",
    "#  }\n",
    "#}\n",
    "\n",
    "BASE = 10\n",
    "\n",
    "#PRECISION_INTEGRAL = 1\n",
    "#PRECISION_FRACTIONAL = 6\n",
    "#Q = 10000019\n",
    "\n",
    "PRECISION_INTEGRAL = 8\n",
    "PRECISION_FRACTIONAL = 8\n",
    "Q = 293973345475167247070445277780365744413\n",
    "\n",
    "PRECISION = PRECISION_INTEGRAL + PRECISION_FRACTIONAL\n",
    "\n",
    "assert Q > BASE**PRECISION"
   ]
  },
  {
   "cell_type": "markdown",
   "metadata": {},
   "source": [
    "## Sharing and reconstruction"
   ]
  },
  {
   "cell_type": "code",
   "execution_count": 4,
   "metadata": {},
   "outputs": [],
   "source": [
    "def share(secret, field=Q):\n",
    "    first  = random.randrange(field)\n",
    "    second = (secret - first) % field\n",
    "    return [first, second]\n",
    "\n",
    "def reconstruct(shares, field=Q):\n",
    "    return sum(shares) % field"
   ]
  },
  {
   "cell_type": "markdown",
   "metadata": {},
   "source": [
    "## Linear operations"
   ]
  },
  {
   "cell_type": "code",
   "execution_count": 5,
   "metadata": {},
   "outputs": [],
   "source": [
    "def add(x, y, field=Q):\n",
    "    return [ (xi + yi) % field for xi, yi in zip(x, y) ]\n",
    "\n",
    "def sub(x, y, field=Q):\n",
    "    return [ (xi - yi) % field for xi, yi in zip(x, y) ]\n",
    "\n",
    "def scalar_add(x, k, field=Q):\n",
    "    return add(x, [k, 0], field)\n",
    "\n",
    "def scalar_sub(x, k, field=Q):\n",
    "    return sub(x, [k, 0], field)\n",
    "\n",
    "def scalar_mul(x, k, field=Q):\n",
    "    return [ (xi * k) % field for xi in x ]\n",
    "\n",
    "a = share(5)\n",
    "b = share(7)\n",
    "c = add(a, b)\n",
    "assert reconstruct(c) == 12"
   ]
  },
  {
   "cell_type": "markdown",
   "metadata": {},
   "source": [
    "## Multiplication"
   ]
  },
  {
   "cell_type": "code",
   "execution_count": 6,
   "metadata": {},
   "outputs": [],
   "source": [
    "def generate_multiplication_triple(field=Q):\n",
    "    a = random.randrange(field)\n",
    "    b = random.randrange(field)\n",
    "    c = a * b % field\n",
    "    return share(a, field), share(b, field), share(c, field)\n",
    "\n",
    "(a, b, c) = generate_multiplication_triple()\n",
    "assert reconstruct(a) * reconstruct(b) % Q == reconstruct(c)"
   ]
  },
  {
   "cell_type": "code",
   "execution_count": 7,
   "metadata": {},
   "outputs": [],
   "source": [
    "def mul(x, y, triple, field=Q):\n",
    "    a, b, c = triple\n",
    "    # local masking\n",
    "    v = sub(x, a, field)\n",
    "    w = sub(y, b, field)\n",
    "    # communication: the players simultanously send their shares to the other\n",
    "    epsilon = reconstruct(v, field)\n",
    "    delta = reconstruct(w, field)\n",
    "    # local combination\n",
    "    r = epsilon * delta % field\n",
    "    s = scalar_mul(b, epsilon, field)\n",
    "    t = scalar_mul(a, delta, field)\n",
    "    return add(s, add(t, scalar_add(c, r, field), field), field)\n",
    "\n",
    "x = share(2)\n",
    "y = share(5)\n",
    "z = mul(x, y, generate_multiplication_triple())\n",
    "assert reconstruct(z) == 10"
   ]
  },
  {
   "cell_type": "markdown",
   "metadata": {},
   "source": [
    "## Exponentiation"
   ]
  },
  {
   "cell_type": "code",
   "execution_count": 8,
   "metadata": {},
   "outputs": [],
   "source": [
    "def generate_exponentiation_triple(exponent):\n",
    "    a = random.randrange(Q)\n",
    "    return [ share(pow(a, e, Q)) for e in range(1, exponent+1) ]\n",
    "\n",
    "a, aa = generate_exponentiation_triple(2)\n",
    "assert(reconstruct(a) * reconstruct(a) % Q == reconstruct(aa))\n",
    "\n",
    "a, aa, aaa = generate_exponentiation_triple(3)\n",
    "assert(reconstruct(a) * reconstruct(a) * reconstruct(a) % Q == reconstruct(aaa))"
   ]
  },
  {
   "cell_type": "code",
   "execution_count": 9,
   "metadata": {},
   "outputs": [],
   "source": [
    "from scipy.misc import comb as binom\n",
    "from functools import reduce\n",
    "\n",
    "ONE = [1,0] # constant sharing of 1\n",
    "\n",
    "def exp(x, exponent, triple):\n",
    "    # local masking\n",
    "    v = sub(x, triple[0])\n",
    "    # communication: the players simultanously send their share to the other\n",
    "    epsilon = reconstruct(v)\n",
    "    # local combination\n",
    "    cs = [ binom(exponent, k, exact=True) for k in range(exponent+1) ]\n",
    "    es = [ pow(epsilon, e, Q) for e in reversed(range(exponent+1)) ]\n",
    "    bs = [ONE] + triple\n",
    "    return reduce(add, ( scalar_mul(b, c * e) for c,e,b in zip(cs, es, bs) ))\n",
    "\n",
    "x = share(4)\n",
    "y = exp(x, 2, generate_exponentiation_triple(2))\n",
    "z = exp(x, 10, generate_exponentiation_triple(10))\n",
    "assert reconstruct(y) == pow(4, 2, Q)\n",
    "assert reconstruct(z) == pow(4, 10, Q)"
   ]
  },
  {
   "cell_type": "markdown",
   "metadata": {},
   "source": [
    "## Fixed-point encoding"
   ]
  },
  {
   "cell_type": "code",
   "execution_count": 10,
   "metadata": {},
   "outputs": [],
   "source": [
    "def encode(rational, precision_fractional=PRECISION_FRACTIONAL, field=Q):\n",
    "    upscaled = int(rational * BASE**precision_fractional)\n",
    "    field_element = upscaled % field\n",
    "    return field_element\n",
    "\n",
    "def decode(field_element, precision_fractional=PRECISION_FRACTIONAL, field=Q):\n",
    "    upscaled = field_element if field_element <= field/2 else field_element - field\n",
    "    rational = upscaled / BASE**precision_fractional\n",
    "    return rational"
   ]
  },
  {
   "cell_type": "code",
   "execution_count": 11,
   "metadata": {},
   "outputs": [],
   "source": [
    "# using trick from SecureML paper that only requires a local operation\n",
    "\n",
    "def truncate(x, amount=PRECISION_FRACTIONAL, field=Q):\n",
    "    y0 = x[0] // BASE**amount\n",
    "    y1 = field - ((field - x[1]) // BASE**amount)\n",
    "    return [y0, y1]"
   ]
  },
  {
   "cell_type": "code",
   "execution_count": 12,
   "metadata": {},
   "outputs": [
    {
     "name": "stdout",
     "output_type": "stream",
     "text": [
      "1.34658068183981e+30\n"
     ]
    }
   ],
   "source": [
    "x = share(encode(.5))\n",
    "\n",
    "a = truncate(mul(x, x, generate_multiplication_triple()))\n",
    "b = truncate(mul(a, a, generate_multiplication_triple()))\n",
    "v = truncate(mul(b, b, generate_multiplication_triple()))\n",
    "assert decode(reconstruct(v)) == (.5)**8\n",
    "\n",
    "d = mul(x, x, generate_multiplication_triple())\n",
    "e = mul(d, d, generate_multiplication_triple())\n",
    "w = mul(e, e, generate_multiplication_triple())\n",
    "print(decode(reconstruct(w)))\n",
    "#assert decode(reconstruct(w)) == (.5)**8"
   ]
  },
  {
   "cell_type": "markdown",
   "metadata": {},
   "source": [
    "# Up and down sharing"
   ]
  },
  {
   "cell_type": "code",
   "execution_count": 13,
   "metadata": {},
   "outputs": [],
   "source": [
    "# TODO don't redefine Q here!\n",
    "\n",
    "Q = 1122700157294029049\n",
    "P = 293973345475167247070445277780365744413"
   ]
  },
  {
   "cell_type": "code",
   "execution_count": 14,
   "metadata": {},
   "outputs": [],
   "source": [
    "# TODO verify boundaries (not least for mask)\n",
    "\n",
    "PRECISION = 6\n",
    "KAPPA = 4\n",
    "\n",
    "def generate_statistical_mask():\n",
    "    return random.randrange(Q) % BASE**(2*PRECISION+1 + KAPPA)\n",
    "\n",
    "def generate_zero_triple(field):\n",
    "    return share(0, field)\n",
    "\n",
    "def upshare(x, large_zero_triple):\n",
    "    # map to positive range\n",
    "    x = scalar_add(x, BASE**(2*PRECISION+1), Q)\n",
    "    # player 0\n",
    "    r = generate_statistical_mask()\n",
    "    e = (x[0] + r) % Q\n",
    "    y0 = (large_zero_triple[0] - r) % P\n",
    "    # player 1\n",
    "    xr = (e + x[1]) % Q\n",
    "    y1 = (large_zero_triple[1] + xr) % P\n",
    "    # combine\n",
    "    y = [y0, y1]\n",
    "    y = scalar_sub(y, BASE**(2*PRECISION+1), P)\n",
    "    return y\n",
    "\n",
    "def downshare(x, small_zero_triple):\n",
    "    # map to positive range\n",
    "    x = scalar_add(x, BASE**(2*PRECISION+1), P)\n",
    "    # player 0\n",
    "    r = generate_statistical_mask()\n",
    "    e = (x[0] + r) % P\n",
    "    y0 = (small_zero_triple[0] - r) % Q\n",
    "    # player 1\n",
    "    xr = (e + x[1]) % P\n",
    "    y1 = (small_zero_triple[1] + xr) % Q\n",
    "    # combine\n",
    "    y = [y0, y1]\n",
    "    return scalar_sub(y, BASE**(2*PRECISION+1), Q)\n",
    "\n",
    "x = share(encode(-.5, PRECISION, Q), Q)\n",
    "\n",
    "y = mul(x, x, generate_multiplication_triple(Q), Q)\n",
    "y = mul(y, y, generate_multiplication_triple(Q), Q)\n",
    "y = truncate(y, 4*PRECISION-PRECISION, Q)\n",
    "assert decode(reconstruct(y, Q), PRECISION, Q) != (-.5)**4\n",
    "\n",
    "x = upshare(x, generate_zero_triple(P))\n",
    "y = mul(x, x, generate_multiplication_triple(P), P)\n",
    "y = mul(y, y, generate_multiplication_triple(P), P)\n",
    "y = truncate(y, 4*PRECISION-PRECISION, P)\n",
    "y = downshare(y, generate_zero_triple(Q))\n",
    "assert decode(reconstruct(y, Q), PRECISION, Q) == (-.5)**4"
   ]
  },
  {
   "cell_type": "markdown",
   "metadata": {},
   "source": [
    "## Wrap-up"
   ]
  },
  {
   "cell_type": "code",
   "execution_count": 15,
   "metadata": {},
   "outputs": [],
   "source": [
    "def multiplication_triple_generator():\n",
    "    while True:\n",
    "        yield generate_multiplication_triple()"
   ]
  },
  {
   "cell_type": "code",
   "execution_count": 16,
   "metadata": {},
   "outputs": [],
   "source": [
    "multiplication_triple_source = multiplication_triple_generator()\n",
    "\n",
    "class SecureRational(object):\n",
    "    \n",
    "    def secure(secret):\n",
    "        z = SecureRational()\n",
    "        z.shares = share(encode(secret))\n",
    "        return z\n",
    "    \n",
    "    def reveal(self):\n",
    "        return decode(reconstruct(self.shares))\n",
    "    \n",
    "    def __repr__(self):\n",
    "        return \"SecureRational(%f)\" % self.reveal()\n",
    "    \n",
    "    def __add__(x, y):\n",
    "        z = SecureRational()\n",
    "        z.shares = add(x.shares, y.shares)\n",
    "        return z\n",
    "    \n",
    "    def __sub__(x, y):\n",
    "        z = SecureRational()\n",
    "        z.shares = sub(x.shares, y.shares)\n",
    "        return z\n",
    "    \n",
    "    def __mul__(x, y):\n",
    "        z = SecureRational()\n",
    "        triple = multiplication_triple_source.__next__()\n",
    "        z.shares = truncate(mul(x.shares, y.shares, triple))\n",
    "        return z\n",
    "    \n",
    "    def __pow__(x, e):\n",
    "        # TODO\n",
    "        z = SecureRational.secure(1)\n",
    "        for _ in range(e):\n",
    "            z = z * x\n",
    "        return z"
   ]
  },
  {
   "cell_type": "code",
   "execution_count": 17,
   "metadata": {},
   "outputs": [],
   "source": [
    "x = SecureRational.secure(.5)\n",
    "y = SecureRational.secure(-.25)\n",
    "\n",
    "z = x * y\n",
    "assert z.reveal() == (.5) * (-.25)\n",
    "\n",
    "z = x**8\n",
    "assert z.reveal() == (.5)**8"
   ]
  },
  {
   "cell_type": "code",
   "execution_count": 18,
   "metadata": {},
   "outputs": [],
   "source": [
    "class OpenRational(object):\n",
    "    \n",
    "    def __init__(self, secret):\n",
    "        self.secret = secret\n",
    "    \n",
    "    def secure(secret):\n",
    "        return OpenRational(secret)\n",
    "    \n",
    "    def reveal(self):\n",
    "        return self.secret\n",
    "    \n",
    "    def __repr__(self):\n",
    "        return \"OpenRational(%f)\" % self.reveal()\n",
    "    \n",
    "    def __add__(x, y):\n",
    "        return OpenRational(x.secret + y.secret)\n",
    "    \n",
    "    def __sub__(x, y):\n",
    "        return OpenRational(x.secret - y.secret)\n",
    "    \n",
    "    def __mul__(x, y):\n",
    "        return OpenRational(x.secret * y.secret)\n",
    "    \n",
    "    def __pow__(x, e):\n",
    "        z = OpenRational(1)\n",
    "        for _ in range(e):\n",
    "            z = z * x\n",
    "        return z"
   ]
  },
  {
   "cell_type": "code",
   "execution_count": 19,
   "metadata": {},
   "outputs": [],
   "source": [
    "x = OpenRational.secure(.5)\n",
    "y = OpenRational.secure(-.25)\n",
    "\n",
    "z = x * y\n",
    "assert z.reveal() == (.5) * (-.25)\n",
    "\n",
    "z = x**8\n",
    "assert z.reveal() == (.5)**8"
   ]
  },
  {
   "cell_type": "markdown",
   "metadata": {},
   "source": [
    "# Dump"
   ]
  },
  {
   "cell_type": "markdown",
   "metadata": {},
   "source": [
    "## Security of mul"
   ]
  },
  {
   "cell_type": "code",
   "execution_count": 20,
   "metadata": {},
   "outputs": [],
   "source": [
    "a, b, c = generate_multiplication_triple(Q)\n",
    "\n",
    "x = share(3, Q)\n",
    "y = share(4, Q)"
   ]
  },
  {
   "cell_type": "code",
   "execution_count": 21,
   "metadata": {},
   "outputs": [],
   "source": [
    "e = sub(x, a, Q)\n",
    "d = sub(y, b, Q)\n",
    "\n",
    "epsilon = reconstruct(e, Q)\n",
    "delta = reconstruct(d, Q)\n",
    "\n",
    "r = epsilon * delta % Q\n",
    "s = scalar_mul(b, epsilon, Q)\n",
    "t = scalar_mul(a, delta, Q)\n",
    "\n",
    "z = add(s, add(t, scalar_add(c, r, Q), Q), Q)"
   ]
  },
  {
   "cell_type": "code",
   "execution_count": 22,
   "metadata": {},
   "outputs": [],
   "source": [
    "z0_real = (c[0] + b[0] * epsilon + a[0] * delta + epsilon * delta) % Q\n",
    "z0_sim = (12 - z[1]) % Q\n",
    "\n",
    "assert z0_real == z0_sim"
   ]
  },
  {
   "cell_type": "markdown",
   "metadata": {},
   "source": [
    "## Security of add"
   ]
  },
  {
   "cell_type": "code",
   "execution_count": 23,
   "metadata": {},
   "outputs": [],
   "source": [
    "x = share(2, Q)\n",
    "y = share(5, Q)\n",
    "z = add(x, y, Q)"
   ]
  },
  {
   "cell_type": "code",
   "execution_count": 24,
   "metadata": {},
   "outputs": [],
   "source": [
    "z0_real = (x[0] + y[0]) % Q\n",
    "z0_sim = (7 - z[1]) % Q\n",
    "\n",
    "assert z0_real == z0_sim"
   ]
  },
  {
   "cell_type": "code",
   "execution_count": null,
   "metadata": {},
   "outputs": [],
   "source": []
  }
 ],
 "metadata": {
  "kernelspec": {
   "display_name": "Python 3",
   "language": "python",
   "name": "python3"
  },
  "language_info": {
   "codemirror_mode": {
    "name": "ipython",
    "version": 3
   },
   "file_extension": ".py",
   "mimetype": "text/x-python",
   "name": "python",
   "nbconvert_exporter": "python",
   "pygments_lexer": "ipython3",
   "version": "3.6.2"
  }
 },
 "nbformat": 4,
 "nbformat_minor": 2
}
