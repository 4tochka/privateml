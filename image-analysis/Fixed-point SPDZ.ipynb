{
 "cells": [
  {
   "cell_type": "code",
   "execution_count": 1,
   "metadata": {},
   "outputs": [],
   "source": [
    "import random\n",
    "import numpy as np"
   ]
  },
  {
   "cell_type": "code",
   "execution_count": 2,
   "metadata": {},
   "outputs": [],
   "source": [
    "random.seed(42)"
   ]
  },
  {
   "cell_type": "markdown",
   "metadata": {},
   "source": [
    "# SPDZ"
   ]
  },
  {
   "cell_type": "markdown",
   "metadata": {},
   "source": [
    "## Parameters"
   ]
  },
  {
   "cell_type": "code",
   "execution_count": 3,
   "metadata": {},
   "outputs": [],
   "source": [
    "#\n",
    "# Use e.g. https://www.compilejava.net/\n",
    "#\n",
    "#import java.util.*;\n",
    "#import java.math.*;\n",
    "#\n",
    "#public class Entrypoint\n",
    "#{\n",
    "#  public static void main(String[] args)\n",
    "#  {\n",
    "#    BigInteger q = BigInteger.probablePrime(128, new Random());    \n",
    "#    System.out.println(q);\n",
    "#  }\n",
    "#}\n",
    "\n",
    "BASE = 10\n",
    "KAPPA = 9 # ~29 bits\n",
    "\n",
    "PRECISION_INTEGRAL = 2\n",
    "PRECISION_FRACTIONAL = 7\n",
    "PRECISION = PRECISION_INTEGRAL + PRECISION_FRACTIONAL\n",
    "BOUND = BASE**PRECISION\n",
    "\n",
    "# Q field\n",
    "Q = 6497992661811505123 # < 64 bits\n",
    "Q_MAXDEGREE = 2\n",
    "assert Q > BASE**(PRECISION * Q_MAXDEGREE) # supported multiplication degree (without truncation)\n",
    "assert Q > 2*BOUND * BASE**KAPPA # supported kappa when in positive range \n",
    "\n",
    "# P field\n",
    "P = 1802216888453791673313287943102424579859887305661122324585863735744776691801009887 # < 270 bits\n",
    "P_MAXDEGREE = 9\n",
    "assert P > Q\n",
    "assert P > BASE**(PRECISION * P_MAXDEGREE)"
   ]
  },
  {
   "cell_type": "markdown",
   "metadata": {},
   "source": [
    "## Fixed-point encoding"
   ]
  },
  {
   "cell_type": "code",
   "execution_count": 4,
   "metadata": {},
   "outputs": [],
   "source": [
    "def encode(rational, field=Q, precision_fractional=PRECISION_FRACTIONAL):\n",
    "    upscaled = int(rational * BASE**precision_fractional)\n",
    "    field_element = upscaled % field\n",
    "    return field_element\n",
    "\n",
    "def decode(field_element, field=Q, precision_fractional=PRECISION_FRACTIONAL):\n",
    "    upscaled = field_element if field_element <= field/2 else field_element - field\n",
    "    rational = upscaled / BASE**precision_fractional\n",
    "    return rational"
   ]
  },
  {
   "cell_type": "code",
   "execution_count": 5,
   "metadata": {},
   "outputs": [],
   "source": [
    "# using trick from SecureML paper that only requires a local operation\n",
    "\n",
    "def truncate(x, amount=PRECISION_FRACTIONAL, field=Q):\n",
    "    y0 = x[0] // BASE**amount\n",
    "    y1 = field - ((field - x[1]) // BASE**amount)\n",
    "    return [y0, y1]"
   ]
  },
  {
   "cell_type": "markdown",
   "metadata": {},
   "source": [
    "## Sharing and reconstruction"
   ]
  },
  {
   "cell_type": "code",
   "execution_count": 6,
   "metadata": {},
   "outputs": [],
   "source": [
    "def share(secret, field=Q):\n",
    "    first  = random.randrange(field)\n",
    "    second = (secret - first) % field\n",
    "    return [first, second]\n",
    "\n",
    "def reconstruct(shares, field=Q):\n",
    "    return sum(shares) % field"
   ]
  },
  {
   "cell_type": "markdown",
   "metadata": {},
   "source": [
    "## Linear operations"
   ]
  },
  {
   "cell_type": "code",
   "execution_count": 7,
   "metadata": {},
   "outputs": [],
   "source": [
    "def add(x, y, field=Q):\n",
    "    return [ (xi + yi) % field for xi, yi in zip(x, y) ]\n",
    "\n",
    "def sub(x, y, field=Q):\n",
    "    return [ (xi - yi) % field for xi, yi in zip(x, y) ]\n",
    "\n",
    "def add_public(x, k, field=Q):\n",
    "    return add(x, [k, 0], field)\n",
    "\n",
    "def sub_public(x, k, field=Q):\n",
    "    return sub(x, [k, 0], field)\n",
    "\n",
    "def mul_public(x, k, field=Q):\n",
    "    return [ (xi * k) % field for xi in x ]\n",
    "\n",
    "a = share(5)\n",
    "b = share(7)\n",
    "c = add(a, b)\n",
    "assert reconstruct(c) == 12"
   ]
  },
  {
   "cell_type": "markdown",
   "metadata": {},
   "source": [
    "## Multiplication"
   ]
  },
  {
   "cell_type": "code",
   "execution_count": 8,
   "metadata": {},
   "outputs": [],
   "source": [
    "def generate_multiplication_triple(field=Q):\n",
    "    a = random.randrange(field)\n",
    "    b = random.randrange(field)\n",
    "    c = a * b % field\n",
    "    return share(a, field), share(b, field), share(c, field)\n",
    "\n",
    "(a, b, c) = generate_multiplication_triple()\n",
    "assert reconstruct(a) * reconstruct(b) % Q == reconstruct(c)"
   ]
  },
  {
   "cell_type": "code",
   "execution_count": 9,
   "metadata": {},
   "outputs": [],
   "source": [
    "def mul(x, y, triple, field=Q):\n",
    "    a, b, c = triple\n",
    "    # local masking\n",
    "    d = sub(x, a, field)\n",
    "    e = sub(y, b, field)\n",
    "    # communication: the players simultanously send their shares to the other\n",
    "    delta = reconstruct(d, field)\n",
    "    epsilon = reconstruct(e, field)\n",
    "    # local combination\n",
    "    r = delta * epsilon % field\n",
    "    s = mul_public(a, epsilon, field)\n",
    "    t = mul_public(b, delta, field)\n",
    "    return add(s, add(t, add_public(c, r, field), field), field)\n",
    "\n",
    "m = random.randrange(BOUND)\n",
    "n = random.randrange(BOUND)\n",
    "x = share(m)\n",
    "y = share(n)\n",
    "z = mul(x, y, generate_multiplication_triple())\n",
    "assert reconstruct(z) == m*n"
   ]
  },
  {
   "cell_type": "code",
   "execution_count": 10,
   "metadata": {},
   "outputs": [],
   "source": [
    "x = share(encode(-.5))\n",
    "\n",
    "x2 = truncate(mul( x,  x, generate_multiplication_triple()), PRECISION_FRACTIONAL)\n",
    "x4 = truncate(mul(x2, x2, generate_multiplication_triple()), PRECISION_FRACTIONAL)\n",
    "y = decode(reconstruct(x4))\n",
    "assert y == (-.5)**4\n",
    "\n",
    "x2 = mul( x,  x, generate_multiplication_triple())\n",
    "x4 = mul(x2, x2, generate_multiplication_triple())\n",
    "y = decode(reconstruct(truncate(x4, 2*PRECISION_FRACTIONAL)))\n",
    "assert not y == (-.5)**4"
   ]
  },
  {
   "cell_type": "markdown",
   "metadata": {},
   "source": [
    "## Powering and polynomials"
   ]
  },
  {
   "cell_type": "code",
   "execution_count": 11,
   "metadata": {},
   "outputs": [],
   "source": [
    "def generate_powering_triple(exponent, field=Q):\n",
    "    a = random.randrange(field)\n",
    "    return [ share(pow(a, e, field)) for e in range(1, exponent+1) ]\n",
    "\n",
    "a, aa, aaa, aaaa = generate_powering_triple(4)\n",
    "assert reconstruct(a) * reconstruct(a) % Q == reconstruct(aa) \n",
    "assert reconstruct(aa) * reconstruct(a) % Q == reconstruct(aaa)\n",
    "assert reconstruct(aaa) * reconstruct(a) % Q == reconstruct(aaaa)"
   ]
  },
  {
   "cell_type": "code",
   "execution_count": 12,
   "metadata": {},
   "outputs": [],
   "source": [
    "from functools import reduce\n",
    "from scipy.misc import comb\n",
    "binom = lambda n, k: comb(n, k, exact=True)\n",
    "\n",
    "ONE = [1,0] # constant sharing of 1\n",
    "\n",
    "def pows(x, triple, field=Q):\n",
    "    # local masking\n",
    "    a = triple[0]\n",
    "    v = sub(x, a)\n",
    "    # communication: the players simultanously send their share to the other\n",
    "    epsilon = reconstruct(v)\n",
    "    # local combination\n",
    "    x_powers = []\n",
    "    for exponent in range(1, len(triple)+1):\n",
    "        # prepare all term values\n",
    "        a_powers = [ONE] + triple[:exponent]\n",
    "        e_powers = [ pow(epsilon, e, Q) for e in range(exponent+1) ]\n",
    "        coeffs   = [ binom(exponent, k) for k in range(exponent+1) ]\n",
    "        # compute and sum terms\n",
    "        terms = ( mul_public(a, c * e) for a, c, e in zip(a_powers, coeffs, reversed(e_powers)) )\n",
    "        x_powers.append(reduce(lambda x,y: add(x, y, field), terms))\n",
    "    return x_powers\n",
    "\n",
    "x = share(4)\n",
    "\n",
    "xs = pows(x, generate_powering_triple(3))\n",
    "assert [ reconstruct(x) for x in xs ] == [ pow(4,e,Q) for e in range(1,3+1) ]\n",
    "\n",
    "xs = pows(x, generate_powering_triple(10))\n",
    "assert [ reconstruct(x) for x in xs ] == [ pow(4,e,Q) for e in range(1,10+1) ]"
   ]
  },
  {
   "cell_type": "code",
   "execution_count": 14,
   "metadata": {},
   "outputs": [],
   "source": [
    "def pol_public(x, coeffs, triple, field):\n",
    "    powers = [ONE] + pows(x, triple, field)\n",
    "    terms = ( mul_public(xe, ce, field) for xe,ce in zip(powers, coeffs) )\n",
    "    return reduce(lambda y,z: add(y, z, field), terms)\n",
    "\n",
    "x = share(5)\n",
    "coeffs = [1,2,3,4]\n",
    "y = pol_public(x, coeffs, generate_powering_triple(len(coeffs)-1, Q), Q)\n",
    "assert reconstruct(y) == (1*pow(5,0) + 2*pow(5,1) + 3*pow(5,2) + 4*pow(5,3)) % Q"
   ]
  },
  {
   "cell_type": "markdown",
   "metadata": {},
   "source": [
    "### Up and down sharing"
   ]
  },
  {
   "cell_type": "code",
   "execution_count": 15,
   "metadata": {},
   "outputs": [],
   "source": [
    "def generate_statistical_mask():\n",
    "    return random.randrange(2*BOUND * BASE**KAPPA)\n",
    "\n",
    "def generate_zero_triple(field):\n",
    "    return share(0, field)\n",
    "\n",
    "def convert(x, from_field, to_field, zero_triple):\n",
    "    # local mapping to positive representation\n",
    "    x = add_public(x, BOUND, from_field)\n",
    "    # local masking and conversion by player 0\n",
    "    r = generate_statistical_mask()\n",
    "    y0 = (zero_triple[0] - r) % to_field\n",
    "    # exchange of masked share: one round of communication\n",
    "    e = (x[0] + r) % from_field\n",
    "    # local conversion by player 1\n",
    "    xr = (e + x[1]) % from_field\n",
    "    y1 = (zero_triple[1] + xr) % to_field\n",
    "    # local combine\n",
    "    y = [y0, y1]\n",
    "    # local mapping back from positive representation\n",
    "    y = sub_public(y, BOUND, to_field)\n",
    "    return y\n",
    "\n",
    "def upshare(x, large_zero_triple):\n",
    "    return convert(x, Q, P, large_zero_triple)\n",
    "\n",
    "def downshare(x, small_zero_triple):\n",
    "    return convert(x, P, Q, small_zero_triple)\n",
    "\n",
    "x = share(encode(-.5, Q), Q)\n",
    "y = upshare(x, generate_zero_triple(P))\n",
    "assert reconstruct(y, P) == encode(-.5, P)\n",
    "z = downshare(y, generate_zero_triple(Q))\n",
    "assert reconstruct(z, Q) == encode(-.5, Q)"
   ]
  },
  {
   "cell_type": "code",
   "execution_count": 16,
   "metadata": {},
   "outputs": [],
   "source": [
    "x = share(encode(-.5, Q), Q)\n",
    "x2 = mul(x, x, generate_multiplication_triple(Q), Q)\n",
    "x4 = mul(x2, x2, generate_multiplication_triple(Q), Q)\n",
    "y = truncate(x4, 4 * PRECISION_FRACTIONAL - PRECISION_FRACTIONAL, Q)\n",
    "assert not decode(reconstruct(y, Q), Q) == (-.5)**4\n",
    "\n",
    "x = share(encode(-.5, Q), Q)\n",
    "x = upshare(x, generate_zero_triple(P))\n",
    "x2 = mul(x, x, generate_multiplication_triple(P), P)\n",
    "x4 = mul(x2, x2, generate_multiplication_triple(P), P)\n",
    "y = truncate(x4, 4 * PRECISION_FRACTIONAL - PRECISION_FRACTIONAL, P)\n",
    "y = downshare(y, generate_zero_triple(Q))\n",
    "assert decode(reconstruct(y, Q), Q) == (-.5)**4"
   ]
  },
  {
   "cell_type": "markdown",
   "metadata": {},
   "source": [
    "## Wrappers for working with NumPy"
   ]
  },
  {
   "cell_type": "code",
   "execution_count": null,
   "metadata": {},
   "outputs": [],
   "source": [
    "class PrivateValue(object):\n",
    "    \n",
    "    def __init__(self, shares=None):\n",
    "        self.shares = shares\n",
    "    \n",
    "    def unwrap(self):\n",
    "        return self.shares\n",
    "    \n",
    "    def reconstruct(self):\n",
    "        return PublicValue(reconstruct(self.shares))\n",
    "    \n",
    "    def __repr__(self):\n",
    "        return \"PrivateValue(%s)\" % self.shares\n",
    "    \n",
    "    def __add__(x, y):\n",
    "        if isinstance(y, PrivateValue):\n",
    "            return PrivateValue(add(x.shares, y.shares))\n",
    "        elif isinstance(y, PublicValue):\n",
    "            return PrivateValue(add_public(x.shares, y.value))\n",
    "        else:\n",
    "            raise ValueError\n",
    "    \n",
    "    def __sub__(x, y):\n",
    "        if isinstance(y, PrivateValue):\n",
    "            return PrivateValue(sub(x.shares, y.shares))\n",
    "        elif isinstance(y, PublicValue):\n",
    "            return PrivateValue(sub_public(x.shares, y.value))\n",
    "        else:\n",
    "            raise ValueError\n",
    "    \n",
    "    def __mul__(x, y):\n",
    "        if isinstance(y, PrivateValue):\n",
    "            triple = generate_multiplication_triple()\n",
    "            z = PrivateValue()\n",
    "            z.shares = mul(x.shares, y.shares, triple)\n",
    "            #z.shares = truncate(z.shares)\n",
    "            assert reconstruct(z.shares) == reconstruct(x.shares) * reconstruct(y.shares) % Q\n",
    "            return z\n",
    "        elif isinstance(y, PublicValue):\n",
    "            return PrivateValue(mul_public(x.shares, y.value))\n",
    "        else:\n",
    "            raise ValueError\n",
    "    \n",
    "class PublicValue(object):\n",
    "    \n",
    "    def __init__(self, value=None):\n",
    "        self.value = value\n",
    "    \n",
    "    def unwrap(self):\n",
    "        return self.value\n",
    "    \n",
    "    def share(self):\n",
    "        return PrivateValue(share(self.value))\n",
    "    \n",
    "    def __repr__(self):\n",
    "        return \"PublicValue(%s)\" % self.value\n",
    "    \n",
    "    def __add__(x, y):\n",
    "        if isinstance(y, PublicValue):\n",
    "            z = PublicValue()\n",
    "            z.value = (x.value + y.value) % Q\n",
    "            return z\n",
    "        elif isinstance(y, PrivateValue):\n",
    "            return y + x\n",
    "        else:\n",
    "            raise ValueError\n",
    "            \n",
    "    def __sub__(x, y):\n",
    "        if isinstance(y, PublicValue):\n",
    "            return PublicValue((x.value - y.value) % Q)\n",
    "        else:\n",
    "            raise ValueError\n",
    "    \n",
    "    def __mul__(x, y):\n",
    "        if isinstance(y, PublicValue):\n",
    "            z = PublicValue()\n",
    "            z.value = (x.value * y.value) % Q\n",
    "            return z\n",
    "        elif isinstance(y, PrivateValue):\n",
    "            return y * x\n",
    "        else:\n",
    "            raise ValueError\n",
    "            \n",
    "    def __eq__(x, y):\n",
    "        if isinstance(y, PublicValue):\n",
    "            return x.value == y.value\n",
    "        else:\n",
    "            raise ValueError\n",
    "            \n",
    "x = PrivateValue(share(5))\n",
    "y = PrivateValue(share(2))\n",
    "z = x * y\n",
    "assert reconstruct(z.unwrap()) == 10\n",
    "\n",
    "x = PrivateValue(share(5))\n",
    "y = PublicValue(2)\n",
    "z = x * y\n",
    "assert reconstruct(z.unwrap()) == 10"
   ]
  },
  {
   "cell_type": "code",
   "execution_count": null,
   "metadata": {},
   "outputs": [],
   "source": [
    "wrap = np.vectorize(lambda x: PublicValue(x))\n",
    "unwrap = np.vectorize(lambda x: x.unwrap())\n",
    "\n",
    "share_vec = np.vectorize(lambda x: x.share())\n",
    "reconstruct_vec = np.vectorize(lambda x: x.reconstruct())"
   ]
  },
  {
   "cell_type": "markdown",
   "metadata": {},
   "source": [
    "## Matrix multiplication"
   ]
  },
  {
   "cell_type": "code",
   "execution_count": null,
   "metadata": {},
   "outputs": [],
   "source": [
    "def generate_matmul_triple(m, k, n):\n",
    "    r = wrap(np.random.randint(Q, size=(m, k)))\n",
    "    s = wrap(np.random.randint(Q, size=(k, n)))\n",
    "    t = np.dot(r, s)\n",
    "    return share_vec(r), share_vec(s), share_vec(t)"
   ]
  },
  {
   "cell_type": "code",
   "execution_count": null,
   "metadata": {},
   "outputs": [],
   "source": [
    "def matmul(x, y, triple):\n",
    "    r, s, t = triple\n",
    "    rho = reconstruct_vec(x - r)\n",
    "    sigma = reconstruct_vec(y - s)\n",
    "    return np.dot(rho, sigma) + np.dot(r, sigma) + np.dot(rho, s) + t\n",
    "\n",
    "m, k, n = 2, 5, 9\n",
    "x = wrap(np.random.randint(Q, size=(m, k)))\n",
    "y = wrap(np.random.randint(Q, size=(k, n)))\n",
    "\n",
    "f = share_vec(x)\n",
    "g = share_vec(y)\n",
    "h = matmul(f, g, generate_matmul_triple(m, k, n))\n",
    "\n",
    "zero = wrap(np.zeros(m*n, dtype=int).reshape(m,n))\n",
    "assert (np.dot(x, y) - reconstruct_vec(h) == zero).all()"
   ]
  },
  {
   "cell_type": "markdown",
   "metadata": {},
   "source": [
    "## Convolution"
   ]
  },
  {
   "cell_type": "code",
   "execution_count": null,
   "metadata": {},
   "outputs": [],
   "source": []
  },
  {
   "cell_type": "markdown",
   "metadata": {},
   "source": [
    "# Dump"
   ]
  },
  {
   "cell_type": "markdown",
   "metadata": {},
   "source": [
    "## Security of mul"
   ]
  },
  {
   "cell_type": "code",
   "execution_count": null,
   "metadata": {},
   "outputs": [],
   "source": [
    "a, b, c = generate_multiplication_triple(Q)\n",
    "\n",
    "x = share(3, Q)\n",
    "y = share(4, Q)"
   ]
  },
  {
   "cell_type": "code",
   "execution_count": null,
   "metadata": {},
   "outputs": [],
   "source": [
    "e = sub(x, a, Q)\n",
    "d = sub(y, b, Q)\n",
    "\n",
    "epsilon = reconstruct(e, Q)\n",
    "delta = reconstruct(d, Q)\n",
    "\n",
    "r = epsilon * delta % Q\n",
    "s = scalar_mul(b, epsilon, Q)\n",
    "t = scalar_mul(a, delta, Q)\n",
    "\n",
    "z = add(s, add(t, scalar_add(c, r, Q), Q), Q)"
   ]
  },
  {
   "cell_type": "code",
   "execution_count": null,
   "metadata": {},
   "outputs": [],
   "source": [
    "z0_real = (c[0] + b[0] * epsilon + a[0] * delta + epsilon * delta) % Q\n",
    "z0_sim = (12 - z[1]) % Q\n",
    "\n",
    "assert z0_real == z0_sim"
   ]
  },
  {
   "cell_type": "markdown",
   "metadata": {},
   "source": [
    "## Security of add"
   ]
  },
  {
   "cell_type": "code",
   "execution_count": null,
   "metadata": {},
   "outputs": [],
   "source": [
    "x = share(2, Q)\n",
    "y = share(5, Q)\n",
    "z = add(x, y, Q)"
   ]
  },
  {
   "cell_type": "code",
   "execution_count": null,
   "metadata": {},
   "outputs": [],
   "source": [
    "z0_real = (x[0] + y[0]) % Q\n",
    "z0_sim = (7 - z[1]) % Q\n",
    "\n",
    "assert z0_real == z0_sim"
   ]
  },
  {
   "cell_type": "markdown",
   "metadata": {},
   "source": [
    "# Tensor"
   ]
  },
  {
   "cell_type": "code",
   "execution_count": null,
   "metadata": {},
   "outputs": [],
   "source": [
    "class SecureScalar(object):\n",
    "\n",
    "    def __init__(self):\n",
    "        pass\n",
    "    \n",
    "    def __add__(x, y):\n",
    "        pass\n",
    "        "
   ]
  },
  {
   "cell_type": "code",
   "execution_count": null,
   "metadata": {},
   "outputs": [],
   "source": [
    "class SecureTensor(object):\n",
    "    \n",
    "    def __init__(self, values=None):\n",
    "        self.values = values\n",
    "    \n",
    "    def add(x, y):\n",
    "        z = SecureTensor()\n",
    "        z.values = x.values + y.values\n",
    "        return z\n",
    "    \n",
    "    def __add__(x, y):\n",
    "        return SecureTensor.add(x, y)\n",
    "        \n",
    "x = SecureTensor(np.arange(4).reshape(2,2))\n",
    "y = SecureTensor(np.arange(4).reshape(2,2))\n",
    "z = x.add(y)\n",
    "z.values"
   ]
  },
  {
   "cell_type": "code",
   "execution_count": null,
   "metadata": {},
   "outputs": [],
   "source": []
  },
  {
   "cell_type": "code",
   "execution_count": null,
   "metadata": {},
   "outputs": [],
   "source": [
    "a = np.array([SecureScalar()])\n",
    "b = np.arange(8).reshape(4,2)\n",
    "\n",
    "print(isinstance(a.dtype, SecureScalar))\n",
    "\n",
    "print(a.dot(b))\n",
    "print(a[0,:])\n",
    "print(a[:,0])\n",
    "print(a.transpose(1,0)[0])\n",
    "\n",
    "def add(x, y):\n",
    "    print(x, y)\n",
    "    return x + 2*y\n",
    "\n",
    "vector_add = np.vectorize(add)\n",
    "c = vector_add(a, b)"
   ]
  },
  {
   "cell_type": "code",
   "execution_count": null,
   "metadata": {},
   "outputs": [],
   "source": []
  }
 ],
 "metadata": {
  "kernelspec": {
   "display_name": "Python 3",
   "language": "python",
   "name": "python3"
  },
  "language_info": {
   "codemirror_mode": {
    "name": "ipython",
    "version": 3
   },
   "file_extension": ".py",
   "mimetype": "text/x-python",
   "name": "python",
   "nbconvert_exporter": "python",
   "pygments_lexer": "ipython3",
   "version": "3.6.2"
  }
 },
 "nbformat": 4,
 "nbformat_minor": 2
}
