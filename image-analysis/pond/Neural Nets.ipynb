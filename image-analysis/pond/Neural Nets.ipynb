{
 "cells": [
  {
   "cell_type": "code",
   "execution_count": 1,
   "metadata": {},
   "outputs": [],
   "source": [
    "import numpy as np"
   ]
  },
  {
   "cell_type": "code",
   "execution_count": 2,
   "metadata": {},
   "outputs": [],
   "source": [
    "class Layer:\n",
    "    pass"
   ]
  },
  {
   "cell_type": "code",
   "execution_count": 3,
   "metadata": {},
   "outputs": [],
   "source": [
    "class Dense(Layer):\n",
    "    \n",
    "    def __init__(self, num_nodes, num_features, learning_rate=.1):\n",
    "        self.learning_rate = learning_rate\n",
    "        self.num_nodes = num_nodes\n",
    "        self.num_features = num_features\n",
    "        self.weights = None\n",
    "        self.bias = None\n",
    "        \n",
    "    def initialize(self):\n",
    "        self.weights = .1 * np.random.randn(self.num_features, self.num_nodes)\n",
    "        self.bias = np.zeros((1, self.num_nodes))\n",
    "        \n",
    "    \n",
    "#     def precompute_forward(self, batch_shape):\n",
    "#         assert batch_shape[1] == self.num_features\n",
    "#         dot_triple = generate_dot_triple(batch_shape[0], self.num_features, self.num_nodes)\n",
    "#         return dot_triple\n",
    "    \n",
    "    def forward(self, x):\n",
    "        out = x.dot(self.weights) + self.bias\n",
    "        self.cache = x\n",
    "        return out\n",
    "\n",
    "    def backward(self, d_out):\n",
    "        x = self.cache\n",
    "        # compute gradients for internal parameters and update\n",
    "        d_weights = x.transpose().dot(d_out)\n",
    "        d_bias = d_out.sum0()\n",
    "        self.weights = (d_weights * self.learning_rate).neg() + self.weights\n",
    "        self.bias    =    (d_bias * self.learning_rate).neg() + self.bias\n",
    "        # compute and return external gradient\n",
    "        d_x = d_out.dot(self.weights.transpose())\n",
    "        return d_x"
   ]
  },
  {
   "cell_type": "code",
   "execution_count": 4,
   "metadata": {},
   "outputs": [],
   "source": [
    "class Sigmoid(Layer):\n",
    "    \n",
    "    def __init__(self):\n",
    "        self.cache = None\n",
    "    \n",
    "    def initialize(self):\n",
    "        pass\n",
    "    \n",
    "    def forward(self, x):\n",
    "        w0 =  0.5\n",
    "        w1 =  0.2159198015\n",
    "        w3 = -0.0082176259\n",
    "        w5 =  0.0001825597\n",
    "        w7 = -0.0000018848\n",
    "        w9 =  0.0000000072\n",
    "        \n",
    "        x2 = x  * x\n",
    "        x3 = x2 * x\n",
    "        x5 = x2 * x3\n",
    "        x7 = x2 * x5\n",
    "        x9 = x2 * x7\n",
    "        \n",
    "        out = x9*w9 + x7*w7 + x5*w5 + x3*w3 + x*w1 + w0\n",
    "        self.cache = out\n",
    "        return out\n",
    "    \n",
    "    def backward(self, d_out):\n",
    "        out = self.cache\n",
    "        d_x = d_out * out * (out.neg() + 1)\n",
    "        return d_x"
   ]
  },
  {
   "cell_type": "code",
   "execution_count": 5,
   "metadata": {},
   "outputs": [],
   "source": [
    "# class Softmax(Layer):\n",
    "    \n",
    "#     def __init__(self):\n",
    "#         pass\n",
    "    \n",
    "#     def initialize(self):\n",
    "#         pass\n",
    "    \n",
    "#     def forward(self, x):\n",
    "#         likelihoods = x.exp()\n",
    "#         probabilities = likelihoods.div(likelihoods.sum1())\n",
    "#         return probabilities\n",
    "    \n",
    "#     def backward(self, dout):\n",
    "#         pass"
   ]
  },
  {
   "cell_type": "code",
   "execution_count": 6,
   "metadata": {},
   "outputs": [],
   "source": [
    "class Reveal(Layer):\n",
    "    \n",
    "    def __init__(self):\n",
    "        pass\n",
    "    \n",
    "    def initialize(self):\n",
    "        pass\n",
    "    \n",
    "    def forward(self, x):\n",
    "        return x.reveal()\n",
    "    \n",
    "    def backward(self, d_y):\n",
    "        return d_y"
   ]
  },
  {
   "cell_type": "code",
   "execution_count": 7,
   "metadata": {},
   "outputs": [],
   "source": [
    "class Loss:\n",
    "    pass"
   ]
  },
  {
   "cell_type": "code",
   "execution_count": 8,
   "metadata": {},
   "outputs": [],
   "source": [
    "class Diff(Loss):\n",
    "    \n",
    "    def derive(self, y_pred, y_train):\n",
    "        return y_pred - y_train"
   ]
  },
  {
   "cell_type": "code",
   "execution_count": 12,
   "metadata": {},
   "outputs": [],
   "source": [
    "# class CrossEntropy(Loss):\n",
    "    \n",
    "#     def evaluate(self, x):\n",
    "#         likelihoods = x.exp()\n",
    "#         probs = likelihoods / likelihoods.sum1()\n",
    "#         return probs\n",
    "    \n",
    "#     def derive(self, y_pred, y_correct):\n",
    "#         batch_size = y_pred.shape[0]\n",
    "#         bar = y_pred * y_correct\n",
    "#         foo = np.sum(bar, axis=1)\n",
    "#         logprobs = -np.log(foo)\n",
    "#         print(y_pred, bar, foo, logprobs)\n",
    "#         result = np.sum(logprobs) / batch_size\n",
    "#         print(result)\n",
    "#         return result"
   ]
  },
  {
   "cell_type": "code",
   "execution_count": 10,
   "metadata": {},
   "outputs": [],
   "source": [
    "class Model:\n",
    "    pass"
   ]
  },
  {
   "cell_type": "code",
   "execution_count": 11,
   "metadata": {},
   "outputs": [],
   "source": [
    "class Sequential(Model):\n",
    "    \n",
    "    def __init__(self, layers):\n",
    "        self.layers = layers\n",
    "    \n",
    "    def initialize(self):\n",
    "        for layer in self.layers:\n",
    "            layer.initialize()\n",
    "    \n",
    "    def forward(self, x, train=False):\n",
    "        for layer in self.layers:\n",
    "            x = layer.forward(x)\n",
    "        return x\n",
    "    \n",
    "    def backward(self, y):\n",
    "        for layer in reversed(self.layers):\n",
    "            y = layer.backward(y)\n",
    "            \n",
    "    def fit(self, x_train, y_train, loss, epochs=1000):\n",
    "        for epoch in range(epochs):\n",
    "            y_pred = self.forward(x_train)\n",
    "            dout = loss.derive(y_pred, y_train)\n",
    "            #print(\"DOUT\", dout)\n",
    "            self.backward(dout)\n",
    "            \n",
    "    def predict(self, X):\n",
    "        return self.forward(X)"
   ]
  },
  {
   "cell_type": "code",
   "execution_count": null,
   "metadata": {},
   "outputs": [],
   "source": []
  }
 ],
 "metadata": {
  "kernelspec": {
   "display_name": "Python 3",
   "language": "python",
   "name": "python3"
  },
  "language_info": {
   "codemirror_mode": {
    "name": "ipython",
    "version": 3
   },
   "file_extension": ".py",
   "mimetype": "text/x-python",
   "name": "python",
   "nbconvert_exporter": "python",
   "pygments_lexer": "ipython3",
   "version": "3.6.2"
  }
 },
 "nbformat": 4,
 "nbformat_minor": 2
}
