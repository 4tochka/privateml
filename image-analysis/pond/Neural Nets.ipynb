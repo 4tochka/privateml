{
 "cells": [
  {
   "cell_type": "code",
   "execution_count": 1,
   "metadata": {},
   "outputs": [],
   "source": [
    "import numpy as np"
   ]
  },
  {
   "cell_type": "code",
   "execution_count": 2,
   "metadata": {},
   "outputs": [],
   "source": [
    "class Layer:\n",
    "    pass"
   ]
  },
  {
   "cell_type": "code",
   "execution_count": 3,
   "metadata": {},
   "outputs": [],
   "source": [
    "class Dense(Layer):\n",
    "    \n",
    "    def __init__(self, num_nodes, num_features, learning_rate=.01):\n",
    "        self.learning_rate = learning_rate\n",
    "        self.num_nodes = num_nodes\n",
    "        self.num_features = num_features\n",
    "        self.weights = None\n",
    "        self.bias = None\n",
    "        \n",
    "    def initialize(self):\n",
    "        self.weights = .01 * np.random.randn(self.num_features, self.num_nodes)\n",
    "        self.bias = np.zeros((1, self.num_nodes))\n",
    "        \n",
    "    def forward(self, x):\n",
    "        y = x.dot(self.weights) + self.bias\n",
    "        self.cache = x\n",
    "        return y\n",
    "\n",
    "    def backward(self, d_y):\n",
    "        x = self.cache\n",
    "        # compute gradients for internal parameters and update\n",
    "        d_weights = x.transpose().dot(d_y)\n",
    "        d_bias = d_y.sum0()\n",
    "        self.weights = (d_weights * self.learning_rate).neg() + self.weights\n",
    "        self.bias    =    (d_bias * self.learning_rate).neg() + self.bias\n",
    "        # compute and return external gradient\n",
    "        d_x = d_y.dot(self.weights.transpose())\n",
    "        return d_x"
   ]
  },
  {
   "cell_type": "code",
   "execution_count": 4,
   "metadata": {},
   "outputs": [],
   "source": [
    "class SigmoidExact(Layer):\n",
    "    \n",
    "    def __init__(self):\n",
    "        self.cache = None\n",
    "        self.max = 0\n",
    "        self.min = 0\n",
    "    \n",
    "    def initialize(self):\n",
    "        pass\n",
    "    \n",
    "    def forward(self, x, debug=False):            \n",
    "        y = (x.neg().exp() + 1).inv()\n",
    "        self.cache = y\n",
    "        return y\n",
    "    \n",
    "    def backward(self, d_y, debug=False):\n",
    "        y = self.cache\n",
    "        d_x = d_y * y * (y.neg() + 1)\n",
    "        return d_x"
   ]
  },
  {
   "cell_type": "code",
   "execution_count": 22,
   "metadata": {},
   "outputs": [],
   "source": [
    "class Sigmoid(Layer):\n",
    "    \n",
    "    def __init__(self):\n",
    "        self.cache = None\n",
    "    \n",
    "    def initialize(self):\n",
    "        pass\n",
    "    \n",
    "    def forward(self, x, debug=False):\n",
    "        w0 =  0.5\n",
    "        w1 =  0.2159198015\n",
    "        w3 = -0.0082176259\n",
    "        w5 =  0.0001825597\n",
    "        w7 = -0.0000018848\n",
    "        w9 =  0.0000000072\n",
    "        \n",
    "        x2 = x  * x\n",
    "        x3 = x2 * x\n",
    "        x5 = x2 * x3        \n",
    "        x7 = x2 * x5        \n",
    "        x9 = x2 * x7\n",
    "        y = x9*w9 + x7*w7 + x5*w5 + x3*w3 + x*w1 + w0\n",
    "        \n",
    "        self.cache = y\n",
    "        return y\n",
    "    \n",
    "    def backward(self, d_y):\n",
    "        y = self.cache\n",
    "        d_x = d_y * y * (y.neg() + 1)\n",
    "        return d_x"
   ]
  },
  {
   "cell_type": "code",
   "execution_count": 6,
   "metadata": {},
   "outputs": [],
   "source": [
    "class Softmax(Layer):\n",
    "    \n",
    "    def __init__(self):\n",
    "        pass\n",
    "    \n",
    "    def initialize(self):\n",
    "        pass\n",
    "    \n",
    "    def forward(self, x):\n",
    "        likelihoods = x.exp()\n",
    "        probs = likelihoods.div(likelihoods.sum1())\n",
    "        self.cache = probs\n",
    "        return probs\n",
    "    \n",
    "    def backward(self, d_probs):\n",
    "        # TODO does the split between Softmax and CrossEntropy make sense?\n",
    "        probs = self.cache\n",
    "        batch_size = probs.shape[0]\n",
    "        d_scores = probs - d_probs\n",
    "        d_scores = d_scores.div(batch_size)\n",
    "        return d_scores"
   ]
  },
  {
   "cell_type": "code",
   "execution_count": 7,
   "metadata": {},
   "outputs": [],
   "source": [
    "class Reveal(Layer):\n",
    "    \n",
    "    def __init__(self):\n",
    "        pass\n",
    "    \n",
    "    def initialize(self):\n",
    "        pass\n",
    "    \n",
    "    def forward(self, x):\n",
    "        return x.reveal()\n",
    "    \n",
    "    def backward(self, d_y):\n",
    "        return d_y"
   ]
  },
  {
   "cell_type": "code",
   "execution_count": 8,
   "metadata": {},
   "outputs": [],
   "source": [
    "class Loss:\n",
    "    pass"
   ]
  },
  {
   "cell_type": "code",
   "execution_count": 9,
   "metadata": {},
   "outputs": [],
   "source": [
    "class Diff(Loss):\n",
    "    \n",
    "    def derive(self, y_pred, y_train):\n",
    "        return y_pred - y_train"
   ]
  },
  {
   "cell_type": "code",
   "execution_count": 10,
   "metadata": {},
   "outputs": [],
   "source": [
    "class CrossEntropy(Loss):\n",
    "    \n",
    "    def evaluate(self, probs_pred, probs_correct):\n",
    "        batch_size = probs_pred.shape[0]\n",
    "        losses = (probs_pred * probs_correct).log().neg()\n",
    "        loss = losses.sum0().div(batch_size)\n",
    "        return loss\n",
    "        \n",
    "    def derive(self, y_pred, y_correct):\n",
    "        return y_correct"
   ]
  },
  {
   "cell_type": "code",
   "execution_count": 11,
   "metadata": {},
   "outputs": [],
   "source": [
    "class Model:\n",
    "    pass"
   ]
  },
  {
   "cell_type": "code",
   "execution_count": 21,
   "metadata": {},
   "outputs": [],
   "source": [
    "class Sequential(Model):\n",
    "    \n",
    "    def __init__(self, layers):\n",
    "        self.layers = layers\n",
    "    \n",
    "    def initialize(self):\n",
    "        for layer in self.layers:\n",
    "            layer.initialize()\n",
    "    \n",
    "    def forward(self, x):\n",
    "        for layer in self.layers:\n",
    "            x = layer.forward(x)\n",
    "        return x\n",
    "    \n",
    "    def backward(self, y):\n",
    "        for layer in reversed(self.layers):\n",
    "            y = layer.backward(y)\n",
    "            \n",
    "    def fit(self, x_train, y_train, loss, batch_size=32, epochs=1000):\n",
    "        for epoch in range(epochs):\n",
    "            x_chunks = ( x_train[i:i+batch_size] for i in range(0, x_train.shape[0], batch_size) )\n",
    "            y_chunks = ( y_train[i:i+batch_size] for i in range(0, y_train.shape[0], batch_size) )\n",
    "            for x, y in zip(x_chunks, y_chunks):\n",
    "                y_pred = self.forward(x)\n",
    "                d_y = loss.derive(y_pred, y)\n",
    "                self.backward(d_y)\n",
    "            \n",
    "    def predict(self, x):\n",
    "        return self.forward(x)"
   ]
  },
  {
   "cell_type": "code",
   "execution_count": null,
   "metadata": {},
   "outputs": [],
   "source": []
  }
 ],
 "metadata": {
  "kernelspec": {
   "display_name": "Python 3",
   "language": "python",
   "name": "python3"
  },
  "language_info": {
   "codemirror_mode": {
    "name": "ipython",
    "version": 3
   },
   "file_extension": ".py",
   "mimetype": "text/x-python",
   "name": "python",
   "nbconvert_exporter": "python",
   "pygments_lexer": "ipython3",
   "version": "3.6.2"
  }
 },
 "nbformat": 4,
 "nbformat_minor": 2
}
