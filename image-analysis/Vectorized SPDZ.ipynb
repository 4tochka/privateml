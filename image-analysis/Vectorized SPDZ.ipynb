{
 "cells": [
  {
   "cell_type": "code",
   "execution_count": 1,
   "metadata": {},
   "outputs": [],
   "source": [
    "import random\n",
    "import numpy as np"
   ]
  },
  {
   "cell_type": "code",
   "execution_count": 2,
   "metadata": {},
   "outputs": [],
   "source": [
    "Q = 2653433339 # < 32 bits -- NumPy is weird when 64bit overflow happens (no arbitrary precision)"
   ]
  },
  {
   "cell_type": "code",
   "execution_count": 3,
   "metadata": {},
   "outputs": [],
   "source": [
    "BASE = 2\n",
    "PRECISION_INTEGRAL   = 5\n",
    "PRECISION_FRACTIONAL = 10\n",
    "\n",
    "assert BASE**(2*PRECISION_INTEGRAL + 2*PRECISION_FRACTIONAL) < Q\n",
    "\n",
    "def encode(rationals):\n",
    "    return (rationals * BASE**PRECISION_FRACTIONAL).astype(int) % Q\n",
    "\n",
    "def decode(elements):\n",
    "    map_negative_range = np.vectorize(lambda element: element if element <= Q/2 else element - Q)\n",
    "    return map_negative_range(elements) / BASE**PRECISION_FRACTIONAL"
   ]
  },
  {
   "cell_type": "code",
   "execution_count": 4,
   "metadata": {},
   "outputs": [],
   "source": [
    "class PublicTensor:\n",
    "    \n",
    "    def __init__(self, values):\n",
    "        self.values = values\n",
    "    \n",
    "    def load(values, apply_encoding=True):\n",
    "        if apply_encoding:\n",
    "            values = encode(values)\n",
    "        return PublicTensor(values)\n",
    "    \n",
    "    def truncate(self, amount=PRECISION_FRACTIONAL):\n",
    "        truncate = np.vectorize(lambda  x: x // BASE**amount)\n",
    "        return PublicTensor(truncate(self.values))\n",
    "    \n",
    "    def __repr__(self):\n",
    "        return \"PublicTensor(%s)\" % decode(self.values)\n",
    "        \n",
    "    def __add__(x, y):\n",
    "        if isinstance(y, PublicTensor):\n",
    "            values = (x.values + y.values) % Q\n",
    "            return PublicTensor(values)\n",
    "        elif isinstance(y, PrivateTensor):\n",
    "            shares0 = (x.values + y.shares0) % Q\n",
    "            shares1 =             y.shares1\n",
    "            return PrivateTensor(shares0, shares1)\n",
    "    \n",
    "    def __sub__(x, y):\n",
    "        if isinstance(y, PublicTensor):\n",
    "            values = (x.values - y.values) % Q\n",
    "            return PublicTensor(values)\n",
    "        elif isinstance(y, PrivateTensor):\n",
    "            shares0 = (x.values - y.shares0) % Q\n",
    "            shares1 =             y.shares1\n",
    "            return PrivateTensor(shares0, shares1)\n",
    "    \n",
    "    def __mul__(x, y):\n",
    "        if isinstance(y, PublicTensor):\n",
    "            values = (x.values * y.values) % Q\n",
    "            return PublicTensor(values)\n",
    "        elif isinstance(y, PrivateTensor):\n",
    "            shares0 = (x.values * y.shares0) % Q\n",
    "            shares1 = (x.values * y.shares1) % Q\n",
    "            return PrivateTensor(shares0, shares1)\n",
    "    \n",
    "    def dot(x, y):\n",
    "        if isinstance(y, PublicTensor):\n",
    "            return PublicTensor(x.values.dot(y.values))\n",
    "        elif isinstance(y, PrivateTensor):\n",
    "            shares0 = x.values.dot(y.shares0) % Q\n",
    "            shares1 = x.values.dot(y.shares1) % Q\n",
    "            return PrivateTensor(shares0, shares1)\n",
    "        \n",
    "    def transpose(self):\n",
    "        return PublicTensor(self.values.T)\n",
    "    \n",
    "    def sum0(self):\n",
    "        values = self.values.sum(axis=0, keepdims=True)\n",
    "        return PublicTensor(values)"
   ]
  },
  {
   "cell_type": "code",
   "execution_count": 5,
   "metadata": {},
   "outputs": [
    {
     "name": "stdout",
     "output_type": "stream",
     "text": [
      "PublicTensor([[  6.]\n",
      " [  8.]\n",
      " [ 10.]\n",
      " [ 12.]])\n",
      "PublicTensor([[  5.]\n",
      " [ 12.]\n",
      " [ 21.]\n",
      " [ 32.]])\n",
      "PublicTensor([[  5.   6.   7.   8.]\n",
      " [ 10.  12.  14.  16.]\n",
      " [ 15.  18.  21.  24.]\n",
      " [ 20.  24.  28.  32.]])\n",
      "PublicTensor([[ 50.  60.  70.  80.]])\n"
     ]
    }
   ],
   "source": [
    "x = PublicTensor.load(np.array([1,2,3,4]).reshape(4,1))\n",
    "y = PublicTensor.load(np.array([5,6,7,8]).reshape(4,1))\n",
    "z = x + y; print(z)\n",
    "z = (x * y).truncate(); print(z)\n",
    "z = x.dot(y.transpose()).truncate(); print(z)\n",
    "z = z.sum0(); print(z)"
   ]
  },
  {
   "cell_type": "code",
   "execution_count": 6,
   "metadata": {},
   "outputs": [],
   "source": [
    "def generate_mul_triple(shape):\n",
    "    a = np.random.randint(Q, size=shape)\n",
    "    b = np.random.randint(Q, size=shape)\n",
    "    ab = (a * b) % Q\n",
    "    return PrivateTensor.load(a, False), \\\n",
    "           PrivateTensor.load(b, False), \\\n",
    "           PrivateTensor.load(ab, False)"
   ]
  },
  {
   "cell_type": "code",
   "execution_count": 7,
   "metadata": {},
   "outputs": [],
   "source": [
    "def generate_dot_triple(m, n, o):\n",
    "    a = np.random.randint(Q, size=(m, n))\n",
    "    b = np.random.randint(Q, size=(n, o))\n",
    "    ab = np.dot(a, b)\n",
    "    return PrivateTensor.load(a, False), \\\n",
    "           PrivateTensor.load(b, False), \\\n",
    "           PrivateTensor.load(ab, False)"
   ]
  },
  {
   "cell_type": "code",
   "execution_count": 8,
   "metadata": {},
   "outputs": [],
   "source": [
    "class PrivateTensor:\n",
    "    \n",
    "    def __init__(self, shares0, shares1):\n",
    "        self.shares0 = shares0\n",
    "        self.shares1 = shares1\n",
    "    \n",
    "    def load(values, apply_encoding=True):\n",
    "        if apply_encoding:\n",
    "            values = encode(values)\n",
    "        shares0 = np.random.randint(Q, size=values.shape)\n",
    "        shares1 = (values - shares0) % Q\n",
    "        return PrivateTensor(shares0, shares1)\n",
    "\n",
    "    def reveal(self):\n",
    "        values = (self.shares0 + self.shares1) % Q\n",
    "        return PublicTensor(values)\n",
    "    \n",
    "    def truncate(self, amount=PRECISION_FRACTIONAL):\n",
    "        truncate0 = np.vectorize(lambda x0: x0 // BASE**amount)\n",
    "        truncate1 = np.vectorize(lambda x1: Q - ((Q - x1) // BASE**amount))\n",
    "        return PrivateTensor(truncate0(self.shares0), truncate1(self.shares1))\n",
    "    \n",
    "    def __repr__(self):\n",
    "        return \"PrivateTensor(%s)\" % decode(self.reveal().values)\n",
    "    \n",
    "    def __add__(x, y):\n",
    "        if isinstance(y, PrivateTensor):\n",
    "            shares0 = (x.shares0 + y.shares0) % Q\n",
    "            shares1 = (x.shares1 + y.shares1) % Q\n",
    "            return PrivateTensor(shares0, shares1)\n",
    "        elif isinstance(y, PublicTensor):\n",
    "            shares0 = (x.shares0 + y.values) % Q\n",
    "            shares1 =  x.shares1\n",
    "            return PrivateTensor(shares0, shares1)\n",
    "    \n",
    "    def __sub__(x, y):\n",
    "        if isinstance(y, PrivateTensor):\n",
    "            shares0 = (x.shares0 - y.shares0) % Q\n",
    "            shares1 = (x.shares1 - y.shares1) % Q\n",
    "            return PrivateTensor(shares0, shares1)\n",
    "        elif isinstance(y, PublicTensor):\n",
    "            shares0 = (x.shares0 - y.values) % Q\n",
    "            shares1 =  x.shares1\n",
    "            return PrivateTensor(shares0, shares1)\n",
    "    \n",
    "    def __mul__(x, y):\n",
    "        if isinstance(y, PrivateTensor):\n",
    "            assert x.shares0.shape == x.shares1.shape == y.shares0.shape == y.shares1.shape\n",
    "            a, b, ab = generate_mul_triple(x.shares0.shape)\n",
    "            alpha = (x - a).reveal()\n",
    "            beta  = (y - b).reveal()\n",
    "            return alpha*beta + alpha*b + a*beta + ab\n",
    "        elif isinstance(y, PublicTensor):\n",
    "            shares0 = (x.shares0 * y.values) % Q\n",
    "            shares1 = (x.shares1 * y.values) % Q\n",
    "            return PrivateTensor(shares0, shares1)\n",
    "        \n",
    "    def dot(x, y):\n",
    "        if isinstance(y, PrivateTensor):\n",
    "            assert x.shares0.shape == x.shares1.shape \n",
    "            assert y.shares0.shape == y.shares1.shape\n",
    "            m = x.shares0.shape[0]\n",
    "            n = x.shares0.shape[1]\n",
    "            o = y.shares0.shape[1]\n",
    "            assert n == y.shares0.shape[0]\n",
    "            a, b, ab = generate_dot_triple(m, n, o)\n",
    "            alpha = (x - a).reveal()\n",
    "            beta  = (y - b).reveal()\n",
    "            return alpha.dot(beta) + alpha.dot(b) + a.dot(beta) + ab\n",
    "        elif isinstance(y, PublicTensor):\n",
    "            shares0 = x.shares0.dot(y.values) % Q\n",
    "            shares1 = x.shares1.dot(y.values) % Q\n",
    "            return PrivateTensor(shares0, shares1)\n",
    "        \n",
    "    def transpose(self):\n",
    "        return PrivateTensor(self.shares0.T, self.shares1.T)\n",
    "    \n",
    "    def sum0(self):\n",
    "        shares0 = self.shares0.sum(axis=0, keepdims=True) % Q\n",
    "        shares1 = self.shares1.sum(axis=0, keepdims=True) % Q\n",
    "        return PrivateTensor(shares0, shares1)"
   ]
  },
  {
   "cell_type": "code",
   "execution_count": 9,
   "metadata": {},
   "outputs": [
    {
     "name": "stdout",
     "output_type": "stream",
     "text": [
      "PrivateTensor([[  6.]\n",
      " [  8.]\n",
      " [ 10.]\n",
      " [ 12.]])\n",
      "PrivateTensor([[  5.]\n",
      " [ 12.]\n",
      " [ 21.]\n",
      " [ 32.]])\n",
      "PrivateTensor([[  5.   6.   7.   8.]\n",
      " [ 10.  12.  14.  16.]\n",
      " [ 15.  18.  21.  24.]\n",
      " [ 20.  24.  28.  32.]])\n",
      "PrivateTensor([[ 50.  60.  70.  80.]])\n"
     ]
    }
   ],
   "source": [
    "x = PrivateTensor.load(np.array([1,2,3,4]).reshape(4,1))\n",
    "y = PrivateTensor.load(np.array([5,6,7,8]).reshape(4,1))\n",
    "z = x + y; print(z)\n",
    "z = (x * y).truncate(); print(z)\n",
    "z = x.dot(y.transpose()).truncate(); print(z)\n",
    "z = z.sum0(); print(z)"
   ]
  },
  {
   "cell_type": "code",
   "execution_count": 10,
   "metadata": {},
   "outputs": [
    {
     "name": "stdout",
     "output_type": "stream",
     "text": [
      "[[ 0  1  2  3]\n",
      " [ 4  5  6  7]\n",
      " [ 8  9 10 11]\n",
      " [12 13 14 15]] [[24 28 32 36]]\n"
     ]
    }
   ],
   "source": [
    "x = np.array(np.arange(16)).reshape(4,4)\n",
    "y = x.sum(axis=0, keepdims=True)\n",
    "print(x, y)"
   ]
  },
  {
   "cell_type": "code",
   "execution_count": null,
   "metadata": {},
   "outputs": [],
   "source": []
  }
 ],
 "metadata": {
  "kernelspec": {
   "display_name": "Python 3",
   "language": "python",
   "name": "python3"
  },
  "language_info": {
   "codemirror_mode": {
    "name": "ipython",
    "version": 3
   },
   "file_extension": ".py",
   "mimetype": "text/x-python",
   "name": "python",
   "nbconvert_exporter": "python",
   "pygments_lexer": "ipython3",
   "version": "3.6.2"
  }
 },
 "nbformat": 4,
 "nbformat_minor": 2
}
